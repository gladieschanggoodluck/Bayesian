{
 "cells": [
  {
   "cell_type": "markdown",
   "metadata": {},
   "source": [
    "## Homework 3:\n",
    "### Sampling Methods"
   ]
  },
  {
   "cell_type": "markdown",
   "metadata": {},
   "source": [
    "1. (20) Show that the Metropolis-Hastings algorithm as described in class\n",
    "and in [1] satisfies detailed balance."
   ]
  },
  {
   "cell_type": "markdown",
   "metadata": {},
   "source": [
    "2. (20) Let X ∼ N(µ, Σ) where µ = (1, 1) and\n",
    "Σ =$$\\begin{bmatrix} 1 & -0.5 \\\\ -0.5 & 1 \\end{bmatrix}$$\n",
    "Implement a Gibbs sampling algorithm for this 2D Gaussian. Through\n",
    "plots show three runs of your algorithm as 1D histograms in each of the\n",
    "two dimensions overlaid on the plots of the actual marginal distributions.\n",
    "Indicate how many iterations are in each plot and how you determined\n",
    "convergence.\n"
   ]
  },
  {
   "cell_type": "markdown",
   "metadata": {},
   "source": [
    "3. (20) With the CHD data set (CHDdata.csv ) from the previous homework,\n",
    "develop a sampling based estimate for the posterior distributions of the\n",
    "parameters in a main effects logistic regression model. Use all predictor\n",
    "variables in the data set and standardize all of the numeric, continuous\n",
    "predictors using the mean and standard deviation. For the continuous\n",
    "predictors, use a Gaussian prior with a mean vector of 0 and the identity\n",
    "matrix as the variance-covariance matrix. For the categorical predictors,\n",
    "use either a flat beta or Dirichlet, as appropriate. For results, show plots\n",
    "(either histograms or density plots) of the posterior marginals for each of\n",
    "the regression model parameters."
   ]
  },
  {
   "cell_type": "markdown",
   "metadata": {},
   "source": [
    "4. (20) Expand problem 3 to consider two other models with fewer predictor\n",
    "variables or with nonlinear transformations of one or more of the the\n",
    "predictor variables. Use WAIC to recommend which of these models to\n",
    "use.\n"
   ]
  },
  {
   "cell_type": "markdown",
   "metadata": {},
   "source": [
    "5. (20) With the data set bangladesh.csv, develop a pooled, a no-pooled, and\n",
    "a hierarchical model for all districts to predict contraception usage. Do\n",
    "not use any other predictor variable besides district. Plot each of these\n",
    "predictions with district labels on one axis and the expected proportion\n",
    "of women using contraception on the other. Explain these results.\n"
   ]
  }
 ],
 "metadata": {
  "kernelspec": {
   "display_name": "Python 3",
   "language": "python",
   "name": "python3"
  },
  "language_info": {
   "codemirror_mode": {
    "name": "ipython",
    "version": 3
   },
   "file_extension": ".py",
   "mimetype": "text/x-python",
   "name": "python",
   "nbconvert_exporter": "python",
   "pygments_lexer": "ipython3",
   "version": "3.8.3"
  }
 },
 "nbformat": 4,
 "nbformat_minor": 4
}
