{
 "cells": [
  {
   "cell_type": "markdown",
   "metadata": {},
   "source": [
    "## Problem 4"
   ]
  },
  {
   "cell_type": "code",
   "execution_count": 93,
   "metadata": {},
   "outputs": [],
   "source": [
    "### Summary table (a, b) = (1, 1)"
   ]
  },
  {
   "cell_type": "code",
   "execution_count": 94,
   "metadata": {},
   "outputs": [],
   "source": [
    "## adopting a=1, b=1"
   ]
  },
  {
   "cell_type": "code",
   "execution_count": 95,
   "metadata": {},
   "outputs": [],
   "source": [
    "import pandas as pd\n",
    "import numpy as np\n",
    "from scipy.stats import binom\n",
    "from scipy.stats import beta\n",
    "import seaborn as sns\n",
    "import matplotlib.pyplot as plt\n",
    "fname = 'ArtHistBooks.csv'"
   ]
  },
  {
   "cell_type": "code",
   "execution_count": 96,
   "metadata": {},
   "outputs": [],
   "source": [
    "df = pd.read_csv(fname)"
   ]
  },
  {
   "cell_type": "code",
   "execution_count": 97,
   "metadata": {},
   "outputs": [
    {
     "data": {
      "text/html": [
       "<div>\n",
       "<style scoped>\n",
       "    .dataframe tbody tr th:only-of-type {\n",
       "        vertical-align: middle;\n",
       "    }\n",
       "\n",
       "    .dataframe tbody tr th {\n",
       "        vertical-align: top;\n",
       "    }\n",
       "\n",
       "    .dataframe thead th {\n",
       "        text-align: right;\n",
       "    }\n",
       "</style>\n",
       "<table border=\"1\" class=\"dataframe\">\n",
       "  <thead>\n",
       "    <tr style=\"text-align: right;\">\n",
       "      <th></th>\n",
       "      <th>ArtBooks</th>\n",
       "      <th>HistoryBooks</th>\n",
       "      <th>TableBooks</th>\n",
       "      <th>Purchase</th>\n",
       "    </tr>\n",
       "  </thead>\n",
       "  <tbody>\n",
       "    <tr>\n",
       "      <th>0</th>\n",
       "      <td>0</td>\n",
       "      <td>0</td>\n",
       "      <td>1</td>\n",
       "      <td>0</td>\n",
       "    </tr>\n",
       "    <tr>\n",
       "      <th>1</th>\n",
       "      <td>0</td>\n",
       "      <td>1</td>\n",
       "      <td>0</td>\n",
       "      <td>0</td>\n",
       "    </tr>\n",
       "    <tr>\n",
       "      <th>2</th>\n",
       "      <td>0</td>\n",
       "      <td>0</td>\n",
       "      <td>0</td>\n",
       "      <td>0</td>\n",
       "    </tr>\n",
       "    <tr>\n",
       "      <th>3</th>\n",
       "      <td>1</td>\n",
       "      <td>0</td>\n",
       "      <td>1</td>\n",
       "      <td>0</td>\n",
       "    </tr>\n",
       "    <tr>\n",
       "      <th>4</th>\n",
       "      <td>1</td>\n",
       "      <td>1</td>\n",
       "      <td>1</td>\n",
       "      <td>0</td>\n",
       "    </tr>\n",
       "    <tr>\n",
       "      <th>...</th>\n",
       "      <td>...</td>\n",
       "      <td>...</td>\n",
       "      <td>...</td>\n",
       "      <td>...</td>\n",
       "    </tr>\n",
       "    <tr>\n",
       "      <th>995</th>\n",
       "      <td>1</td>\n",
       "      <td>1</td>\n",
       "      <td>0</td>\n",
       "      <td>1</td>\n",
       "    </tr>\n",
       "    <tr>\n",
       "      <th>996</th>\n",
       "      <td>0</td>\n",
       "      <td>1</td>\n",
       "      <td>0</td>\n",
       "      <td>0</td>\n",
       "    </tr>\n",
       "    <tr>\n",
       "      <th>997</th>\n",
       "      <td>1</td>\n",
       "      <td>0</td>\n",
       "      <td>1</td>\n",
       "      <td>0</td>\n",
       "    </tr>\n",
       "    <tr>\n",
       "      <th>998</th>\n",
       "      <td>1</td>\n",
       "      <td>1</td>\n",
       "      <td>0</td>\n",
       "      <td>0</td>\n",
       "    </tr>\n",
       "    <tr>\n",
       "      <th>999</th>\n",
       "      <td>0</td>\n",
       "      <td>1</td>\n",
       "      <td>0</td>\n",
       "      <td>0</td>\n",
       "    </tr>\n",
       "  </tbody>\n",
       "</table>\n",
       "<p>1000 rows × 4 columns</p>\n",
       "</div>"
      ],
      "text/plain": [
       "     ArtBooks  HistoryBooks  TableBooks  Purchase\n",
       "0           0             0           1         0\n",
       "1           0             1           0         0\n",
       "2           0             0           0         0\n",
       "3           1             0           1         0\n",
       "4           1             1           1         0\n",
       "..        ...           ...         ...       ...\n",
       "995         1             1           0         1\n",
       "996         0             1           0         0\n",
       "997         1             0           1         0\n",
       "998         1             1           0         0\n",
       "999         0             1           0         0\n",
       "\n",
       "[1000 rows x 4 columns]"
      ]
     },
     "execution_count": 97,
     "metadata": {},
     "output_type": "execute_result"
    }
   ],
   "source": [
    "df"
   ]
  },
  {
   "cell_type": "code",
   "execution_count": 98,
   "metadata": {},
   "outputs": [
    {
     "data": {
      "text/plain": [
       "0      0\n",
       "1      0\n",
       "2      0\n",
       "3      1\n",
       "4      1\n",
       "      ..\n",
       "995    1\n",
       "996    0\n",
       "997    1\n",
       "998    1\n",
       "999    0\n",
       "Name: ArtBooks, Length: 1000, dtype: int64"
      ]
     },
     "execution_count": 98,
     "metadata": {},
     "output_type": "execute_result"
    }
   ],
   "source": [
    "df.ArtBooks"
   ]
  },
  {
   "cell_type": "code",
   "execution_count": 99,
   "metadata": {},
   "outputs": [],
   "source": [
    "def posterior_from_conjugate_prior(**kwargs):\n",
    "    if kwargs['Likelihood_Dist_Type'] == 'Binomial':\n",
    "        # Get the parameters for the likelihood and prior distribution from the key word arguments.\n",
    "        x = kwargs['x'] # possible values for p, range across [0, 1]\n",
    "        n = kwargs['n'] # number of trials (number of customers)\n",
    "        k = kwargs['k'] # number of successes (purchases)\n",
    "        a = kwargs['a'] # alpha parameters on the prior\n",
    "        b = kwargs['b'] # beta parameter on the prior\n",
    "        \n",
    "        print(f'a_prime = {k + a}.')\n",
    "        print(f'b_prime = {n - k + b}.')\n",
    "        Likelihood = binom.pmf(p=x, n=n, k=k)\n",
    "        Prior = beta.pdf(x=x, a=a, b=b)\n",
    "        Posterior = beta.pdf(x=x, a=k+a, b=n-k+b)\n",
    "        \n",
    "        return [Prior, Likelihood, Posterior]\n",
    "                    \n",
    "    else:\n",
    "        print('Distribution type not supported.')    "
   ]
  },
  {
   "cell_type": "markdown",
   "metadata": {},
   "source": [
    "## Prior: Artbooks"
   ]
  },
  {
   "cell_type": "code",
   "execution_count": 100,
   "metadata": {},
   "outputs": [
    {
     "name": "stdout",
     "output_type": "stream",
     "text": [
      "a_prime = 302.\n",
      "b_prime = 700.\n"
     ]
    },
    {
     "data": {
      "image/png": "[encoded data removed]",
      "text/plain": [
       "<Figure size 432x288 with 1 Axes>"
      ]
     },
     "metadata": {
      "needs_background": "light"
     },
     "output_type": "display_data"
    },
    {
     "data": {
      "image/png": "[encoded data removed]",
      "text/plain": [
       "<Figure size 432x288 with 1 Axes>"
      ]
     },
     "metadata": {
      "needs_background": "light"
     },
     "output_type": "display_data"
    },
    {
     "data": {
      "image/png": "[encoded data removed]",
      "text/plain": [
       "<Figure size 432x288 with 1 Axes>"
      ]
     },
     "metadata": {
      "needs_background": "light"
     },
     "output_type": "display_data"
    }
   ],
   "source": [
    "import numpy as np\n",
    "x = np.arange(0, 1, 0.01)\n",
    "num_trials= len(df.ArtBooks) #num_trials = 1000\n",
    "num_successes = np.sum(df.ArtBooks > 0)\n",
    "\n",
    "Prior, Likelihood, Posterior = posterior_from_conjugate_prior(\n",
    "    Likelihood_Dist_Type='Binomial', \n",
    "    x=x, \n",
    "    n=num_trials, \n",
    "    k=num_successes, \n",
    "    a=1, \n",
    "    b=1)    \n",
    "\n",
    "ax1 = sns.lineplot(x, Prior, color='red')\n",
    "ax1.set(xlabel='x', ylabel='f(x)', title=f'Prior PDF');\n",
    "plt.legend(labels=['Prior PDF']);\n",
    "plt.show()\n",
    "\n",
    "ax2 = sns.lineplot(x, Likelihood)\n",
    "ax2.set(xlabel='x', ylabel='f(x)', title=f'Likelihood Function');\n",
    "plt.legend(labels=['Likelihood Function']);\n",
    "plt.show()\n",
    "\n",
    "ax3 = sns.lineplot(x, Posterior, color='orange')\n",
    "ax3.set(xlabel='x', ylabel='f(x)', title=f'Posterior PDF');\n",
    "plt.legend(labels=['Posterior PDF']);\n",
    "plt.show()"
   ]
  },
  {
   "cell_type": "code",
   "execution_count": 101,
   "metadata": {},
   "outputs": [
    {
     "data": {
      "text/plain": [
       "30"
      ]
     },
     "execution_count": 101,
     "metadata": {},
     "output_type": "execute_result"
    }
   ],
   "source": [
    "art_weight = np.argmax(Posterior)\n",
    "art_weight"
   ]
  },
  {
   "cell_type": "markdown",
   "metadata": {},
   "source": [
    "## Prior: HistoryBooks"
   ]
  },
  {
   "cell_type": "code",
   "execution_count": 102,
   "metadata": {},
   "outputs": [
    {
     "name": "stdout",
     "output_type": "stream",
     "text": [
      "a_prime = 544.\n",
      "b_prime = 458.\n"
     ]
    },
    {
     "data": {
      "image/png": "[encoded data removed]",
      "text/plain": [
       "<Figure size 432x288 with 1 Axes>"
      ]
     },
     "metadata": {
      "needs_background": "light"
     },
     "output_type": "display_data"
    },
    {
     "data": {
      "image/png": "[encoded data removed]",
      "text/plain": [
       "<Figure size 432x288 with 1 Axes>"
      ]
     },
     "metadata": {
      "needs_background": "light"
     },
     "output_type": "display_data"
    },
    {
     "data": {
      "image/png": "[encoded data removed]",
      "text/plain": [
       "<Figure size 432x288 with 1 Axes>"
      ]
     },
     "metadata": {
      "needs_background": "light"
     },
     "output_type": "display_data"
    }
   ],
   "source": [
    "import numpy as np\n",
    "x = np.arange(0, 1, 0.01)\n",
    "num_trials= len(df.HistoryBooks) #num_trials = 1000\n",
    "num_successes = np.sum(df.HistoryBooks > 0)\n",
    "\n",
    "Prior, Likelihood, Posterior = posterior_from_conjugate_prior(\n",
    "    Likelihood_Dist_Type='Binomial', \n",
    "    x=x, \n",
    "    n=num_trials, \n",
    "    k=num_successes, \n",
    "    a=1, \n",
    "    b=1)    \n",
    "\n",
    "ax1 = sns.lineplot(x, Prior, color='red')\n",
    "ax1.set(xlabel='x', ylabel='f(x)', title=f'Prior PDF');\n",
    "plt.legend(labels=['Prior PDF']);\n",
    "plt.show()\n",
    "\n",
    "ax2 = sns.lineplot(x, Likelihood)\n",
    "ax2.set(xlabel='x', ylabel='f(x)', title=f'Likelihood Function');\n",
    "plt.legend(labels=['Likelihood Function']);\n",
    "plt.show()\n",
    "\n",
    "ax3 = sns.lineplot(x, Posterior, color='orange')\n",
    "ax3.set(xlabel='x', ylabel='f(x)', title=f'Posterior PDF');\n",
    "plt.legend(labels=['Posterior PDF']);\n",
    "plt.show()"
   ]
  },
  {
   "cell_type": "code",
   "execution_count": 103,
   "metadata": {},
   "outputs": [
    {
     "data": {
      "text/plain": [
       "54"
      ]
     },
     "execution_count": 103,
     "metadata": {},
     "output_type": "execute_result"
    }
   ],
   "source": [
    "h_weight = np.argmax(Posterior)\n",
    "h_weight"
   ]
  },
  {
   "cell_type": "markdown",
   "metadata": {},
   "source": [
    "## Prior: TableBooks"
   ]
  },
  {
   "cell_type": "code",
   "execution_count": 104,
   "metadata": {},
   "outputs": [
    {
     "name": "stdout",
     "output_type": "stream",
     "text": [
      "a_prime = 381.\n",
      "b_prime = 621.\n"
     ]
    },
    {
     "data": {
      "image/png": "[encoded data removed]",
      "text/plain": [
       "<Figure size 432x288 with 1 Axes>"
      ]
     },
     "metadata": {
      "needs_background": "light"
     },
     "output_type": "display_data"
    },
    {
     "data": {
      "image/png": "[encoded data removed]",
      "text/plain": [
       "<Figure size 432x288 with 1 Axes>"
      ]
     },
     "metadata": {
      "needs_background": "light"
     },
     "output_type": "display_data"
    },
    {
     "data": {
      "image/png": "[encoded data removed]",
      "text/plain": [
       "<Figure size 432x288 with 1 Axes>"
      ]
     },
     "metadata": {
      "needs_background": "light"
     },
     "output_type": "display_data"
    }
   ],
   "source": [
    "import numpy as np\n",
    "x = np.arange(0, 1, 0.01)\n",
    "num_trials= len(df.TableBooks) #num_trials = 1000\n",
    "num_successes = np.sum(df.TableBooks > 0)\n",
    "\n",
    "Prior, Likelihood, Posterior = posterior_from_conjugate_prior(\n",
    "    Likelihood_Dist_Type='Binomial', \n",
    "    x=x, \n",
    "    n=num_trials, \n",
    "    k=num_successes, \n",
    "    a=1, \n",
    "    b=1)    \n",
    "\n",
    "ax1 = sns.lineplot(x, Prior, color='red')\n",
    "ax1.set(xlabel='x', ylabel='f(x)', title=f'Prior PDF');\n",
    "plt.legend(labels=['Prior PDF']);\n",
    "plt.show()\n",
    "\n",
    "ax2 = sns.lineplot(x, Likelihood)\n",
    "ax2.set(xlabel='x', ylabel='f(x)', title=f'Likelihood Function');\n",
    "plt.legend(labels=['Likelihood Function']);\n",
    "plt.show()\n",
    "\n",
    "ax3 = sns.lineplot(x, Posterior, color='orange')\n",
    "ax3.set(xlabel='x', ylabel='f(x)', title=f'Posterior PDF');\n",
    "plt.legend(labels=['Posterior PDF']);\n",
    "plt.show()"
   ]
  },
  {
   "cell_type": "code",
   "execution_count": 105,
   "metadata": {},
   "outputs": [
    {
     "data": {
      "text/plain": [
       "38"
      ]
     },
     "execution_count": 105,
     "metadata": {},
     "output_type": "execute_result"
    }
   ],
   "source": [
    "t_weight = np.argmax(Posterior)\n",
    "t_weight"
   ]
  },
  {
   "cell_type": "code",
   "execution_count": 106,
   "metadata": {},
   "outputs": [],
   "source": [
    "num_trials = len(df[(df[\"ArtBooks\"] == 0) & (df[\"HistoryBooks\"] == 0) & (df[\"TableBooks\"] == 0)])"
   ]
  },
  {
   "cell_type": "markdown",
   "metadata": {},
   "source": [
    "## Prior: Artboks and HistoryBooks"
   ]
  },
  {
   "cell_type": "code",
   "execution_count": 107,
   "metadata": {},
   "outputs": [
    {
     "name": "stdout",
     "output_type": "stream",
     "text": [
      "a_prime = 172.\n",
      "b_prime = 157.\n"
     ]
    },
    {
     "data": {
      "image/png": "[encoded data removed]",
      "text/plain": [
       "<Figure size 432x288 with 1 Axes>"
      ]
     },
     "metadata": {
      "needs_background": "light"
     },
     "output_type": "display_data"
    },
    {
     "data": {
      "image/png": "[encoded data removed]",
      "text/plain": [
       "<Figure size 432x288 with 1 Axes>"
      ]
     },
     "metadata": {
      "needs_background": "light"
     },
     "output_type": "display_data"
    },
    {
     "data": {
      "image/png": "[encoded data removed]",
      "text/plain": [
       "<Figure size 432x288 with 1 Axes>"
      ]
     },
     "metadata": {
      "needs_background": "light"
     },
     "output_type": "display_data"
    }
   ],
   "source": [
    "import numpy as np\n",
    "x = np.arange(0, 1, 0.01)\n",
    "num_trials = len(df[(df[\"ArtBooks\"] == 0) & (df[\"HistoryBooks\"] == 0)]) #num_trials = 1000\n",
    "num_successes = np.sum((df.ArtBooks > 0) & (df.HistoryBooks))\n",
    "\n",
    "Prior, Likelihood, Posterior = posterior_from_conjugate_prior(\n",
    "    Likelihood_Dist_Type='Binomial', \n",
    "    x=x, \n",
    "    n=num_trials, \n",
    "    k=num_successes, \n",
    "    a=1, \n",
    "    b=1)    \n",
    "\n",
    "ax1 = sns.lineplot(x, Prior, color='red')\n",
    "ax1.set(xlabel='x', ylabel='f(x)', title=f'Prior PDF');\n",
    "plt.legend(labels=['Prior PDF']);\n",
    "plt.show()\n",
    "\n",
    "ax2 = sns.lineplot(x, Likelihood)\n",
    "ax2.set(xlabel='x', ylabel='f(x)', title=f'Likelihood Function');\n",
    "plt.legend(labels=['Likelihood Function']);\n",
    "plt.show()\n",
    "\n",
    "ax3 = sns.lineplot(x, Posterior, color='orange')\n",
    "ax3.set(xlabel='x', ylabel='f(x)', title=f'Posterior PDF');\n",
    "plt.legend(labels=['Posterior PDF']);\n",
    "plt.show()"
   ]
  },
  {
   "cell_type": "code",
   "execution_count": 108,
   "metadata": {},
   "outputs": [
    {
     "data": {
      "text/plain": [
       "52"
      ]
     },
     "execution_count": 108,
     "metadata": {},
     "output_type": "execute_result"
    }
   ],
   "source": [
    "ah_weight = np.argmax(Posterior)\n",
    "ah_weight"
   ]
  },
  {
   "cell_type": "markdown",
   "metadata": {},
   "source": [
    "## Prior: Artboks and TableBooks"
   ]
  },
  {
   "cell_type": "code",
   "execution_count": 109,
   "metadata": {},
   "outputs": [
    {
     "name": "stdout",
     "output_type": "stream",
     "text": [
      "a_prime = 126.\n",
      "b_prime = 320.\n"
     ]
    },
    {
     "data": {
      "image/png": "[encoded data removed]",
      "text/plain": [
       "<Figure size 432x288 with 1 Axes>"
      ]
     },
     "metadata": {
      "needs_background": "light"
     },
     "output_type": "display_data"
    },
    {
     "data": {
      "image/png": "[encoded data removed]",
      "text/plain": [
       "<Figure size 432x288 with 1 Axes>"
      ]
     },
     "metadata": {
      "needs_background": "light"
     },
     "output_type": "display_data"
    },
    {
     "data": {
      "image/png": "[encoded data removed]",
      "text/plain": [
       "<Figure size 432x288 with 1 Axes>"
      ]
     },
     "metadata": {
      "needs_background": "light"
     },
     "output_type": "display_data"
    }
   ],
   "source": [
    "import numpy as np\n",
    "x = np.arange(0, 1, 0.01)\n",
    "num_trials= len(df[(df[\"ArtBooks\"] == 0)  & (df[\"TableBooks\"] == 0)])#num_trials = 1000\n",
    "num_successes = np.sum((df.ArtBooks > 0) & (df.TableBooks))\n",
    "\n",
    "Prior, Likelihood, Posterior = posterior_from_conjugate_prior(\n",
    "    Likelihood_Dist_Type='Binomial', \n",
    "    x=x, \n",
    "    n=num_trials, \n",
    "    k=num_successes, \n",
    "    a=1, \n",
    "    b=1)    \n",
    "\n",
    "ax1 = sns.lineplot(x, Prior, color='red')\n",
    "ax1.set(xlabel='x', ylabel='f(x)', title=f'Prior PDF');\n",
    "plt.legend(labels=['Prior PDF']);\n",
    "plt.show()\n",
    "\n",
    "ax2 = sns.lineplot(x, Likelihood)\n",
    "ax2.set(xlabel='x', ylabel='f(x)', title=f'Likelihood Function');\n",
    "plt.legend(labels=['Likelihood Function']);\n",
    "plt.show()\n",
    "\n",
    "ax3 = sns.lineplot(x, Posterior, color='orange')\n",
    "ax3.set(xlabel='x', ylabel='f(x)', title=f'Posterior PDF');\n",
    "plt.legend(labels=['Posterior PDF']);\n",
    "plt.show()"
   ]
  },
  {
   "cell_type": "code",
   "execution_count": 110,
   "metadata": {},
   "outputs": [
    {
     "data": {
      "text/plain": [
       "28"
      ]
     },
     "execution_count": 110,
     "metadata": {},
     "output_type": "execute_result"
    }
   ],
   "source": [
    "at_weight = np.argmax(Posterior)\n",
    "at_weight"
   ]
  },
  {
   "cell_type": "markdown",
   "metadata": {},
   "source": [
    "## Prior: HistoryBooks and TableBooks"
   ]
  },
  {
   "cell_type": "code",
   "execution_count": 111,
   "metadata": {},
   "outputs": [
    {
     "name": "stdout",
     "output_type": "stream",
     "text": [
      "a_prime = 193.\n",
      "b_prime = 78.\n"
     ]
    },
    {
     "data": {
      "image/png": "[encoded data removed]",
      "text/plain": [
       "<Figure size 432x288 with 1 Axes>"
      ]
     },
     "metadata": {
      "needs_background": "light"
     },
     "output_type": "display_data"
    },
    {
     "data": {
      "image/png": "[encoded data removed]",
      "text/plain": [
       "<Figure size 432x288 with 1 Axes>"
      ]
     },
     "metadata": {
      "needs_background": "light"
     },
     "output_type": "display_data"
    },
    {
     "data": {
      "image/png": "[encoded data removed]",
      "text/plain": [
       "<Figure size 432x288 with 1 Axes>"
      ]
     },
     "metadata": {
      "needs_background": "light"
     },
     "output_type": "display_data"
    }
   ],
   "source": [
    "import numpy as np\n",
    "x = np.arange(0, 1, 0.01)\n",
    "num_trials= len(df[(df[\"HistoryBooks\"] == 0) & (df[\"TableBooks\"] == 0)]) #num_trials = 1000\n",
    "num_successes = np.sum((df.HistoryBooks > 0) & (df.TableBooks > 0 ))\n",
    "\n",
    "Prior, Likelihood, Posterior = posterior_from_conjugate_prior(\n",
    "    Likelihood_Dist_Type='Binomial', \n",
    "    x=x, \n",
    "    n=num_trials, \n",
    "    k=num_successes, \n",
    "    a=1, \n",
    "    b=1)    \n",
    "\n",
    "ax1 = sns.lineplot(x, Prior, color='red')\n",
    "ax1.set(xlabel='x', ylabel='f(x)', title=f'Prior PDF');\n",
    "plt.legend(labels=['Prior PDF']);\n",
    "plt.show()\n",
    "\n",
    "ax2 = sns.lineplot(x, Likelihood)\n",
    "ax2.set(xlabel='x', ylabel='f(x)', title=f'Likelihood Function');\n",
    "plt.legend(labels=['Likelihood Function']);\n",
    "plt.show()\n",
    "\n",
    "ax3 = sns.lineplot(x, Posterior, color='orange')\n",
    "ax3.set(xlabel='x', ylabel='f(x)', title=f'Posterior PDF');\n",
    "plt.legend(labels=['Posterior PDF']);\n",
    "plt.show()"
   ]
  },
  {
   "cell_type": "code",
   "execution_count": 112,
   "metadata": {},
   "outputs": [
    {
     "data": {
      "text/plain": [
       "71"
      ]
     },
     "execution_count": 112,
     "metadata": {},
     "output_type": "execute_result"
    }
   ],
   "source": [
    "ht_weight = np.argmax(Posterior)\n",
    "ht_weight"
   ]
  },
  {
   "cell_type": "markdown",
   "metadata": {},
   "source": [
    "## Prior: ArtBooks and HistoryBooks and TableBooks"
   ]
  },
  {
   "cell_type": "code",
   "execution_count": 113,
   "metadata": {},
   "outputs": [
    {
     "name": "stdout",
     "output_type": "stream",
     "text": [
      "a_prime = 72.\n",
      "b_prime = 123.\n"
     ]
    },
    {
     "data": {
      "image/png": "[encoded data removed]",
      "text/plain": [
       "<Figure size 432x288 with 1 Axes>"
      ]
     },
     "metadata": {
      "needs_background": "light"
     },
     "output_type": "display_data"
    },
    {
     "data": {
      "image/png": "[encoded data removed]",
      "text/plain": [
       "<Figure size 432x288 with 1 Axes>"
      ]
     },
     "metadata": {
      "needs_background": "light"
     },
     "output_type": "display_data"
    },
    {
     "data": {
      "image/png": "[encoded data removed]",
      "text/plain": [
       "<Figure size 432x288 with 1 Axes>"
      ]
     },
     "metadata": {
      "needs_background": "light"
     },
     "output_type": "display_data"
    }
   ],
   "source": [
    "import numpy as np\n",
    "x = np.arange(0, 1, 0.01)\n",
    "num_trials= len(df[(df[\"ArtBooks\"] == 0) & (df[\"HistoryBooks\"] == 0) & (df[\"TableBooks\"] == 0)]) #num_trials = 1000\n",
    "num_successes = np.sum((df.HistoryBooks > 0) & (df.TableBooks > 0) & (df.ArtBooks > 0) )\n",
    "\n",
    "Prior, Likelihood, Posterior = posterior_from_conjugate_prior(\n",
    "    Likelihood_Dist_Type='Binomial', \n",
    "    x=x, \n",
    "    n=num_trials, \n",
    "    k=num_successes, \n",
    "    a=1, \n",
    "    b=1)    \n",
    "\n",
    "ax1 = sns.lineplot(x, Prior, color='red')\n",
    "ax1.set(xlabel='x', ylabel='f(x)', title=f'Prior PDF');\n",
    "plt.legend(labels=['Prior PDF']);\n",
    "plt.show()\n",
    "\n",
    "ax2 = sns.lineplot(x, Likelihood)\n",
    "ax2.set(xlabel='x', ylabel='f(x)', title=f'Likelihood Function');\n",
    "plt.legend(labels=['Likelihood Function']);\n",
    "plt.show()\n",
    "\n",
    "ax3 = sns.lineplot(x, Posterior, color='orange')\n",
    "ax3.set(xlabel='x', ylabel='f(x)', title=f'Posterior PDF');\n",
    "plt.legend(labels=['Posterior PDF']);\n",
    "plt.show()"
   ]
  },
  {
   "cell_type": "code",
   "execution_count": 114,
   "metadata": {},
   "outputs": [
    {
     "data": {
      "text/plain": [
       "37"
      ]
     },
     "execution_count": 114,
     "metadata": {},
     "output_type": "execute_result"
    }
   ],
   "source": [
    "aht_weight = np.argmax(Posterior)\n",
    "aht_weight"
   ]
  },
  {
   "cell_type": "code",
   "execution_count": 115,
   "metadata": {},
   "outputs": [],
   "source": [
    "## a = 1, b= 100"
   ]
  },
  {
   "cell_type": "markdown",
   "metadata": {},
   "source": [
    "## Prior: Artbooks"
   ]
  },
  {
   "cell_type": "code",
   "execution_count": 116,
   "metadata": {},
   "outputs": [
    {
     "name": "stdout",
     "output_type": "stream",
     "text": [
      "a_prime = 302.\n",
      "b_prime = 799.\n"
     ]
    },
    {
     "data": {
      "image/png": "[encoded data removed]",
      "text/plain": [
       "<Figure size 432x288 with 1 Axes>"
      ]
     },
     "metadata": {
      "needs_background": "light"
     },
     "output_type": "display_data"
    },
    {
     "data": {
      "image/png": "[encoded data removed]",
      "text/plain": [
       "<Figure size 432x288 with 1 Axes>"
      ]
     },
     "metadata": {
      "needs_background": "light"
     },
     "output_type": "display_data"
    },
    {
     "data": {
      "image/png": "[encoded data removed]",
      "text/plain": [
       "<Figure size 432x288 with 1 Axes>"
      ]
     },
     "metadata": {
      "needs_background": "light"
     },
     "output_type": "display_data"
    }
   ],
   "source": [
    "import numpy as np\n",
    "x = np.arange(0, 1, 0.01)\n",
    "num_trials= len(df.ArtBooks) #num_trials = 1000\n",
    "num_successes = np.sum(df.ArtBooks > 0)\n",
    "\n",
    "Prior, Likelihood, Posterior = posterior_from_conjugate_prior(\n",
    "    Likelihood_Dist_Type='Binomial', \n",
    "    x=x, \n",
    "    n=num_trials, \n",
    "    k=num_successes, \n",
    "    a=1, \n",
    "    b=100)    \n",
    "\n",
    "ax1 = sns.lineplot(x, Prior, color='red')\n",
    "ax1.set(xlabel='x', ylabel='f(x)', title=f'Prior PDF');\n",
    "plt.legend(labels=['Prior PDF']);\n",
    "plt.show()\n",
    "\n",
    "ax2 = sns.lineplot(x, Likelihood)\n",
    "ax2.set(xlabel='x', ylabel='f(x)', title=f'Likelihood Function');\n",
    "plt.legend(labels=['Likelihood Function']);\n",
    "plt.show()\n",
    "\n",
    "ax3 = sns.lineplot(x, Posterior, color='orange')\n",
    "ax3.set(xlabel='x', ylabel='f(x)', title=f'Posterior PDF');\n",
    "plt.legend(labels=['Posterior PDF']);\n",
    "plt.show()"
   ]
  },
  {
   "cell_type": "code",
   "execution_count": 117,
   "metadata": {},
   "outputs": [
    {
     "data": {
      "text/plain": [
       "27"
      ]
     },
     "execution_count": 117,
     "metadata": {},
     "output_type": "execute_result"
    }
   ],
   "source": [
    "art_weight_s = np.argmax(Posterior)\n",
    "art_weight_s"
   ]
  },
  {
   "cell_type": "markdown",
   "metadata": {},
   "source": [
    "## Prior: HistoryBooks"
   ]
  },
  {
   "cell_type": "code",
   "execution_count": 118,
   "metadata": {},
   "outputs": [
    {
     "name": "stdout",
     "output_type": "stream",
     "text": [
      "a_prime = 544.\n",
      "b_prime = 557.\n"
     ]
    },
    {
     "data": {
      "image/png": "[encoded data removed]",
      "text/plain": [
       "<Figure size 432x288 with 1 Axes>"
      ]
     },
     "metadata": {
      "needs_background": "light"
     },
     "output_type": "display_data"
    },
    {
     "data": {
      "image/png": "[encoded data removed]",
      "text/plain": [
       "<Figure size 432x288 with 1 Axes>"
      ]
     },
     "metadata": {
      "needs_background": "light"
     },
     "output_type": "display_data"
    },
    {
     "data": {
      "image/png": "[encoded data removed]",
      "text/plain": [
       "<Figure size 432x288 with 1 Axes>"
      ]
     },
     "metadata": {
      "needs_background": "light"
     },
     "output_type": "display_data"
    }
   ],
   "source": [
    "import numpy as np\n",
    "x = np.arange(0, 1, 0.01)\n",
    "num_trials= len(df.HistoryBooks) #num_trials = 1000\n",
    "num_successes = np.sum(df.HistoryBooks > 0)\n",
    "\n",
    "Prior, Likelihood, Posterior = posterior_from_conjugate_prior(\n",
    "    Likelihood_Dist_Type='Binomial', \n",
    "    x=x, \n",
    "    n=num_trials, \n",
    "    k=num_successes, \n",
    "    a=1, \n",
    "    b=100)    \n",
    "\n",
    "ax1 = sns.lineplot(x, Prior, color='red')\n",
    "ax1.set(xlabel='x', ylabel='f(x)', title=f'Prior PDF');\n",
    "plt.legend(labels=['Prior PDF']);\n",
    "plt.show()\n",
    "\n",
    "ax2 = sns.lineplot(x, Likelihood)\n",
    "ax2.set(xlabel='x', ylabel='f(x)', title=f'Likelihood Function');\n",
    "plt.legend(labels=['Likelihood Function']);\n",
    "plt.show()\n",
    "\n",
    "ax3 = sns.lineplot(x, Posterior, color='orange')\n",
    "ax3.set(xlabel='x', ylabel='f(x)', title=f'Posterior PDF');\n",
    "plt.legend(labels=['Posterior PDF']);\n",
    "plt.show()"
   ]
  },
  {
   "cell_type": "code",
   "execution_count": 119,
   "metadata": {},
   "outputs": [
    {
     "data": {
      "text/plain": [
       "49"
      ]
     },
     "execution_count": 119,
     "metadata": {},
     "output_type": "execute_result"
    }
   ],
   "source": [
    "h_weight_s = np.argmax(Posterior)\n",
    "h_weight_s"
   ]
  },
  {
   "cell_type": "markdown",
   "metadata": {},
   "source": [
    "## Prior: TableBooks"
   ]
  },
  {
   "cell_type": "code",
   "execution_count": 120,
   "metadata": {},
   "outputs": [
    {
     "name": "stdout",
     "output_type": "stream",
     "text": [
      "a_prime = 381.\n",
      "b_prime = 720.\n"
     ]
    },
    {
     "data": {
      "image/png": "[encoded data removed]",
      "text/plain": [
       "<Figure size 432x288 with 1 Axes>"
      ]
     },
     "metadata": {
      "needs_background": "light"
     },
     "output_type": "display_data"
    },
    {
     "data": {
      "image/png": "[encoded data removed]",
      "text/plain": [
       "<Figure size 432x288 with 1 Axes>"
      ]
     },
     "metadata": {
      "needs_background": "light"
     },
     "output_type": "display_data"
    },
    {
     "data": {
      "image/png": "[encoded data removed]",
      "text/plain": [
       "<Figure size 432x288 with 1 Axes>"
      ]
     },
     "metadata": {
      "needs_background": "light"
     },
     "output_type": "display_data"
    }
   ],
   "source": [
    "import numpy as np\n",
    "x = np.arange(0, 1, 0.01)\n",
    "num_trials= len(df.TableBooks) #num_trials = 1000\n",
    "num_successes = np.sum(df.TableBooks > 0)\n",
    "\n",
    "Prior, Likelihood, Posterior = posterior_from_conjugate_prior(\n",
    "    Likelihood_Dist_Type='Binomial', \n",
    "    x=x, \n",
    "    n=num_trials, \n",
    "    k=num_successes, \n",
    "    a=1, \n",
    "    b=100)    \n",
    "\n",
    "ax1 = sns.lineplot(x, Prior, color='red')\n",
    "ax1.set(xlabel='x', ylabel='f(x)', title=f'Prior PDF');\n",
    "plt.legend(labels=['Prior PDF']);\n",
    "plt.show()\n",
    "\n",
    "ax2 = sns.lineplot(x, Likelihood)\n",
    "ax2.set(xlabel='x', ylabel='f(x)', title=f'Likelihood Function');\n",
    "plt.legend(labels=['Likelihood Function']);\n",
    "plt.show()\n",
    "\n",
    "ax3 = sns.lineplot(x, Posterior, color='orange')\n",
    "ax3.set(xlabel='x', ylabel='f(x)', title=f'Posterior PDF');\n",
    "plt.legend(labels=['Posterior PDF']);\n",
    "plt.show()"
   ]
  },
  {
   "cell_type": "code",
   "execution_count": 121,
   "metadata": {},
   "outputs": [
    {
     "data": {
      "text/plain": [
       "35"
      ]
     },
     "execution_count": 121,
     "metadata": {},
     "output_type": "execute_result"
    }
   ],
   "source": [
    "t_weight_s = np.argmax(Posterior)\n",
    "t_weight_s"
   ]
  },
  {
   "cell_type": "markdown",
   "metadata": {},
   "source": [
    "## Prior: Artboks and HistoryBooks"
   ]
  },
  {
   "cell_type": "code",
   "execution_count": 122,
   "metadata": {},
   "outputs": [
    {
     "name": "stdout",
     "output_type": "stream",
     "text": [
      "a_prime = 172.\n",
      "b_prime = 256.\n"
     ]
    },
    {
     "data": {
      "image/png": "[encoded data removed]",
      "text/plain": [
       "<Figure size 432x288 with 1 Axes>"
      ]
     },
     "metadata": {
      "needs_background": "light"
     },
     "output_type": "display_data"
    },
    {
     "data": {
      "image/png": "[encoded data removed]",
      "text/plain": [
       "<Figure size 432x288 with 1 Axes>"
      ]
     },
     "metadata": {
      "needs_background": "light"
     },
     "output_type": "display_data"
    },
    {
     "data": {
      "image/png": "[encoded data removed]",
      "text/plain": [
       "<Figure size 432x288 with 1 Axes>"
      ]
     },
     "metadata": {
      "needs_background": "light"
     },
     "output_type": "display_data"
    }
   ],
   "source": [
    "import numpy as np\n",
    "x = np.arange(0, 1, 0.01)\n",
    "num_trials= len(df[(df[\"ArtBooks\"] == 0) & (df[\"HistoryBooks\"] == 0)]) #num_trials = 1000\n",
    "num_successes = np.sum((df.ArtBooks > 0) & (df.HistoryBooks))\n",
    "\n",
    "Prior, Likelihood, Posterior = posterior_from_conjugate_prior(\n",
    "    Likelihood_Dist_Type='Binomial', \n",
    "    x=x, \n",
    "    n=num_trials, \n",
    "    k=num_successes, \n",
    "    a=1, \n",
    "    b=100)    \n",
    "\n",
    "ax1 = sns.lineplot(x, Prior, color='red')\n",
    "ax1.set(xlabel='x', ylabel='f(x)', title=f'Prior PDF');\n",
    "plt.legend(labels=['Prior PDF']);\n",
    "plt.show()\n",
    "\n",
    "ax2 = sns.lineplot(x, Likelihood)\n",
    "ax2.set(xlabel='x', ylabel='f(x)', title=f'Likelihood Function');\n",
    "plt.legend(labels=['Likelihood Function']);\n",
    "plt.show()\n",
    "\n",
    "ax3 = sns.lineplot(x, Posterior, color='orange')\n",
    "ax3.set(xlabel='x', ylabel='f(x)', title=f'Posterior PDF');\n",
    "plt.legend(labels=['Posterior PDF']);\n",
    "plt.show()"
   ]
  },
  {
   "cell_type": "code",
   "execution_count": 123,
   "metadata": {},
   "outputs": [
    {
     "data": {
      "text/plain": [
       "40"
      ]
     },
     "execution_count": 123,
     "metadata": {},
     "output_type": "execute_result"
    }
   ],
   "source": [
    "ah_weight_s = np.argmax(Posterior)\n",
    "ah_weight_s"
   ]
  },
  {
   "cell_type": "markdown",
   "metadata": {},
   "source": [
    "## Prior: Artboks and TableBooks"
   ]
  },
  {
   "cell_type": "code",
   "execution_count": 124,
   "metadata": {},
   "outputs": [
    {
     "name": "stdout",
     "output_type": "stream",
     "text": [
      "a_prime = 126.\n",
      "b_prime = 419.\n"
     ]
    },
    {
     "data": {
      "image/png": "[encoded data removed]",
      "text/plain": [
       "<Figure size 432x288 with 1 Axes>"
      ]
     },
     "metadata": {
      "needs_background": "light"
     },
     "output_type": "display_data"
    },
    {
     "data": {
      "image/png": "[encoded data removed]",
      "text/plain": [
       "<Figure size 432x288 with 1 Axes>"
      ]
     },
     "metadata": {
      "needs_background": "light"
     },
     "output_type": "display_data"
    },
    {
     "data": {
      "image/png": "[encoded data removed]",
      "text/plain": [
       "<Figure size 432x288 with 1 Axes>"
      ]
     },
     "metadata": {
      "needs_background": "light"
     },
     "output_type": "display_data"
    }
   ],
   "source": [
    "import numpy as np\n",
    "x = np.arange(0, 1, 0.01)\n",
    "num_trials= len(df[(df[\"ArtBooks\"] == 0) & (df[\"TableBooks\"] == 0)]) #num_trials = 1000\n",
    "num_successes = np.sum((df.ArtBooks > 0) & (df.TableBooks))\n",
    "\n",
    "Prior, Likelihood, Posterior = posterior_from_conjugate_prior(\n",
    "    Likelihood_Dist_Type='Binomial', \n",
    "    x=x, \n",
    "    n=num_trials, \n",
    "    k=num_successes, \n",
    "    a=1, \n",
    "    b=100)    \n",
    "\n",
    "ax1 = sns.lineplot(x, Prior, color='red')\n",
    "ax1.set(xlabel='x', ylabel='f(x)', title=f'Prior PDF');\n",
    "plt.legend(labels=['Prior PDF']);\n",
    "plt.show()\n",
    "\n",
    "ax2 = sns.lineplot(x, Likelihood)\n",
    "ax2.set(xlabel='x', ylabel='f(x)', title=f'Likelihood Function');\n",
    "plt.legend(labels=['Likelihood Function']);\n",
    "plt.show()\n",
    "\n",
    "ax3 = sns.lineplot(x, Posterior, color='orange')\n",
    "ax3.set(xlabel='x', ylabel='f(x)', title=f'Posterior PDF');\n",
    "plt.legend(labels=['Posterior PDF']);\n",
    "plt.show()"
   ]
  },
  {
   "cell_type": "code",
   "execution_count": 125,
   "metadata": {},
   "outputs": [
    {
     "data": {
      "text/plain": [
       "23"
      ]
     },
     "execution_count": 125,
     "metadata": {},
     "output_type": "execute_result"
    }
   ],
   "source": [
    "at_weight_s = np.argmax(Posterior)\n",
    "at_weight_s"
   ]
  },
  {
   "cell_type": "markdown",
   "metadata": {},
   "source": [
    "## Prior: HistoryBooks and TableBooks"
   ]
  },
  {
   "cell_type": "code",
   "execution_count": 126,
   "metadata": {},
   "outputs": [
    {
     "name": "stdout",
     "output_type": "stream",
     "text": [
      "a_prime = 193.\n",
      "b_prime = 177.\n"
     ]
    },
    {
     "data": {
      "image/png": "[encoded data removed]",
      "text/plain": [
       "<Figure size 432x288 with 1 Axes>"
      ]
     },
     "metadata": {
      "needs_background": "light"
     },
     "output_type": "display_data"
    },
    {
     "data": {
      "image/png": "[encoded data removed]",
      "text/plain": [
       "<Figure size 432x288 with 1 Axes>"
      ]
     },
     "metadata": {
      "needs_background": "light"
     },
     "output_type": "display_data"
    },
    {
     "data": {
      "image/png": "[encoded data removed]",
      "text/plain": [
       "<Figure size 432x288 with 1 Axes>"
      ]
     },
     "metadata": {
      "needs_background": "light"
     },
     "output_type": "display_data"
    }
   ],
   "source": [
    "import numpy as np\n",
    "x = np.arange(0, 1, 0.01)\n",
    "num_trials= len(df[ (df[\"HistoryBooks\"] == 0) & (df[\"TableBooks\"] == 0)]) #num_trials = 1000\n",
    "num_successes = np.sum((df.HistoryBooks > 0) & (df.TableBooks > 0 ))\n",
    "\n",
    "Prior, Likelihood, Posterior = posterior_from_conjugate_prior(\n",
    "    Likelihood_Dist_Type='Binomial', \n",
    "    x=x, \n",
    "    n=num_trials, \n",
    "    k=num_successes, \n",
    "    a=1, \n",
    "    b=100)    \n",
    "\n",
    "ax1 = sns.lineplot(x, Prior, color='red')\n",
    "ax1.set(xlabel='x', ylabel='f(x)', title=f'Prior PDF');\n",
    "plt.legend(labels=['Prior PDF']);\n",
    "plt.show()\n",
    "\n",
    "ax2 = sns.lineplot(x, Likelihood)\n",
    "ax2.set(xlabel='x', ylabel='f(x)', title=f'Likelihood Function');\n",
    "plt.legend(labels=['Likelihood Function']);\n",
    "plt.show()\n",
    "\n",
    "ax3 = sns.lineplot(x, Posterior, color='orange')\n",
    "ax3.set(xlabel='x', ylabel='f(x)', title=f'Posterior PDF');\n",
    "plt.legend(labels=['Posterior PDF']);\n",
    "plt.show()"
   ]
  },
  {
   "cell_type": "code",
   "execution_count": 127,
   "metadata": {},
   "outputs": [
    {
     "data": {
      "text/plain": [
       "52"
      ]
     },
     "execution_count": 127,
     "metadata": {},
     "output_type": "execute_result"
    }
   ],
   "source": [
    "ht_weight_s = np.argmax(Posterior)\n",
    "ht_weight_s"
   ]
  },
  {
   "cell_type": "markdown",
   "metadata": {},
   "source": [
    "## Prior: ArtBooks and HistoryBooks and TableBooks"
   ]
  },
  {
   "cell_type": "code",
   "execution_count": 128,
   "metadata": {},
   "outputs": [
    {
     "name": "stdout",
     "output_type": "stream",
     "text": [
      "a_prime = 72.\n",
      "b_prime = 222.\n"
     ]
    },
    {
     "data": {
      "image/png": "[encoded data removed]",
      "text/plain": [
       "<Figure size 432x288 with 1 Axes>"
      ]
     },
     "metadata": {
      "needs_background": "light"
     },
     "output_type": "display_data"
    },
    {
     "data": {
      "image/png": "[encoded data removed]",
      "text/plain": [
       "<Figure size 432x288 with 1 Axes>"
      ]
     },
     "metadata": {
      "needs_background": "light"
     },
     "output_type": "display_data"
    },
    {
     "data": {
      "image/png": "[encoded data removed]",
      "text/plain": [
       "<Figure size 432x288 with 1 Axes>"
      ]
     },
     "metadata": {
      "needs_background": "light"
     },
     "output_type": "display_data"
    }
   ],
   "source": [
    "import numpy as np\n",
    "x = np.arange(0, 1, 0.01)\n",
    "num_trials= len(df[(df[\"ArtBooks\"] == 0) & (df[\"HistoryBooks\"] == 0) & (df[\"TableBooks\"] == 0)]) #num_trials = 1000\n",
    "num_successes = np.sum((df.HistoryBooks > 0) & (df.TableBooks > 0) & (df.ArtBooks > 0) )\n",
    "\n",
    "Prior, Likelihood, Posterior = posterior_from_conjugate_prior(\n",
    "    Likelihood_Dist_Type='Binomial', \n",
    "    x=x, \n",
    "    n=num_trials, \n",
    "    k=num_successes, \n",
    "    a=1, \n",
    "    b=100)    \n",
    "\n",
    "ax1 = sns.lineplot(x, Prior, color='red')\n",
    "ax1.set(xlabel='x', ylabel='f(x)', title=f'Prior PDF');\n",
    "plt.legend(labels=['Prior PDF']);\n",
    "plt.show()\n",
    "\n",
    "ax2 = sns.lineplot(x, Likelihood)\n",
    "ax2.set(xlabel='x', ylabel='f(x)', title=f'Likelihood Function');\n",
    "plt.legend(labels=['Likelihood Function']);\n",
    "plt.show()\n",
    "\n",
    "ax3 = sns.lineplot(x, Posterior, color='orange')\n",
    "ax3.set(xlabel='x', ylabel='f(x)', title=f'Posterior PDF');\n",
    "plt.legend(labels=['Posterior PDF']);\n",
    "plt.show()"
   ]
  },
  {
   "cell_type": "code",
   "execution_count": 129,
   "metadata": {},
   "outputs": [
    {
     "data": {
      "text/plain": [
       "24"
      ]
     },
     "execution_count": 129,
     "metadata": {},
     "output_type": "execute_result"
    }
   ],
   "source": [
    "aht_weight_s = np.argmax(Posterior)\n",
    "aht_weight_s"
   ]
  },
  {
   "cell_type": "code",
   "execution_count": 130,
   "metadata": {},
   "outputs": [],
   "source": [
    "data = {'MaxPosterior':['Art', 'His', 'Tab', 'ArtHis', 'HisTab', 'ArtTab', 'ArtHisTab'],\\\n",
    "        'a:b =1:1':[30, 54, 38, 52, 28, 71, 37] , 'a:b =1:100':[27, 49, 35, 40, 23, 52, 24]} "
   ]
  },
  {
   "cell_type": "code",
   "execution_count": 131,
   "metadata": {},
   "outputs": [
    {
     "data": {
      "text/html": [
       "<div>\n",
       "<style scoped>\n",
       "    .dataframe tbody tr th:only-of-type {\n",
       "        vertical-align: middle;\n",
       "    }\n",
       "\n",
       "    .dataframe tbody tr th {\n",
       "        vertical-align: top;\n",
       "    }\n",
       "\n",
       "    .dataframe thead th {\n",
       "        text-align: right;\n",
       "    }\n",
       "</style>\n",
       "<table border=\"1\" class=\"dataframe\">\n",
       "  <thead>\n",
       "    <tr style=\"text-align: right;\">\n",
       "      <th></th>\n",
       "      <th>MaxPosterior</th>\n",
       "      <th>a:b =1:1</th>\n",
       "      <th>a:b =1:100</th>\n",
       "    </tr>\n",
       "  </thead>\n",
       "  <tbody>\n",
       "    <tr>\n",
       "      <th>0</th>\n",
       "      <td>Art</td>\n",
       "      <td>30</td>\n",
       "      <td>27</td>\n",
       "    </tr>\n",
       "    <tr>\n",
       "      <th>1</th>\n",
       "      <td>His</td>\n",
       "      <td>54</td>\n",
       "      <td>49</td>\n",
       "    </tr>\n",
       "    <tr>\n",
       "      <th>2</th>\n",
       "      <td>Tab</td>\n",
       "      <td>38</td>\n",
       "      <td>35</td>\n",
       "    </tr>\n",
       "    <tr>\n",
       "      <th>3</th>\n",
       "      <td>ArtHis</td>\n",
       "      <td>52</td>\n",
       "      <td>40</td>\n",
       "    </tr>\n",
       "    <tr>\n",
       "      <th>4</th>\n",
       "      <td>HisTab</td>\n",
       "      <td>28</td>\n",
       "      <td>23</td>\n",
       "    </tr>\n",
       "    <tr>\n",
       "      <th>5</th>\n",
       "      <td>ArtTab</td>\n",
       "      <td>71</td>\n",
       "      <td>52</td>\n",
       "    </tr>\n",
       "    <tr>\n",
       "      <th>6</th>\n",
       "      <td>ArtHisTab</td>\n",
       "      <td>37</td>\n",
       "      <td>24</td>\n",
       "    </tr>\n",
       "  </tbody>\n",
       "</table>\n",
       "</div>"
      ],
      "text/plain": [
       "  MaxPosterior  a:b =1:1  a:b =1:100\n",
       "0          Art        30          27\n",
       "1          His        54          49\n",
       "2          Tab        38          35\n",
       "3       ArtHis        52          40\n",
       "4       HisTab        28          23\n",
       "5       ArtTab        71          52\n",
       "6    ArtHisTab        37          24"
      ]
     },
     "execution_count": 131,
     "metadata": {},
     "output_type": "execute_result"
    }
   ],
   "source": [
    "df = pd.DataFrame(data) \n",
    "df"
   ]
  },
  {
   "cell_type": "markdown",
   "metadata": {},
   "source": [
    "## Response:\n",
    "<br>When we use strong weighting for low likelihood, i.e. a: b = 1:100,\n",
    "<br>We can see the maximum posterior shift to the lower values for all case. \n",
    "<br> This is consistent the undestanding of posteior equation is the propotional factor of likelihood. \n",
    "<br> I use a:b = 1:1 and a:b = 1:100 for this exercise, the posterior of beta function a:b = 1:100 is smaller that of a:b =1:1.\n",
    "<br> This is consitent to our understanding of likelihood."
   ]
  },
  {
   "cell_type": "markdown",
   "metadata": {},
   "source": [
    "## Problem 5"
   ]
  },
  {
   "cell_type": "markdown",
   "metadata": {},
   "source": [
    "**From the lecture slide f(m|w) = N(µ0, vw), V>0**\n",
    "<br>**f(w) is Wishart with α degrees of freedom and**\n",
    "<br>**precision matrix r, with α > k − 1**\n",
    "<br>**Likelihood: N(M, W)**\n",
    "<br>**Posterior: f(m|x, w) ∼ N (µ ,(v + N)w)**\n",
    "<br>**Posterior: f(w|x) is Wishart with α + N degrees of**\n",
    "<br>**freedom & precision matrix r**\n",
    "<br> **Posterior f(m|x) is a multivariate t distribution with  α + N − k + 1** \n",
    "<br> **location parameter, µ∗ and precision (v + N)(α + N − k + 1)(r∗)−1**\n",
    "<br>**In our case, we have 8 variables, meaning k = 8, Prior α = 8+1 = 9. v is 462 for this case. This is multivariate** \n",
    "<br>**Gaussian with unknown mean & variance-covariance matrix. Meahwhile, f(w) is Wishart with multiple dimensions of the** <br>**gamma distribution.**"
   ]
  },
  {
   "cell_type": "code",
   "execution_count": 132,
   "metadata": {
    "scrolled": true
   },
   "outputs": [
    {
     "data": {
      "text/html": [
       "<div>\n",
       "<style scoped>\n",
       "    .dataframe tbody tr th:only-of-type {\n",
       "        vertical-align: middle;\n",
       "    }\n",
       "\n",
       "    .dataframe tbody tr th {\n",
       "        vertical-align: top;\n",
       "    }\n",
       "\n",
       "    .dataframe thead th {\n",
       "        text-align: right;\n",
       "    }\n",
       "</style>\n",
       "<table border=\"1\" class=\"dataframe\">\n",
       "  <thead>\n",
       "    <tr style=\"text-align: right;\">\n",
       "      <th></th>\n",
       "      <th>sbp</th>\n",
       "      <th>tobacco</th>\n",
       "      <th>ldl</th>\n",
       "      <th>adiposity</th>\n",
       "      <th>typea</th>\n",
       "      <th>obesity</th>\n",
       "      <th>alcohol</th>\n",
       "      <th>age</th>\n",
       "      <th>chd</th>\n",
       "    </tr>\n",
       "  </thead>\n",
       "  <tbody>\n",
       "    <tr>\n",
       "      <th>count</th>\n",
       "      <td>462.000000</td>\n",
       "      <td>462.000000</td>\n",
       "      <td>462.000000</td>\n",
       "      <td>462.000000</td>\n",
       "      <td>462.000000</td>\n",
       "      <td>462.000000</td>\n",
       "      <td>462.000000</td>\n",
       "      <td>462.000000</td>\n",
       "      <td>462.000000</td>\n",
       "    </tr>\n",
       "    <tr>\n",
       "      <th>mean</th>\n",
       "      <td>138.326840</td>\n",
       "      <td>3.635649</td>\n",
       "      <td>4.740325</td>\n",
       "      <td>25.406732</td>\n",
       "      <td>53.103896</td>\n",
       "      <td>26.044113</td>\n",
       "      <td>17.044394</td>\n",
       "      <td>42.816017</td>\n",
       "      <td>0.346320</td>\n",
       "    </tr>\n",
       "    <tr>\n",
       "      <th>std</th>\n",
       "      <td>20.496317</td>\n",
       "      <td>4.593024</td>\n",
       "      <td>2.070909</td>\n",
       "      <td>7.780699</td>\n",
       "      <td>9.817534</td>\n",
       "      <td>4.213680</td>\n",
       "      <td>24.481059</td>\n",
       "      <td>14.608956</td>\n",
       "      <td>0.476313</td>\n",
       "    </tr>\n",
       "    <tr>\n",
       "      <th>min</th>\n",
       "      <td>101.000000</td>\n",
       "      <td>0.000000</td>\n",
       "      <td>0.980000</td>\n",
       "      <td>6.740000</td>\n",
       "      <td>13.000000</td>\n",
       "      <td>14.700000</td>\n",
       "      <td>0.000000</td>\n",
       "      <td>15.000000</td>\n",
       "      <td>0.000000</td>\n",
       "    </tr>\n",
       "    <tr>\n",
       "      <th>25%</th>\n",
       "      <td>124.000000</td>\n",
       "      <td>0.052500</td>\n",
       "      <td>3.282500</td>\n",
       "      <td>19.775000</td>\n",
       "      <td>47.000000</td>\n",
       "      <td>22.985000</td>\n",
       "      <td>0.510000</td>\n",
       "      <td>31.000000</td>\n",
       "      <td>0.000000</td>\n",
       "    </tr>\n",
       "    <tr>\n",
       "      <th>50%</th>\n",
       "      <td>134.000000</td>\n",
       "      <td>2.000000</td>\n",
       "      <td>4.340000</td>\n",
       "      <td>26.115000</td>\n",
       "      <td>53.000000</td>\n",
       "      <td>25.805000</td>\n",
       "      <td>7.510000</td>\n",
       "      <td>45.000000</td>\n",
       "      <td>0.000000</td>\n",
       "    </tr>\n",
       "    <tr>\n",
       "      <th>75%</th>\n",
       "      <td>148.000000</td>\n",
       "      <td>5.500000</td>\n",
       "      <td>5.790000</td>\n",
       "      <td>31.227500</td>\n",
       "      <td>60.000000</td>\n",
       "      <td>28.497500</td>\n",
       "      <td>23.892500</td>\n",
       "      <td>55.000000</td>\n",
       "      <td>1.000000</td>\n",
       "    </tr>\n",
       "    <tr>\n",
       "      <th>max</th>\n",
       "      <td>218.000000</td>\n",
       "      <td>31.200000</td>\n",
       "      <td>15.330000</td>\n",
       "      <td>42.490000</td>\n",
       "      <td>78.000000</td>\n",
       "      <td>46.580000</td>\n",
       "      <td>147.190000</td>\n",
       "      <td>64.000000</td>\n",
       "      <td>1.000000</td>\n",
       "    </tr>\n",
       "  </tbody>\n",
       "</table>\n",
       "</div>"
      ],
      "text/plain": [
       "              sbp     tobacco         ldl   adiposity       typea     obesity  \\\n",
       "count  462.000000  462.000000  462.000000  462.000000  462.000000  462.000000   \n",
       "mean   138.326840    3.635649    4.740325   25.406732   53.103896   26.044113   \n",
       "std     20.496317    4.593024    2.070909    7.780699    9.817534    4.213680   \n",
       "min    101.000000    0.000000    0.980000    6.740000   13.000000   14.700000   \n",
       "25%    124.000000    0.052500    3.282500   19.775000   47.000000   22.985000   \n",
       "50%    134.000000    2.000000    4.340000   26.115000   53.000000   25.805000   \n",
       "75%    148.000000    5.500000    5.790000   31.227500   60.000000   28.497500   \n",
       "max    218.000000   31.200000   15.330000   42.490000   78.000000   46.580000   \n",
       "\n",
       "          alcohol         age         chd  \n",
       "count  462.000000  462.000000  462.000000  \n",
       "mean    17.044394   42.816017    0.346320  \n",
       "std     24.481059   14.608956    0.476313  \n",
       "min      0.000000   15.000000    0.000000  \n",
       "25%      0.510000   31.000000    0.000000  \n",
       "50%      7.510000   45.000000    0.000000  \n",
       "75%     23.892500   55.000000    1.000000  \n",
       "max    147.190000   64.000000    1.000000  "
      ]
     },
     "execution_count": 132,
     "metadata": {},
     "output_type": "execute_result"
    }
   ],
   "source": [
    "import numpy as np \n",
    "import pandas as pd\n",
    "chd_data = pd.read_csv(\"CHDdata.csv\")\n",
    "chd_data.describe()"
   ]
  },
  {
   "cell_type": "code",
   "execution_count": 133,
   "metadata": {},
   "outputs": [
    {
     "data": {
      "text/html": [
       "<div>\n",
       "<style scoped>\n",
       "    .dataframe tbody tr th:only-of-type {\n",
       "        vertical-align: middle;\n",
       "    }\n",
       "\n",
       "    .dataframe tbody tr th {\n",
       "        vertical-align: top;\n",
       "    }\n",
       "\n",
       "    .dataframe thead th {\n",
       "        text-align: right;\n",
       "    }\n",
       "</style>\n",
       "<table border=\"1\" class=\"dataframe\">\n",
       "  <thead>\n",
       "    <tr style=\"text-align: right;\">\n",
       "      <th></th>\n",
       "      <th>sbp</th>\n",
       "      <th>tobacco</th>\n",
       "      <th>ldl</th>\n",
       "      <th>adiposity</th>\n",
       "      <th>typea</th>\n",
       "      <th>obesity</th>\n",
       "      <th>alcohol</th>\n",
       "      <th>age</th>\n",
       "      <th>chd</th>\n",
       "    </tr>\n",
       "  </thead>\n",
       "  <tbody>\n",
       "    <tr>\n",
       "      <th>0</th>\n",
       "      <td>160</td>\n",
       "      <td>12.00</td>\n",
       "      <td>5.73</td>\n",
       "      <td>23.11</td>\n",
       "      <td>49</td>\n",
       "      <td>25.30</td>\n",
       "      <td>97.20</td>\n",
       "      <td>52</td>\n",
       "      <td>1</td>\n",
       "    </tr>\n",
       "    <tr>\n",
       "      <th>1</th>\n",
       "      <td>144</td>\n",
       "      <td>0.01</td>\n",
       "      <td>4.41</td>\n",
       "      <td>28.61</td>\n",
       "      <td>55</td>\n",
       "      <td>28.87</td>\n",
       "      <td>2.06</td>\n",
       "      <td>63</td>\n",
       "      <td>1</td>\n",
       "    </tr>\n",
       "    <tr>\n",
       "      <th>2</th>\n",
       "      <td>118</td>\n",
       "      <td>0.08</td>\n",
       "      <td>3.48</td>\n",
       "      <td>32.28</td>\n",
       "      <td>52</td>\n",
       "      <td>29.14</td>\n",
       "      <td>3.81</td>\n",
       "      <td>46</td>\n",
       "      <td>0</td>\n",
       "    </tr>\n",
       "    <tr>\n",
       "      <th>3</th>\n",
       "      <td>170</td>\n",
       "      <td>7.50</td>\n",
       "      <td>6.41</td>\n",
       "      <td>38.03</td>\n",
       "      <td>51</td>\n",
       "      <td>31.99</td>\n",
       "      <td>24.26</td>\n",
       "      <td>58</td>\n",
       "      <td>1</td>\n",
       "    </tr>\n",
       "    <tr>\n",
       "      <th>4</th>\n",
       "      <td>134</td>\n",
       "      <td>13.60</td>\n",
       "      <td>3.50</td>\n",
       "      <td>27.78</td>\n",
       "      <td>60</td>\n",
       "      <td>25.99</td>\n",
       "      <td>57.34</td>\n",
       "      <td>49</td>\n",
       "      <td>1</td>\n",
       "    </tr>\n",
       "  </tbody>\n",
       "</table>\n",
       "</div>"
      ],
      "text/plain": [
       "   sbp  tobacco   ldl  adiposity  typea  obesity  alcohol  age  chd\n",
       "0  160    12.00  5.73      23.11     49    25.30    97.20   52    1\n",
       "1  144     0.01  4.41      28.61     55    28.87     2.06   63    1\n",
       "2  118     0.08  3.48      32.28     52    29.14     3.81   46    0\n",
       "3  170     7.50  6.41      38.03     51    31.99    24.26   58    1\n",
       "4  134    13.60  3.50      27.78     60    25.99    57.34   49    1"
      ]
     },
     "execution_count": 133,
     "metadata": {},
     "output_type": "execute_result"
    }
   ],
   "source": [
    "#drop \"famhist\" column\n",
    "chd_data = chd_data.drop(columns= \"famhist\")\n",
    "#check that it worked\n",
    "chd_data.head()"
   ]
  },
  {
   "cell_type": "code",
   "execution_count": 134,
   "metadata": {},
   "outputs": [
    {
     "name": "stdout",
     "output_type": "stream",
     "text": [
      "Standardizing sbp.\n",
      "Standardizing tobacco.\n",
      "Standardizing ldl.\n",
      "Standardizing adiposity.\n",
      "Standardizing typea.\n",
      "Standardizing obesity.\n",
      "Standardizing alcohol.\n",
      "Standardizing age.\n"
     ]
    }
   ],
   "source": [
    "for key in chd_data.keys()[0:8]:\n",
    "    print(\"Standardizing \"+key+\".\")\n",
    "    chd_data[key] = chd_data[key] - np.mean(chd_data[key])\n",
    "    chd_data[key] = chd_data[key] / np.std(chd_data[key])"
   ]
  },
  {
   "cell_type": "code",
   "execution_count": 135,
   "metadata": {},
   "outputs": [
    {
     "data": {
      "text/html": [
       "<div>\n",
       "<style scoped>\n",
       "    .dataframe tbody tr th:only-of-type {\n",
       "        vertical-align: middle;\n",
       "    }\n",
       "\n",
       "    .dataframe tbody tr th {\n",
       "        vertical-align: top;\n",
       "    }\n",
       "\n",
       "    .dataframe thead th {\n",
       "        text-align: right;\n",
       "    }\n",
       "</style>\n",
       "<table border=\"1\" class=\"dataframe\">\n",
       "  <thead>\n",
       "    <tr style=\"text-align: right;\">\n",
       "      <th></th>\n",
       "      <th>sbp</th>\n",
       "      <th>tobacco</th>\n",
       "      <th>ldl</th>\n",
       "      <th>adiposity</th>\n",
       "      <th>typea</th>\n",
       "      <th>obesity</th>\n",
       "      <th>alcohol</th>\n",
       "      <th>age</th>\n",
       "      <th>chd</th>\n",
       "    </tr>\n",
       "  </thead>\n",
       "  <tbody>\n",
       "    <tr>\n",
       "      <th>count</th>\n",
       "      <td>4.620000e+02</td>\n",
       "      <td>4.620000e+02</td>\n",
       "      <td>4.620000e+02</td>\n",
       "      <td>4.620000e+02</td>\n",
       "      <td>4.620000e+02</td>\n",
       "      <td>4.620000e+02</td>\n",
       "      <td>4.620000e+02</td>\n",
       "      <td>4.620000e+02</td>\n",
       "      <td>462.000000</td>\n",
       "    </tr>\n",
       "    <tr>\n",
       "      <th>mean</th>\n",
       "      <td>-2.571296e-16</td>\n",
       "      <td>5.022437e-16</td>\n",
       "      <td>-3.963040e-15</td>\n",
       "      <td>1.559599e-15</td>\n",
       "      <td>1.153478e-17</td>\n",
       "      <td>-5.286776e-15</td>\n",
       "      <td>-4.169344e-16</td>\n",
       "      <td>1.970526e-17</td>\n",
       "      <td>0.346320</td>\n",
       "    </tr>\n",
       "    <tr>\n",
       "      <th>std</th>\n",
       "      <td>1.001084e+00</td>\n",
       "      <td>1.001084e+00</td>\n",
       "      <td>1.001084e+00</td>\n",
       "      <td>1.001084e+00</td>\n",
       "      <td>1.001084e+00</td>\n",
       "      <td>1.001084e+00</td>\n",
       "      <td>1.001084e+00</td>\n",
       "      <td>1.001084e+00</td>\n",
       "      <td>0.476313</td>\n",
       "    </tr>\n",
       "    <tr>\n",
       "      <th>min</th>\n",
       "      <td>-1.823123e+00</td>\n",
       "      <td>-7.924170e-01</td>\n",
       "      <td>-1.817753e+00</td>\n",
       "      <td>-2.401708e+00</td>\n",
       "      <td>-4.089354e+00</td>\n",
       "      <td>-2.695129e+00</td>\n",
       "      <td>-6.969825e-01</td>\n",
       "      <td>-1.906103e+00</td>\n",
       "      <td>0.000000</td>\n",
       "    </tr>\n",
       "    <tr>\n",
       "      <th>25%</th>\n",
       "      <td>-6.997535e-01</td>\n",
       "      <td>-7.809742e-01</td>\n",
       "      <td>-7.047170e-01</td>\n",
       "      <td>-7.245926e-01</td>\n",
       "      <td>-6.224081e-01</td>\n",
       "      <td>-7.267824e-01</td>\n",
       "      <td>-6.761275e-01</td>\n",
       "      <td>-8.096968e-01</td>\n",
       "      <td>0.000000</td>\n",
       "    </tr>\n",
       "    <tr>\n",
       "      <th>50%</th>\n",
       "      <td>-2.113321e-01</td>\n",
       "      <td>-3.565020e-01</td>\n",
       "      <td>-1.935182e-01</td>\n",
       "      <td>9.112757e-02</td>\n",
       "      <td>-1.059418e-02</td>\n",
       "      <td>-5.680824e-02</td>\n",
       "      <td>-3.898822e-01</td>\n",
       "      <td>1.496582e-01</td>\n",
       "      <td>0.000000</td>\n",
       "    </tr>\n",
       "    <tr>\n",
       "      <th>75%</th>\n",
       "      <td>4.724579e-01</td>\n",
       "      <td>4.063492e-01</td>\n",
       "      <td>5.074164e-01</td>\n",
       "      <td>7.489145e-01</td>\n",
       "      <td>7.031887e-01</td>\n",
       "      <td>5.828745e-01</td>\n",
       "      <td>2.800340e-01</td>\n",
       "      <td>8.349118e-01</td>\n",
       "      <td>1.000000</td>\n",
       "    </tr>\n",
       "    <tr>\n",
       "      <th>max</th>\n",
       "      <td>3.891408e+00</td>\n",
       "      <td>6.007857e+00</td>\n",
       "      <td>5.119082e+00</td>\n",
       "      <td>2.197976e+00</td>\n",
       "      <td>2.538631e+00</td>\n",
       "      <td>4.878906e+00</td>\n",
       "      <td>5.321938e+00</td>\n",
       "      <td>1.451640e+00</td>\n",
       "      <td>1.000000</td>\n",
       "    </tr>\n",
       "  </tbody>\n",
       "</table>\n",
       "</div>"
      ],
      "text/plain": [
       "                sbp       tobacco           ldl     adiposity         typea  \\\n",
       "count  4.620000e+02  4.620000e+02  4.620000e+02  4.620000e+02  4.620000e+02   \n",
       "mean  -2.571296e-16  5.022437e-16 -3.963040e-15  1.559599e-15  1.153478e-17   \n",
       "std    1.001084e+00  1.001084e+00  1.001084e+00  1.001084e+00  1.001084e+00   \n",
       "min   -1.823123e+00 -7.924170e-01 -1.817753e+00 -2.401708e+00 -4.089354e+00   \n",
       "25%   -6.997535e-01 -7.809742e-01 -7.047170e-01 -7.245926e-01 -6.224081e-01   \n",
       "50%   -2.113321e-01 -3.565020e-01 -1.935182e-01  9.112757e-02 -1.059418e-02   \n",
       "75%    4.724579e-01  4.063492e-01  5.074164e-01  7.489145e-01  7.031887e-01   \n",
       "max    3.891408e+00  6.007857e+00  5.119082e+00  2.197976e+00  2.538631e+00   \n",
       "\n",
       "            obesity       alcohol           age         chd  \n",
       "count  4.620000e+02  4.620000e+02  4.620000e+02  462.000000  \n",
       "mean  -5.286776e-15 -4.169344e-16  1.970526e-17    0.346320  \n",
       "std    1.001084e+00  1.001084e+00  1.001084e+00    0.476313  \n",
       "min   -2.695129e+00 -6.969825e-01 -1.906103e+00    0.000000  \n",
       "25%   -7.267824e-01 -6.761275e-01 -8.096968e-01    0.000000  \n",
       "50%   -5.680824e-02 -3.898822e-01  1.496582e-01    0.000000  \n",
       "75%    5.828745e-01  2.800340e-01  8.349118e-01    1.000000  \n",
       "max    4.878906e+00  5.321938e+00  1.451640e+00    1.000000  "
      ]
     },
     "execution_count": 135,
     "metadata": {},
     "output_type": "execute_result"
    }
   ],
   "source": [
    "# Check that it worked\n",
    "chd_data.describe()"
   ]
  },
  {
   "cell_type": "code",
   "execution_count": 136,
   "metadata": {},
   "outputs": [],
   "source": [
    "chd_positive = chd_data[chd_data.chd == 1]\n",
    "chd_negative = chd_data[chd_data.chd == 0]"
   ]
  },
  {
   "cell_type": "code",
   "execution_count": 137,
   "metadata": {},
   "outputs": [
    {
     "data": {
      "text/html": [
       "<div>\n",
       "<style scoped>\n",
       "    .dataframe tbody tr th:only-of-type {\n",
       "        vertical-align: middle;\n",
       "    }\n",
       "\n",
       "    .dataframe tbody tr th {\n",
       "        vertical-align: top;\n",
       "    }\n",
       "\n",
       "    .dataframe thead th {\n",
       "        text-align: right;\n",
       "    }\n",
       "</style>\n",
       "<table border=\"1\" class=\"dataframe\">\n",
       "  <thead>\n",
       "    <tr style=\"text-align: right;\">\n",
       "      <th></th>\n",
       "      <th>sbp</th>\n",
       "      <th>tobacco</th>\n",
       "      <th>ldl</th>\n",
       "      <th>adiposity</th>\n",
       "      <th>typea</th>\n",
       "      <th>obesity</th>\n",
       "      <th>alcohol</th>\n",
       "      <th>age</th>\n",
       "      <th>chd</th>\n",
       "    </tr>\n",
       "  </thead>\n",
       "  <tbody>\n",
       "    <tr>\n",
       "      <th>count</th>\n",
       "      <td>160.000000</td>\n",
       "      <td>160.000000</td>\n",
       "      <td>160.000000</td>\n",
       "      <td>160.000000</td>\n",
       "      <td>160.000000</td>\n",
       "      <td>160.000000</td>\n",
       "      <td>160.000000</td>\n",
       "      <td>160.000000</td>\n",
       "      <td>160.0</td>\n",
       "    </tr>\n",
       "    <tr>\n",
       "      <th>mean</th>\n",
       "      <td>0.264268</td>\n",
       "      <td>0.411771</td>\n",
       "      <td>0.361398</td>\n",
       "      <td>0.349128</td>\n",
       "      <td>0.141722</td>\n",
       "      <td>0.137517</td>\n",
       "      <td>0.085909</td>\n",
       "      <td>0.512414</td>\n",
       "      <td>1.0</td>\n",
       "    </tr>\n",
       "    <tr>\n",
       "      <th>std</th>\n",
       "      <td>1.156458</td>\n",
       "      <td>1.212965</td>\n",
       "      <td>1.075607</td>\n",
       "      <td>0.908099</td>\n",
       "      <td>1.044840</td>\n",
       "      <td>1.043288</td>\n",
       "      <td>1.070602</td>\n",
       "      <td>0.729735</td>\n",
       "      <td>0.0</td>\n",
       "    </tr>\n",
       "    <tr>\n",
       "      <th>min</th>\n",
       "      <td>-1.774281</td>\n",
       "      <td>-0.792417</td>\n",
       "      <td>-1.542213</td>\n",
       "      <td>-2.060752</td>\n",
       "      <td>-3.375571</td>\n",
       "      <td>-2.695129</td>\n",
       "      <td>-0.696983</td>\n",
       "      <td>-1.769052</td>\n",
       "      <td>1.0</td>\n",
       "    </tr>\n",
       "    <tr>\n",
       "      <th>25%</th>\n",
       "      <td>-0.528806</td>\n",
       "      <td>-0.465481</td>\n",
       "      <td>-0.386879</td>\n",
       "      <td>-0.250150</td>\n",
       "      <td>-0.545931</td>\n",
       "      <td>-0.572356</td>\n",
       "      <td>-0.677559</td>\n",
       "      <td>-0.004524</td>\n",
       "      <td>1.0</td>\n",
       "    </tr>\n",
       "    <tr>\n",
       "      <th>50%</th>\n",
       "      <td>-0.015964</td>\n",
       "      <td>0.107747</td>\n",
       "      <td>0.156949</td>\n",
       "      <td>0.385765</td>\n",
       "      <td>0.193344</td>\n",
       "      <td>0.102370</td>\n",
       "      <td>-0.356351</td>\n",
       "      <td>0.697861</td>\n",
       "      <td>1.0</td>\n",
       "    </tr>\n",
       "    <tr>\n",
       "      <th>75%</th>\n",
       "      <td>0.985300</td>\n",
       "      <td>0.994834</td>\n",
       "      <td>0.890513</td>\n",
       "      <td>1.052558</td>\n",
       "      <td>0.805158</td>\n",
       "      <td>0.649991</td>\n",
       "      <td>0.308250</td>\n",
       "      <td>1.109013</td>\n",
       "      <td>1.0</td>\n",
       "    </tr>\n",
       "    <tr>\n",
       "      <th>max</th>\n",
       "      <td>3.891408</td>\n",
       "      <td>6.007857</td>\n",
       "      <td>4.553501</td>\n",
       "      <td>2.197976</td>\n",
       "      <td>2.538631</td>\n",
       "      <td>4.674587</td>\n",
       "      <td>5.321938</td>\n",
       "      <td>1.451640</td>\n",
       "      <td>1.0</td>\n",
       "    </tr>\n",
       "  </tbody>\n",
       "</table>\n",
       "</div>"
      ],
      "text/plain": [
       "              sbp     tobacco         ldl   adiposity       typea     obesity  \\\n",
       "count  160.000000  160.000000  160.000000  160.000000  160.000000  160.000000   \n",
       "mean     0.264268    0.411771    0.361398    0.349128    0.141722    0.137517   \n",
       "std      1.156458    1.212965    1.075607    0.908099    1.044840    1.043288   \n",
       "min     -1.774281   -0.792417   -1.542213   -2.060752   -3.375571   -2.695129   \n",
       "25%     -0.528806   -0.465481   -0.386879   -0.250150   -0.545931   -0.572356   \n",
       "50%     -0.015964    0.107747    0.156949    0.385765    0.193344    0.102370   \n",
       "75%      0.985300    0.994834    0.890513    1.052558    0.805158    0.649991   \n",
       "max      3.891408    6.007857    4.553501    2.197976    2.538631    4.674587   \n",
       "\n",
       "          alcohol         age    chd  \n",
       "count  160.000000  160.000000  160.0  \n",
       "mean     0.085909    0.512414    1.0  \n",
       "std      1.070602    0.729735    0.0  \n",
       "min     -0.696983   -1.769052    1.0  \n",
       "25%     -0.677559   -0.004524    1.0  \n",
       "50%     -0.356351    0.697861    1.0  \n",
       "75%      0.308250    1.109013    1.0  \n",
       "max      5.321938    1.451640    1.0  "
      ]
     },
     "execution_count": 137,
     "metadata": {},
     "output_type": "execute_result"
    }
   ],
   "source": [
    "# Check that it worked\n",
    "chd_positive.describe()"
   ]
  },
  {
   "cell_type": "code",
   "execution_count": 138,
   "metadata": {},
   "outputs": [
    {
     "name": "stdout",
     "output_type": "stream",
     "text": [
      "Mean for CHD Positive:\n",
      "[[0.26426823 0.41177089 0.36139839 0.34912802 0.14172199 0.13751694\n",
      "  0.0859086  0.51241433]]\n",
      "Mean for CHD Negative:\n",
      "[[-0.14000966 -0.21815676 -0.19146935 -0.18496849 -0.0750845  -0.07285666\n",
      "  -0.04551449 -0.27147779]]\n"
     ]
    }
   ],
   "source": [
    "# Lets check the mean of each class to get a first look at the seperation\n",
    "print(\"Mean for CHD Positive:\")\n",
    "print(np.array([chd_positive.mean()[0:8]]))\n",
    "print(\"Mean for CHD Negative:\")\n",
    "print(np.array([chd_negative.mean()[0:8]]))"
   ]
  },
  {
   "cell_type": "code",
   "execution_count": 139,
   "metadata": {},
   "outputs": [
    {
     "data": {
      "text/html": [
       "<div>\n",
       "<style scoped>\n",
       "    .dataframe tbody tr th:only-of-type {\n",
       "        vertical-align: middle;\n",
       "    }\n",
       "\n",
       "    .dataframe tbody tr th {\n",
       "        vertical-align: top;\n",
       "    }\n",
       "\n",
       "    .dataframe thead th {\n",
       "        text-align: right;\n",
       "    }\n",
       "</style>\n",
       "<table border=\"1\" class=\"dataframe\">\n",
       "  <thead>\n",
       "    <tr style=\"text-align: right;\">\n",
       "      <th></th>\n",
       "      <th>sbp</th>\n",
       "      <th>tobacco</th>\n",
       "      <th>ldl</th>\n",
       "      <th>adiposity</th>\n",
       "      <th>typea</th>\n",
       "      <th>obesity</th>\n",
       "      <th>alcohol</th>\n",
       "      <th>age</th>\n",
       "      <th>chd</th>\n",
       "    </tr>\n",
       "  </thead>\n",
       "  <tbody>\n",
       "    <tr>\n",
       "      <th>0</th>\n",
       "      <td>1.058564</td>\n",
       "      <td>1.823073</td>\n",
       "      <td>0.478412</td>\n",
       "      <td>-0.295503</td>\n",
       "      <td>-0.418470</td>\n",
       "      <td>-0.176786</td>\n",
       "      <td>3.277738</td>\n",
       "      <td>0.629336</td>\n",
       "      <td>1</td>\n",
       "    </tr>\n",
       "    <tr>\n",
       "      <th>1</th>\n",
       "      <td>0.277089</td>\n",
       "      <td>-0.790237</td>\n",
       "      <td>-0.159680</td>\n",
       "      <td>0.412140</td>\n",
       "      <td>0.193344</td>\n",
       "      <td>0.671373</td>\n",
       "      <td>-0.612745</td>\n",
       "      <td>1.383115</td>\n",
       "      <td>1</td>\n",
       "    </tr>\n",
       "    <tr>\n",
       "      <th>3</th>\n",
       "      <td>1.546985</td>\n",
       "      <td>0.842264</td>\n",
       "      <td>0.807126</td>\n",
       "      <td>1.624141</td>\n",
       "      <td>-0.214532</td>\n",
       "      <td>1.412621</td>\n",
       "      <td>0.295062</td>\n",
       "      <td>1.040488</td>\n",
       "      <td>1</td>\n",
       "    </tr>\n",
       "    <tr>\n",
       "      <th>4</th>\n",
       "      <td>-0.211332</td>\n",
       "      <td>2.171805</td>\n",
       "      <td>-0.599577</td>\n",
       "      <td>0.305351</td>\n",
       "      <td>0.703189</td>\n",
       "      <td>-0.012856</td>\n",
       "      <td>1.647775</td>\n",
       "      <td>0.423760</td>\n",
       "      <td>1</td>\n",
       "    </tr>\n",
       "    <tr>\n",
       "      <th>7</th>\n",
       "      <td>-1.188175</td>\n",
       "      <td>0.096850</td>\n",
       "      <td>-0.072667</td>\n",
       "      <td>-1.390421</td>\n",
       "      <td>0.907127</td>\n",
       "      <td>-0.697085</td>\n",
       "      <td>-0.422187</td>\n",
       "      <td>1.040488</td>\n",
       "      <td>1</td>\n",
       "    </tr>\n",
       "    <tr>\n",
       "      <th>...</th>\n",
       "      <td>...</td>\n",
       "      <td>...</td>\n",
       "      <td>...</td>\n",
       "      <td>...</td>\n",
       "      <td>...</td>\n",
       "      <td>...</td>\n",
       "      <td>...</td>\n",
       "      <td>...</td>\n",
       "      <td>...</td>\n",
       "    </tr>\n",
       "    <tr>\n",
       "      <th>453</th>\n",
       "      <td>-0.699754</td>\n",
       "      <td>-0.443685</td>\n",
       "      <td>1.198683</td>\n",
       "      <td>1.836434</td>\n",
       "      <td>-1.744067</td>\n",
       "      <td>1.296207</td>\n",
       "      <td>-0.696983</td>\n",
       "      <td>0.560810</td>\n",
       "      <td>1</td>\n",
       "    </tr>\n",
       "    <tr>\n",
       "      <th>454</th>\n",
       "      <td>0.374774</td>\n",
       "      <td>-0.652924</td>\n",
       "      <td>0.038515</td>\n",
       "      <td>0.336230</td>\n",
       "      <td>0.703189</td>\n",
       "      <td>0.490812</td>\n",
       "      <td>-0.360440</td>\n",
       "      <td>-0.261494</td>\n",
       "      <td>1</td>\n",
       "    </tr>\n",
       "    <tr>\n",
       "      <th>455</th>\n",
       "      <td>-0.504385</td>\n",
       "      <td>-0.304192</td>\n",
       "      <td>-0.923457</td>\n",
       "      <td>0.138089</td>\n",
       "      <td>-0.520439</td>\n",
       "      <td>-0.495142</td>\n",
       "      <td>1.242125</td>\n",
       "      <td>-1.083798</td>\n",
       "      <td>1</td>\n",
       "    </tr>\n",
       "    <tr>\n",
       "      <th>458</th>\n",
       "      <td>2.133091</td>\n",
       "      <td>0.123004</td>\n",
       "      <td>-0.159680</td>\n",
       "      <td>0.861173</td>\n",
       "      <td>-0.112563</td>\n",
       "      <td>0.609602</td>\n",
       "      <td>0.068519</td>\n",
       "      <td>0.629336</td>\n",
       "      <td>1</td>\n",
       "    </tr>\n",
       "    <tr>\n",
       "      <th>461</th>\n",
       "      <td>-0.309016</td>\n",
       "      <td>-0.792417</td>\n",
       "      <td>0.038515</td>\n",
       "      <td>1.029720</td>\n",
       "      <td>0.907127</td>\n",
       "      <td>-2.695129</td>\n",
       "      <td>-0.696983</td>\n",
       "      <td>0.218184</td>\n",
       "      <td>1</td>\n",
       "    </tr>\n",
       "  </tbody>\n",
       "</table>\n",
       "<p>160 rows × 9 columns</p>\n",
       "</div>"
      ],
      "text/plain": [
       "          sbp   tobacco       ldl  adiposity     typea   obesity   alcohol  \\\n",
       "0    1.058564  1.823073  0.478412  -0.295503 -0.418470 -0.176786  3.277738   \n",
       "1    0.277089 -0.790237 -0.159680   0.412140  0.193344  0.671373 -0.612745   \n",
       "3    1.546985  0.842264  0.807126   1.624141 -0.214532  1.412621  0.295062   \n",
       "4   -0.211332  2.171805 -0.599577   0.305351  0.703189 -0.012856  1.647775   \n",
       "7   -1.188175  0.096850 -0.072667  -1.390421  0.907127 -0.697085 -0.422187   \n",
       "..        ...       ...       ...        ...       ...       ...       ...   \n",
       "453 -0.699754 -0.443685  1.198683   1.836434 -1.744067  1.296207 -0.696983   \n",
       "454  0.374774 -0.652924  0.038515   0.336230  0.703189  0.490812 -0.360440   \n",
       "455 -0.504385 -0.304192 -0.923457   0.138089 -0.520439 -0.495142  1.242125   \n",
       "458  2.133091  0.123004 -0.159680   0.861173 -0.112563  0.609602  0.068519   \n",
       "461 -0.309016 -0.792417  0.038515   1.029720  0.907127 -2.695129 -0.696983   \n",
       "\n",
       "          age  chd  \n",
       "0    0.629336    1  \n",
       "1    1.383115    1  \n",
       "3    1.040488    1  \n",
       "4    0.423760    1  \n",
       "7    1.040488    1  \n",
       "..        ...  ...  \n",
       "453  0.560810    1  \n",
       "454 -0.261494    1  \n",
       "455 -1.083798    1  \n",
       "458  0.629336    1  \n",
       "461  0.218184    1  \n",
       "\n",
       "[160 rows x 9 columns]"
      ]
     },
     "execution_count": 139,
     "metadata": {},
     "output_type": "execute_result"
    }
   ],
   "source": [
    "chd_positive"
   ]
  },
  {
   "cell_type": "code",
   "execution_count": 140,
   "metadata": {},
   "outputs": [],
   "source": [
    "chd_negative_new = chd_negative.iloc[ : ,[0,1, 2, 3, 4, 5, 6, 7]]"
   ]
  },
  {
   "cell_type": "code",
   "execution_count": 141,
   "metadata": {},
   "outputs": [],
   "source": [
    "chd_positive_new = chd_positive.iloc[ : ,[0,1, 2, 3, 4, 5, 6, 7]]"
   ]
  },
  {
   "cell_type": "code",
   "execution_count": 142,
   "metadata": {},
   "outputs": [
    {
     "name": "stdout",
     "output_type": "stream",
     "text": [
      "the posterior mean for patients without CHD is:\n",
      " sbp         -0.055344\n",
      "tobacco     -0.086235\n",
      "ldl         -0.075686\n",
      "adiposity   -0.073116\n",
      "typea       -0.029680\n",
      "obesity     -0.028799\n",
      "alcohol     -0.017991\n",
      "age         -0.107312\n",
      "dtype: float64\n"
     ]
    }
   ],
   "source": [
    "## For patients withouot chd\n",
    "v = 462\n",
    "alpha = 9 \n",
    "k = 8\n",
    "xmean = np.mean(chd_negative_new)\n",
    "N = len(chd_negative_new)\n",
    "mu0 = np.zeros(8)\n",
    "mu_star = (v*mu0+ N *xmean)/(v+N)\n",
    "print(\"the posterior mean for patients without CHD is:\\n\", mu_star)"
   ]
  },
  {
   "cell_type": "code",
   "execution_count": 143,
   "metadata": {},
   "outputs": [],
   "source": [
    "## S-matrix:\n",
    "S_matrix = pd.DataFrame(0, index=chd_negative_new.columns, columns = chd_negative_new.columns)\n",
    "for index, row in chd_negative_new.iterrows():\n",
    "    tmp = (row-xmean).to_frame()\n",
    "    tmpT=tmp.T\n",
    "    each_i = tmp.dot(tmpT)\n",
    "    S_matrix+=each_i"
   ]
  },
  {
   "cell_type": "code",
   "execution_count": 144,
   "metadata": {},
   "outputs": [
    {
     "data": {
      "text/html": [
       "<div>\n",
       "<style scoped>\n",
       "    .dataframe tbody tr th:only-of-type {\n",
       "        vertical-align: middle;\n",
       "    }\n",
       "\n",
       "    .dataframe tbody tr th {\n",
       "        vertical-align: top;\n",
       "    }\n",
       "\n",
       "    .dataframe thead th {\n",
       "        text-align: right;\n",
       "    }\n",
       "</style>\n",
       "<table border=\"1\" class=\"dataframe\">\n",
       "  <thead>\n",
       "    <tr style=\"text-align: right;\">\n",
       "      <th></th>\n",
       "      <th>sbp</th>\n",
       "      <th>tobacco</th>\n",
       "      <th>ldl</th>\n",
       "      <th>adiposity</th>\n",
       "      <th>typea</th>\n",
       "      <th>obesity</th>\n",
       "      <th>alcohol</th>\n",
       "      <th>age</th>\n",
       "    </tr>\n",
       "  </thead>\n",
       "  <tbody>\n",
       "    <tr>\n",
       "      <th>sbp</th>\n",
       "      <td>232.260049</td>\n",
       "      <td>38.244868</td>\n",
       "      <td>36.897715</td>\n",
       "      <td>108.277837</td>\n",
       "      <td>-19.633118</td>\n",
       "      <td>79.008160</td>\n",
       "      <td>42.595168</td>\n",
       "      <td>107.072330</td>\n",
       "    </tr>\n",
       "    <tr>\n",
       "      <th>tobacco</th>\n",
       "      <td>38.244868</td>\n",
       "      <td>186.564280</td>\n",
       "      <td>49.194077</td>\n",
       "      <td>77.992896</td>\n",
       "      <td>4.809790</td>\n",
       "      <td>39.289941</td>\n",
       "      <td>44.962429</td>\n",
       "      <td>111.987969</td>\n",
       "    </tr>\n",
       "    <tr>\n",
       "      <th>ldl</th>\n",
       "      <td>36.897715</td>\n",
       "      <td>49.194077</td>\n",
       "      <td>246.079082</td>\n",
       "      <td>110.856114</td>\n",
       "      <td>2.591264</td>\n",
       "      <td>85.059945</td>\n",
       "      <td>10.736726</td>\n",
       "      <td>85.897294</td>\n",
       "    </tr>\n",
       "    <tr>\n",
       "      <th>adiposity</th>\n",
       "      <td>108.277837</td>\n",
       "      <td>77.992896</td>\n",
       "      <td>110.856114</td>\n",
       "      <td>301.046673</td>\n",
       "      <td>-26.657035</td>\n",
       "      <td>207.981738</td>\n",
       "      <td>61.931813</td>\n",
       "      <td>202.736423</td>\n",
       "    </tr>\n",
       "    <tr>\n",
       "      <th>typea</th>\n",
       "      <td>-19.633118</td>\n",
       "      <td>4.809790</td>\n",
       "      <td>2.591264</td>\n",
       "      <td>-26.657035</td>\n",
       "      <td>283.505089</td>\n",
       "      <td>9.629805</td>\n",
       "      <td>25.318168</td>\n",
       "      <td>-36.878619</td>\n",
       "    </tr>\n",
       "    <tr>\n",
       "      <th>obesity</th>\n",
       "      <td>79.008160</td>\n",
       "      <td>39.289941</td>\n",
       "      <td>85.059945</td>\n",
       "      <td>207.981738</td>\n",
       "      <td>9.629805</td>\n",
       "      <td>284.307565</td>\n",
       "      <td>42.598878</td>\n",
       "      <td>100.765087</td>\n",
       "    </tr>\n",
       "    <tr>\n",
       "      <th>alcohol</th>\n",
       "      <td>42.595168</td>\n",
       "      <td>44.962429</td>\n",
       "      <td>10.736726</td>\n",
       "      <td>61.931813</td>\n",
       "      <td>25.318168</td>\n",
       "      <td>42.598878</td>\n",
       "      <td>277.949377</td>\n",
       "      <td>45.104219</td>\n",
       "    </tr>\n",
       "    <tr>\n",
       "      <th>age</th>\n",
       "      <td>107.072330</td>\n",
       "      <td>111.987969</td>\n",
       "      <td>85.897294</td>\n",
       "      <td>202.736423</td>\n",
       "      <td>-36.878619</td>\n",
       "      <td>100.765087</td>\n",
       "      <td>45.104219</td>\n",
       "      <td>313.062062</td>\n",
       "    </tr>\n",
       "  </tbody>\n",
       "</table>\n",
       "</div>"
      ],
      "text/plain": [
       "                  sbp     tobacco         ldl   adiposity       typea  \\\n",
       "sbp        232.260049   38.244868   36.897715  108.277837  -19.633118   \n",
       "tobacco     38.244868  186.564280   49.194077   77.992896    4.809790   \n",
       "ldl         36.897715   49.194077  246.079082  110.856114    2.591264   \n",
       "adiposity  108.277837   77.992896  110.856114  301.046673  -26.657035   \n",
       "typea      -19.633118    4.809790    2.591264  -26.657035  283.505089   \n",
       "obesity     79.008160   39.289941   85.059945  207.981738    9.629805   \n",
       "alcohol     42.595168   44.962429   10.736726   61.931813   25.318168   \n",
       "age        107.072330  111.987969   85.897294  202.736423  -36.878619   \n",
       "\n",
       "              obesity     alcohol         age  \n",
       "sbp         79.008160   42.595168  107.072330  \n",
       "tobacco     39.289941   44.962429  111.987969  \n",
       "ldl         85.059945   10.736726   85.897294  \n",
       "adiposity  207.981738   61.931813  202.736423  \n",
       "typea        9.629805   25.318168  -36.878619  \n",
       "obesity    284.307565   42.598878  100.765087  \n",
       "alcohol     42.598878  277.949377   45.104219  \n",
       "age        100.765087   45.104219  313.062062  "
      ]
     },
     "execution_count": 144,
     "metadata": {},
     "output_type": "execute_result"
    }
   ],
   "source": [
    "S_matrix"
   ]
  },
  {
   "cell_type": "code",
   "execution_count": 145,
   "metadata": {},
   "outputs": [],
   "source": [
    "mu0_xmean = (-xmean).to_frame().dot((-xmean).to_frame().T)"
   ]
  },
  {
   "cell_type": "code",
   "execution_count": 146,
   "metadata": {},
   "outputs": [
    {
     "name": "stdout",
     "output_type": "stream",
     "text": [
      "Posterior precision matrix is:\n",
      "\n"
     ]
    },
    {
     "data": {
      "text/html": [
       "<div>\n",
       "<style scoped>\n",
       "    .dataframe tbody tr th:only-of-type {\n",
       "        vertical-align: middle;\n",
       "    }\n",
       "\n",
       "    .dataframe tbody tr th {\n",
       "        vertical-align: top;\n",
       "    }\n",
       "\n",
       "    .dataframe thead th {\n",
       "        text-align: right;\n",
       "    }\n",
       "</style>\n",
       "<table border=\"1\" class=\"dataframe\">\n",
       "  <thead>\n",
       "    <tr style=\"text-align: right;\">\n",
       "      <th></th>\n",
       "      <th>sbp</th>\n",
       "      <th>tobacco</th>\n",
       "      <th>ldl</th>\n",
       "      <th>adiposity</th>\n",
       "      <th>typea</th>\n",
       "      <th>obesity</th>\n",
       "      <th>alcohol</th>\n",
       "      <th>age</th>\n",
       "    </tr>\n",
       "  </thead>\n",
       "  <tbody>\n",
       "    <tr>\n",
       "      <th>sbp</th>\n",
       "      <td>217.225808</td>\n",
       "      <td>38.755896</td>\n",
       "      <td>17.754005</td>\n",
       "      <td>38.571500</td>\n",
       "      <td>-14.158151</td>\n",
       "      <td>23.946275</td>\n",
       "      <td>17.735802</td>\n",
       "      <td>46.335853</td>\n",
       "    </tr>\n",
       "    <tr>\n",
       "      <th>tobacco</th>\n",
       "      <td>38.755896</td>\n",
       "      <td>243.625445</td>\n",
       "      <td>-4.576305</td>\n",
       "      <td>26.616119</td>\n",
       "      <td>-22.851166</td>\n",
       "      <td>7.285175</td>\n",
       "      <td>40.968083</td>\n",
       "      <td>55.234929</td>\n",
       "    </tr>\n",
       "    <tr>\n",
       "      <th>ldl</th>\n",
       "      <td>17.754005</td>\n",
       "      <td>-4.576305</td>\n",
       "      <td>191.647090</td>\n",
       "      <td>68.207638</td>\n",
       "      <td>7.847611</td>\n",
       "      <td>58.016730</td>\n",
       "      <td>-32.176979</td>\n",
       "      <td>22.319061</td>\n",
       "    </tr>\n",
       "    <tr>\n",
       "      <th>adiposity</th>\n",
       "      <td>38.571500</td>\n",
       "      <td>26.616119</td>\n",
       "      <td>68.207638</td>\n",
       "      <td>138.366582</td>\n",
       "      <td>-2.849924</td>\n",
       "      <td>113.776741</td>\n",
       "      <td>-21.383196</td>\n",
       "      <td>51.836311</td>\n",
       "    </tr>\n",
       "    <tr>\n",
       "      <th>typea</th>\n",
       "      <td>-14.158151</td>\n",
       "      <td>-22.851166</td>\n",
       "      <td>7.847611</td>\n",
       "      <td>-2.849924</td>\n",
       "      <td>175.608281</td>\n",
       "      <td>20.789706</td>\n",
       "      <td>-9.426105</td>\n",
       "      <td>-24.578114</td>\n",
       "    </tr>\n",
       "    <tr>\n",
       "      <th>obesity</th>\n",
       "      <td>23.946275</td>\n",
       "      <td>7.285175</td>\n",
       "      <td>58.016730</td>\n",
       "      <td>113.776741</td>\n",
       "      <td>20.789706</td>\n",
       "      <td>175.033026</td>\n",
       "      <td>-21.036718</td>\n",
       "      <td>20.400289</td>\n",
       "    </tr>\n",
       "    <tr>\n",
       "      <th>alcohol</th>\n",
       "      <td>17.735802</td>\n",
       "      <td>40.968083</td>\n",
       "      <td>-32.176979</td>\n",
       "      <td>-21.383196</td>\n",
       "      <td>-9.426105</td>\n",
       "      <td>-21.036718</td>\n",
       "      <td>183.622480</td>\n",
       "      <td>-6.903003</td>\n",
       "    </tr>\n",
       "    <tr>\n",
       "      <th>age</th>\n",
       "      <td>46.335853</td>\n",
       "      <td>55.234929</td>\n",
       "      <td>22.319061</td>\n",
       "      <td>51.836311</td>\n",
       "      <td>-24.578114</td>\n",
       "      <td>20.400289</td>\n",
       "      <td>-6.903003</td>\n",
       "      <td>99.128881</td>\n",
       "    </tr>\n",
       "  </tbody>\n",
       "</table>\n",
       "</div>"
      ],
      "text/plain": [
       "                  sbp     tobacco         ldl   adiposity       typea  \\\n",
       "sbp        217.225808   38.755896   17.754005   38.571500  -14.158151   \n",
       "tobacco     38.755896  243.625445   -4.576305   26.616119  -22.851166   \n",
       "ldl         17.754005   -4.576305  191.647090   68.207638    7.847611   \n",
       "adiposity   38.571500   26.616119   68.207638  138.366582   -2.849924   \n",
       "typea      -14.158151  -22.851166    7.847611   -2.849924  175.608281   \n",
       "obesity     23.946275    7.285175   58.016730  113.776741   20.789706   \n",
       "alcohol     17.735802   40.968083  -32.176979  -21.383196   -9.426105   \n",
       "age         46.335853   55.234929   22.319061   51.836311  -24.578114   \n",
       "\n",
       "              obesity     alcohol        age  \n",
       "sbp         23.946275   17.735802  46.335853  \n",
       "tobacco      7.285175   40.968083  55.234929  \n",
       "ldl         58.016730  -32.176979  22.319061  \n",
       "adiposity  113.776741  -21.383196  51.836311  \n",
       "typea       20.789706   -9.426105 -24.578114  \n",
       "obesity    175.033026  -21.036718  20.400289  \n",
       "alcohol    -21.036718  183.622480  -6.903003  \n",
       "age         20.400289   -6.903003  99.128881  "
      ]
     },
     "execution_count": 146,
     "metadata": {},
     "output_type": "execute_result"
    }
   ],
   "source": [
    "r_star = np.eye(8)+Smatrix+mu0_xmean*v*N/(v+N)\n",
    "print(\"Posterior precision matrix is:\\n\")\n",
    "r_star"
   ]
  },
  {
   "cell_type": "code",
   "execution_count": 147,
   "metadata": {},
   "outputs": [
    {
     "data": {
      "text/html": [
       "<div>\n",
       "<style scoped>\n",
       "    .dataframe tbody tr th:only-of-type {\n",
       "        vertical-align: middle;\n",
       "    }\n",
       "\n",
       "    .dataframe tbody tr th {\n",
       "        vertical-align: top;\n",
       "    }\n",
       "\n",
       "    .dataframe thead th {\n",
       "        text-align: right;\n",
       "    }\n",
       "</style>\n",
       "<table border=\"1\" class=\"dataframe\">\n",
       "  <thead>\n",
       "    <tr style=\"text-align: right;\">\n",
       "      <th></th>\n",
       "      <th>sbp</th>\n",
       "      <th>tobacco</th>\n",
       "      <th>ldl</th>\n",
       "      <th>adiposity</th>\n",
       "      <th>typea</th>\n",
       "      <th>obesity</th>\n",
       "      <th>alcohol</th>\n",
       "      <th>age</th>\n",
       "    </tr>\n",
       "  </thead>\n",
       "  <tbody>\n",
       "    <tr>\n",
       "      <th>sbp</th>\n",
       "      <td>1.069377</td>\n",
       "      <td>0.108618</td>\n",
       "      <td>0.020314</td>\n",
       "      <td>-0.000588</td>\n",
       "      <td>-0.019139</td>\n",
       "      <td>-0.052472</td>\n",
       "      <td>0.050636</td>\n",
       "      <td>0.085350</td>\n",
       "    </tr>\n",
       "    <tr>\n",
       "      <th>tobacco</th>\n",
       "      <td>0.151827</td>\n",
       "      <td>1.543612</td>\n",
       "      <td>-0.184024</td>\n",
       "      <td>0.047481</td>\n",
       "      <td>-0.164963</td>\n",
       "      <td>0.000047</td>\n",
       "      <td>0.192738</td>\n",
       "      <td>0.149879</td>\n",
       "    </tr>\n",
       "    <tr>\n",
       "      <th>ldl</th>\n",
       "      <td>0.015897</td>\n",
       "      <td>-0.216758</td>\n",
       "      <td>0.816598</td>\n",
       "      <td>0.071226</td>\n",
       "      <td>0.012547</td>\n",
       "      <td>0.046530</td>\n",
       "      <td>-0.085224</td>\n",
       "      <td>-0.025689</td>\n",
       "    </tr>\n",
       "    <tr>\n",
       "      <th>adiposity</th>\n",
       "      <td>-0.130916</td>\n",
       "      <td>-0.088725</td>\n",
       "      <td>0.097584</td>\n",
       "      <td>0.569991</td>\n",
       "      <td>0.091600</td>\n",
       "      <td>0.094388</td>\n",
       "      <td>-0.213406</td>\n",
       "      <td>-0.071258</td>\n",
       "    </tr>\n",
       "    <tr>\n",
       "      <th>typea</th>\n",
       "      <td>-0.011122</td>\n",
       "      <td>-0.158342</td>\n",
       "      <td>0.022480</td>\n",
       "      <td>0.022370</td>\n",
       "      <td>0.633017</td>\n",
       "      <td>0.049156</td>\n",
       "      <td>-0.120558</td>\n",
       "      <td>-0.050050</td>\n",
       "    </tr>\n",
       "    <tr>\n",
       "      <th>obesity</th>\n",
       "      <td>-0.076090</td>\n",
       "      <td>0.037253</td>\n",
       "      <td>-0.028544</td>\n",
       "      <td>0.064939</td>\n",
       "      <td>0.020501</td>\n",
       "      <td>0.625602</td>\n",
       "      <td>-0.012682</td>\n",
       "      <td>-0.001009</td>\n",
       "    </tr>\n",
       "    <tr>\n",
       "      <th>alcohol</th>\n",
       "      <td>-0.057739</td>\n",
       "      <td>-0.030678</td>\n",
       "      <td>-0.119325</td>\n",
       "      <td>-0.188493</td>\n",
       "      <td>-0.086557</td>\n",
       "      <td>-0.163993</td>\n",
       "      <td>0.692124</td>\n",
       "      <td>-0.088249</td>\n",
       "    </tr>\n",
       "    <tr>\n",
       "      <th>age</th>\n",
       "      <td>-0.176169</td>\n",
       "      <td>-0.350871</td>\n",
       "      <td>-0.142269</td>\n",
       "      <td>-0.240033</td>\n",
       "      <td>0.000619</td>\n",
       "      <td>-0.164768</td>\n",
       "      <td>-0.056321</td>\n",
       "      <td>0.278358</td>\n",
       "    </tr>\n",
       "  </tbody>\n",
       "</table>\n",
       "</div>"
      ],
      "text/plain": [
       "                sbp   tobacco       ldl  adiposity     typea   obesity  \\\n",
       "sbp        1.069377  0.108618  0.020314  -0.000588 -0.019139 -0.052472   \n",
       "tobacco    0.151827  1.543612 -0.184024   0.047481 -0.164963  0.000047   \n",
       "ldl        0.015897 -0.216758  0.816598   0.071226  0.012547  0.046530   \n",
       "adiposity -0.130916 -0.088725  0.097584   0.569991  0.091600  0.094388   \n",
       "typea     -0.011122 -0.158342  0.022480   0.022370  0.633017  0.049156   \n",
       "obesity   -0.076090  0.037253 -0.028544   0.064939  0.020501  0.625602   \n",
       "alcohol   -0.057739 -0.030678 -0.119325  -0.188493 -0.086557 -0.163993   \n",
       "age       -0.176169 -0.350871 -0.142269  -0.240033  0.000619 -0.164768   \n",
       "\n",
       "            alcohol       age  \n",
       "sbp        0.050636  0.085350  \n",
       "tobacco    0.192738  0.149879  \n",
       "ldl       -0.085224 -0.025689  \n",
       "adiposity -0.213406 -0.071258  \n",
       "typea     -0.120558 -0.050050  \n",
       "obesity   -0.012682 -0.001009  \n",
       "alcohol    0.692124 -0.088249  \n",
       "age       -0.056321  0.278358  "
      ]
     },
     "execution_count": 147,
     "metadata": {},
     "output_type": "execute_result"
    }
   ],
   "source": [
    "## Degree of freedom\n",
    "alpha+len(chd_negative_new)\n",
    "## Posterior marginal alpha+N-k+1\n",
    "alpha+N-k+1\n",
    "## Parameter\n",
    "param = (v+N)*(alpha+N-k+1)\n",
    "## r_star inversion\n",
    "r_star_inv.dot(r_star)"
   ]
  },
  {
   "cell_type": "code",
   "execution_count": 148,
   "metadata": {},
   "outputs": [
    {
     "data": {
      "text/html": [
       "<div>\n",
       "<style scoped>\n",
       "    .dataframe tbody tr th:only-of-type {\n",
       "        vertical-align: middle;\n",
       "    }\n",
       "\n",
       "    .dataframe tbody tr th {\n",
       "        vertical-align: top;\n",
       "    }\n",
       "\n",
       "    .dataframe thead th {\n",
       "        text-align: right;\n",
       "    }\n",
       "</style>\n",
       "<table border=\"1\" class=\"dataframe\">\n",
       "  <thead>\n",
       "    <tr style=\"text-align: right;\">\n",
       "      <th></th>\n",
       "      <th>sbp</th>\n",
       "      <th>tobacco</th>\n",
       "      <th>ldl</th>\n",
       "      <th>adiposity</th>\n",
       "      <th>typea</th>\n",
       "      <th>obesity</th>\n",
       "      <th>alcohol</th>\n",
       "      <th>age</th>\n",
       "    </tr>\n",
       "  </thead>\n",
       "  <tbody>\n",
       "    <tr>\n",
       "      <th>sbp</th>\n",
       "      <td>1253.888388</td>\n",
       "      <td>10.451143</td>\n",
       "      <td>21.292419</td>\n",
       "      <td>-175.786542</td>\n",
       "      <td>43.504717</td>\n",
       "      <td>-119.126753</td>\n",
       "      <td>-97.938426</td>\n",
       "      <td>-276.347333</td>\n",
       "    </tr>\n",
       "    <tr>\n",
       "      <th>tobacco</th>\n",
       "      <td>10.451143</td>\n",
       "      <td>1611.998553</td>\n",
       "      <td>-153.425600</td>\n",
       "      <td>-20.656145</td>\n",
       "      <td>-93.254071</td>\n",
       "      <td>51.280758</td>\n",
       "      <td>-165.824903</td>\n",
       "      <td>-551.809764</td>\n",
       "    </tr>\n",
       "    <tr>\n",
       "      <th>ldl</th>\n",
       "      <td>21.292419</td>\n",
       "      <td>-153.425600</td>\n",
       "      <td>1144.366556</td>\n",
       "      <td>-313.173423</td>\n",
       "      <td>-53.211475</td>\n",
       "      <td>-87.417415</td>\n",
       "      <td>73.113516</td>\n",
       "      <td>-68.656640</td>\n",
       "    </tr>\n",
       "    <tr>\n",
       "      <th>adiposity</th>\n",
       "      <td>-175.786542</td>\n",
       "      <td>-20.656145</td>\n",
       "      <td>-313.173423</td>\n",
       "      <td>2737.489658</td>\n",
       "      <td>167.903060</td>\n",
       "      <td>-1438.041061</td>\n",
       "      <td>-182.268326</td>\n",
       "      <td>-1109.369643</td>\n",
       "    </tr>\n",
       "    <tr>\n",
       "      <th>typea</th>\n",
       "      <td>43.504717</td>\n",
       "      <td>-93.254071</td>\n",
       "      <td>-53.211475</td>\n",
       "      <td>167.903060</td>\n",
       "      <td>856.879146</td>\n",
       "      <td>-150.444767</td>\n",
       "      <td>-96.075750</td>\n",
       "      <td>75.267817</td>\n",
       "    </tr>\n",
       "    <tr>\n",
       "      <th>obesity</th>\n",
       "      <td>-119.126753</td>\n",
       "      <td>51.280758</td>\n",
       "      <td>-87.417415</td>\n",
       "      <td>-1438.041061</td>\n",
       "      <td>-150.444767</td>\n",
       "      <td>1781.554879</td>\n",
       "      <td>12.410417</td>\n",
       "      <td>393.331393</td>\n",
       "    </tr>\n",
       "    <tr>\n",
       "      <th>alcohol</th>\n",
       "      <td>-97.938426</td>\n",
       "      <td>-165.824903</td>\n",
       "      <td>73.113516</td>\n",
       "      <td>-182.268326</td>\n",
       "      <td>-96.075750</td>\n",
       "      <td>12.410417</td>\n",
       "      <td>911.752285</td>\n",
       "      <td>47.379280</td>\n",
       "    </tr>\n",
       "    <tr>\n",
       "      <th>age</th>\n",
       "      <td>-276.347333</td>\n",
       "      <td>-551.809764</td>\n",
       "      <td>-68.656640</td>\n",
       "      <td>-1109.369643</td>\n",
       "      <td>75.267817</td>\n",
       "      <td>393.331393</td>\n",
       "      <td>47.379280</td>\n",
       "      <td>1625.410336</td>\n",
       "    </tr>\n",
       "  </tbody>\n",
       "</table>\n",
       "</div>"
      ],
      "text/plain": [
       "                   sbp      tobacco          ldl    adiposity       typea  \\\n",
       "sbp        1253.888388    10.451143    21.292419  -175.786542   43.504717   \n",
       "tobacco      10.451143  1611.998553  -153.425600   -20.656145  -93.254071   \n",
       "ldl          21.292419  -153.425600  1144.366556  -313.173423  -53.211475   \n",
       "adiposity  -175.786542   -20.656145  -313.173423  2737.489658  167.903060   \n",
       "typea        43.504717   -93.254071   -53.211475   167.903060  856.879146   \n",
       "obesity    -119.126753    51.280758   -87.417415 -1438.041061 -150.444767   \n",
       "alcohol     -97.938426  -165.824903    73.113516  -182.268326  -96.075750   \n",
       "age        -276.347333  -551.809764   -68.656640 -1109.369643   75.267817   \n",
       "\n",
       "               obesity     alcohol          age  \n",
       "sbp        -119.126753  -97.938426  -276.347333  \n",
       "tobacco      51.280758 -165.824903  -551.809764  \n",
       "ldl         -87.417415   73.113516   -68.656640  \n",
       "adiposity -1438.041061 -182.268326 -1109.369643  \n",
       "typea      -150.444767  -96.075750    75.267817  \n",
       "obesity    1781.554879   12.410417   393.331393  \n",
       "alcohol      12.410417  911.752285    47.379280  \n",
       "age         393.331393   47.379280  1625.410336  "
      ]
     },
     "execution_count": 148,
     "metadata": {},
     "output_type": "execute_result"
    }
   ],
   "source": [
    "## Given by the lecture, Posterior f(m|x) is multivariaate t distribution with alpha+N-k+1 and location parameter u* (mu_star)\\\n",
    "## and precision (v+N)(allpha+N-k+1)(r_star)_inv\n",
    "## r_star_posterior\n",
    "r_star_posterior = param*r_star_inv\n",
    "r_star_posterior "
   ]
  },
  {
   "cell_type": "code",
   "execution_count": 149,
   "metadata": {},
   "outputs": [
    {
     "name": "stdout",
     "output_type": "stream",
     "text": [
      "the posterior mean for patients with CHD is:\n",
      " sbp          0.067979\n",
      "tobacco      0.105922\n",
      "ldl          0.092964\n",
      "adiposity    0.089808\n",
      "typea        0.036456\n",
      "obesity      0.035374\n",
      "alcohol      0.022099\n",
      "age          0.131811\n",
      "dtype: float64\n"
     ]
    }
   ],
   "source": [
    "## ## For patients with chd\n",
    "v = 462\n",
    "alpha = 9 \n",
    "k = 8\n",
    "xmean = np.mean(chd_positive_new)\n",
    "N = len(chd_positive_new)\n",
    "mu0 = np.zeros(8)\n",
    "mu_star = (v*mu0+ N *xmean)/(v+N)\n",
    "print(\"the posterior mean for patients with CHD is:\\n\", mu_star)"
   ]
  },
  {
   "cell_type": "code",
   "execution_count": 150,
   "metadata": {},
   "outputs": [],
   "source": [
    "## S-matrix:\n",
    "S_matrix = pd.DataFrame(0, index=chd_positive_new.columns, columns = chd_positive_new.columns)\n",
    "for index, row in chd_positive_new.iterrows():\n",
    "    tmp = (row-xmean).to_frame()\n",
    "    tmpT=tmp.T\n",
    "    each_i = tmp.dot(tmpT)\n",
    "    S_matrix+=each_i"
   ]
  },
  {
   "cell_type": "code",
   "execution_count": 151,
   "metadata": {},
   "outputs": [
    {
     "data": {
      "text/html": [
       "<div>\n",
       "<style scoped>\n",
       "    .dataframe tbody tr th:only-of-type {\n",
       "        vertical-align: middle;\n",
       "    }\n",
       "\n",
       "    .dataframe tbody tr th {\n",
       "        vertical-align: top;\n",
       "    }\n",
       "\n",
       "    .dataframe thead th {\n",
       "        text-align: right;\n",
       "    }\n",
       "</style>\n",
       "<table border=\"1\" class=\"dataframe\">\n",
       "  <thead>\n",
       "    <tr style=\"text-align: right;\">\n",
       "      <th></th>\n",
       "      <th>sbp</th>\n",
       "      <th>tobacco</th>\n",
       "      <th>ldl</th>\n",
       "      <th>adiposity</th>\n",
       "      <th>typea</th>\n",
       "      <th>obesity</th>\n",
       "      <th>alcohol</th>\n",
       "      <th>age</th>\n",
       "    </tr>\n",
       "  </thead>\n",
       "  <tbody>\n",
       "    <tr>\n",
       "      <th>sbp</th>\n",
       "      <td>212.645903</td>\n",
       "      <td>33.177849</td>\n",
       "      <td>12.858328</td>\n",
       "      <td>33.842043</td>\n",
       "      <td>-16.077986</td>\n",
       "      <td>22.083404</td>\n",
       "      <td>16.572042</td>\n",
       "      <td>39.394441</td>\n",
       "    </tr>\n",
       "    <tr>\n",
       "      <th>tobacco</th>\n",
       "      <td>33.177849</td>\n",
       "      <td>233.933981</td>\n",
       "      <td>-12.204530</td>\n",
       "      <td>19.246891</td>\n",
       "      <td>-25.842566</td>\n",
       "      <td>4.382533</td>\n",
       "      <td>39.154765</td>\n",
       "      <td>44.419132</td>\n",
       "    </tr>\n",
       "    <tr>\n",
       "      <th>ldl</th>\n",
       "      <td>12.858328</td>\n",
       "      <td>-12.204530</td>\n",
       "      <td>183.952036</td>\n",
       "      <td>61.739898</td>\n",
       "      <td>5.222153</td>\n",
       "      <td>55.469172</td>\n",
       "      <td>-33.768471</td>\n",
       "      <td>12.826375</td>\n",
       "    </tr>\n",
       "    <tr>\n",
       "      <th>adiposity</th>\n",
       "      <td>33.842043</td>\n",
       "      <td>19.246891</td>\n",
       "      <td>61.739898</td>\n",
       "      <td>131.118438</td>\n",
       "      <td>-5.386242</td>\n",
       "      <td>111.315680</td>\n",
       "      <td>-22.920653</td>\n",
       "      <td>42.665925</td>\n",
       "    </tr>\n",
       "    <tr>\n",
       "      <th>typea</th>\n",
       "      <td>-16.077986</td>\n",
       "      <td>-25.842566</td>\n",
       "      <td>5.222153</td>\n",
       "      <td>-5.386242</td>\n",
       "      <td>173.578711</td>\n",
       "      <td>19.790684</td>\n",
       "      <td>-10.050207</td>\n",
       "      <td>-28.300661</td>\n",
       "    </tr>\n",
       "    <tr>\n",
       "      <th>obesity</th>\n",
       "      <td>22.083404</td>\n",
       "      <td>4.382533</td>\n",
       "      <td>55.469172</td>\n",
       "      <td>111.315680</td>\n",
       "      <td>19.790684</td>\n",
       "      <td>173.063646</td>\n",
       "      <td>-21.642302</td>\n",
       "      <td>16.788195</td>\n",
       "    </tr>\n",
       "    <tr>\n",
       "      <th>alcohol</th>\n",
       "      <td>16.572042</td>\n",
       "      <td>39.154765</td>\n",
       "      <td>-33.768471</td>\n",
       "      <td>-22.920653</td>\n",
       "      <td>-10.050207</td>\n",
       "      <td>-21.642302</td>\n",
       "      <td>182.244164</td>\n",
       "      <td>-9.159525</td>\n",
       "    </tr>\n",
       "    <tr>\n",
       "      <th>age</th>\n",
       "      <td>39.394441</td>\n",
       "      <td>44.419132</td>\n",
       "      <td>12.826375</td>\n",
       "      <td>42.665925</td>\n",
       "      <td>-28.300661</td>\n",
       "      <td>16.788195</td>\n",
       "      <td>-9.159525</td>\n",
       "      <td>84.669529</td>\n",
       "    </tr>\n",
       "  </tbody>\n",
       "</table>\n",
       "</div>"
      ],
      "text/plain": [
       "                  sbp     tobacco         ldl   adiposity       typea  \\\n",
       "sbp        212.645903   33.177849   12.858328   33.842043  -16.077986   \n",
       "tobacco     33.177849  233.933981  -12.204530   19.246891  -25.842566   \n",
       "ldl         12.858328  -12.204530  183.952036   61.739898    5.222153   \n",
       "adiposity   33.842043   19.246891   61.739898  131.118438   -5.386242   \n",
       "typea      -16.077986  -25.842566    5.222153   -5.386242  173.578711   \n",
       "obesity     22.083404    4.382533   55.469172  111.315680   19.790684   \n",
       "alcohol     16.572042   39.154765  -33.768471  -22.920653  -10.050207   \n",
       "age         39.394441   44.419132   12.826375   42.665925  -28.300661   \n",
       "\n",
       "              obesity     alcohol        age  \n",
       "sbp         22.083404   16.572042  39.394441  \n",
       "tobacco      4.382533   39.154765  44.419132  \n",
       "ldl         55.469172  -33.768471  12.826375  \n",
       "adiposity  111.315680  -22.920653  42.665925  \n",
       "typea       19.790684  -10.050207 -28.300661  \n",
       "obesity    173.063646  -21.642302  16.788195  \n",
       "alcohol    -21.642302  182.244164  -9.159525  \n",
       "age         16.788195   -9.159525  84.669529  "
      ]
     },
     "execution_count": 151,
     "metadata": {},
     "output_type": "execute_result"
    }
   ],
   "source": [
    "S_matrix"
   ]
  },
  {
   "cell_type": "code",
   "execution_count": 152,
   "metadata": {},
   "outputs": [],
   "source": [
    "mu0_xmean = (-xmean).to_frame().dot((-xmean).to_frame().T)"
   ]
  },
  {
   "cell_type": "code",
   "execution_count": 153,
   "metadata": {},
   "outputs": [
    {
     "name": "stdout",
     "output_type": "stream",
     "text": [
      "Posterior precision matrix is:\n",
      "\n"
     ]
    },
    {
     "data": {
      "text/html": [
       "<div>\n",
       "<style scoped>\n",
       "    .dataframe tbody tr th:only-of-type {\n",
       "        vertical-align: middle;\n",
       "    }\n",
       "\n",
       "    .dataframe tbody tr th {\n",
       "        vertical-align: top;\n",
       "    }\n",
       "\n",
       "    .dataframe thead th {\n",
       "        text-align: right;\n",
       "    }\n",
       "</style>\n",
       "<table border=\"1\" class=\"dataframe\">\n",
       "  <thead>\n",
       "    <tr style=\"text-align: right;\">\n",
       "      <th></th>\n",
       "      <th>sbp</th>\n",
       "      <th>tobacco</th>\n",
       "      <th>ldl</th>\n",
       "      <th>adiposity</th>\n",
       "      <th>typea</th>\n",
       "      <th>obesity</th>\n",
       "      <th>alcohol</th>\n",
       "      <th>age</th>\n",
       "    </tr>\n",
       "  </thead>\n",
       "  <tbody>\n",
       "    <tr>\n",
       "      <th>sbp</th>\n",
       "      <td>221.945586</td>\n",
       "      <td>46.110041</td>\n",
       "      <td>24.208508</td>\n",
       "      <td>44.806855</td>\n",
       "      <td>-11.627025</td>\n",
       "      <td>26.402300</td>\n",
       "      <td>19.270112</td>\n",
       "      <td>55.487470</td>\n",
       "    </tr>\n",
       "    <tr>\n",
       "      <th>tobacco</th>\n",
       "      <td>46.110041</td>\n",
       "      <td>255.084343</td>\n",
       "      <td>5.480811</td>\n",
       "      <td>36.331770</td>\n",
       "      <td>-18.907279</td>\n",
       "      <td>11.112042</td>\n",
       "      <td>43.358776</td>\n",
       "      <td>69.494567</td>\n",
       "    </tr>\n",
       "    <tr>\n",
       "      <th>ldl</th>\n",
       "      <td>24.208508</td>\n",
       "      <td>5.480811</td>\n",
       "      <td>200.473905</td>\n",
       "      <td>76.734760</td>\n",
       "      <td>11.309037</td>\n",
       "      <td>61.375451</td>\n",
       "      <td>-30.078742</td>\n",
       "      <td>34.834298</td>\n",
       "    </tr>\n",
       "    <tr>\n",
       "      <th>adiposity</th>\n",
       "      <td>44.806855</td>\n",
       "      <td>36.331770</td>\n",
       "      <td>76.734760</td>\n",
       "      <td>146.604188</td>\n",
       "      <td>0.493978</td>\n",
       "      <td>117.021426</td>\n",
       "      <td>-19.356200</td>\n",
       "      <td>63.926624</td>\n",
       "    </tr>\n",
       "    <tr>\n",
       "      <th>typea</th>\n",
       "      <td>-11.627025</td>\n",
       "      <td>-18.907279</td>\n",
       "      <td>11.309037</td>\n",
       "      <td>0.493978</td>\n",
       "      <td>176.965676</td>\n",
       "      <td>22.106825</td>\n",
       "      <td>-8.603283</td>\n",
       "      <td>-19.670277</td>\n",
       "    </tr>\n",
       "    <tr>\n",
       "      <th>obesity</th>\n",
       "      <td>26.402300</td>\n",
       "      <td>11.112042</td>\n",
       "      <td>61.375451</td>\n",
       "      <td>117.021426</td>\n",
       "      <td>22.106825</td>\n",
       "      <td>176.311064</td>\n",
       "      <td>-20.238310</td>\n",
       "      <td>25.162505</td>\n",
       "    </tr>\n",
       "    <tr>\n",
       "      <th>alcohol</th>\n",
       "      <td>19.270112</td>\n",
       "      <td>43.358776</td>\n",
       "      <td>-30.078742</td>\n",
       "      <td>-19.356200</td>\n",
       "      <td>-8.603283</td>\n",
       "      <td>-20.238310</td>\n",
       "      <td>184.121255</td>\n",
       "      <td>-3.927986</td>\n",
       "    </tr>\n",
       "    <tr>\n",
       "      <th>age</th>\n",
       "      <td>55.487470</td>\n",
       "      <td>69.494567</td>\n",
       "      <td>34.834298</td>\n",
       "      <td>63.926624</td>\n",
       "      <td>-19.670277</td>\n",
       "      <td>25.162505</td>\n",
       "      <td>-3.927986</td>\n",
       "      <td>116.873804</td>\n",
       "    </tr>\n",
       "  </tbody>\n",
       "</table>\n",
       "</div>"
      ],
      "text/plain": [
       "                  sbp     tobacco         ldl   adiposity       typea  \\\n",
       "sbp        221.945586   46.110041   24.208508   44.806855  -11.627025   \n",
       "tobacco     46.110041  255.084343    5.480811   36.331770  -18.907279   \n",
       "ldl         24.208508    5.480811  200.473905   76.734760   11.309037   \n",
       "adiposity   44.806855   36.331770   76.734760  146.604188    0.493978   \n",
       "typea      -11.627025  -18.907279   11.309037    0.493978  176.965676   \n",
       "obesity     26.402300   11.112042   61.375451  117.021426   22.106825   \n",
       "alcohol     19.270112   43.358776  -30.078742  -19.356200   -8.603283   \n",
       "age         55.487470   69.494567   34.834298   63.926624  -19.670277   \n",
       "\n",
       "              obesity     alcohol         age  \n",
       "sbp         26.402300   19.270112   55.487470  \n",
       "tobacco     11.112042   43.358776   69.494567  \n",
       "ldl         61.375451  -30.078742   34.834298  \n",
       "adiposity  117.021426  -19.356200   63.926624  \n",
       "typea       22.106825   -8.603283  -19.670277  \n",
       "obesity    176.311064  -20.238310   25.162505  \n",
       "alcohol    -20.238310  184.121255   -3.927986  \n",
       "age         25.162505   -3.927986  116.873804  "
      ]
     },
     "execution_count": 153,
     "metadata": {},
     "output_type": "execute_result"
    }
   ],
   "source": [
    "r_star = np.eye(8)+Smatrix+mu0_xmean*v*N/(v+N)\n",
    "print(\"Posterior precision matrix is:\\n\")\n",
    "r_star"
   ]
  },
  {
   "cell_type": "code",
   "execution_count": 154,
   "metadata": {},
   "outputs": [
    {
     "data": {
      "text/html": [
       "<div>\n",
       "<style scoped>\n",
       "    .dataframe tbody tr th:only-of-type {\n",
       "        vertical-align: middle;\n",
       "    }\n",
       "\n",
       "    .dataframe tbody tr th {\n",
       "        vertical-align: top;\n",
       "    }\n",
       "\n",
       "    .dataframe thead th {\n",
       "        text-align: right;\n",
       "    }\n",
       "</style>\n",
       "<table border=\"1\" class=\"dataframe\">\n",
       "  <thead>\n",
       "    <tr style=\"text-align: right;\">\n",
       "      <th></th>\n",
       "      <th>sbp</th>\n",
       "      <th>tobacco</th>\n",
       "      <th>ldl</th>\n",
       "      <th>adiposity</th>\n",
       "      <th>typea</th>\n",
       "      <th>obesity</th>\n",
       "      <th>alcohol</th>\n",
       "      <th>age</th>\n",
       "    </tr>\n",
       "  </thead>\n",
       "  <tbody>\n",
       "    <tr>\n",
       "      <th>sbp</th>\n",
       "      <td>1.078740</td>\n",
       "      <td>0.123206</td>\n",
       "      <td>0.033117</td>\n",
       "      <td>0.011781</td>\n",
       "      <td>-0.014118</td>\n",
       "      <td>-0.047600</td>\n",
       "      <td>0.053680</td>\n",
       "      <td>0.103504</td>\n",
       "    </tr>\n",
       "    <tr>\n",
       "      <th>tobacco</th>\n",
       "      <td>0.174951</td>\n",
       "      <td>1.579642</td>\n",
       "      <td>-0.152401</td>\n",
       "      <td>0.078030</td>\n",
       "      <td>-0.152562</td>\n",
       "      <td>0.012080</td>\n",
       "      <td>0.200255</td>\n",
       "      <td>0.194716</td>\n",
       "    </tr>\n",
       "    <tr>\n",
       "      <th>ldl</th>\n",
       "      <td>0.031140</td>\n",
       "      <td>-0.193008</td>\n",
       "      <td>0.837443</td>\n",
       "      <td>0.091364</td>\n",
       "      <td>0.020721</td>\n",
       "      <td>0.054462</td>\n",
       "      <td>-0.080269</td>\n",
       "      <td>0.003866</td>\n",
       "    </tr>\n",
       "    <tr>\n",
       "      <th>adiposity</th>\n",
       "      <td>-0.128646</td>\n",
       "      <td>-0.085188</td>\n",
       "      <td>0.100688</td>\n",
       "      <td>0.572990</td>\n",
       "      <td>0.092817</td>\n",
       "      <td>0.095570</td>\n",
       "      <td>-0.212668</td>\n",
       "      <td>-0.066857</td>\n",
       "    </tr>\n",
       "    <tr>\n",
       "      <th>typea</th>\n",
       "      <td>-0.000083</td>\n",
       "      <td>-0.141142</td>\n",
       "      <td>0.037576</td>\n",
       "      <td>0.036953</td>\n",
       "      <td>0.638937</td>\n",
       "      <td>0.054900</td>\n",
       "      <td>-0.116970</td>\n",
       "      <td>-0.028646</td>\n",
       "    </tr>\n",
       "    <tr>\n",
       "      <th>obesity</th>\n",
       "      <td>-0.085143</td>\n",
       "      <td>0.023147</td>\n",
       "      <td>-0.040925</td>\n",
       "      <td>0.052978</td>\n",
       "      <td>0.015646</td>\n",
       "      <td>0.620891</td>\n",
       "      <td>-0.015625</td>\n",
       "      <td>-0.018563</td>\n",
       "    </tr>\n",
       "    <tr>\n",
       "      <th>alcohol</th>\n",
       "      <td>-0.060867</td>\n",
       "      <td>-0.035552</td>\n",
       "      <td>-0.123603</td>\n",
       "      <td>-0.192625</td>\n",
       "      <td>-0.088234</td>\n",
       "      <td>-0.165621</td>\n",
       "      <td>0.691108</td>\n",
       "      <td>-0.094314</td>\n",
       "    </tr>\n",
       "    <tr>\n",
       "      <th>age</th>\n",
       "      <td>-0.161610</td>\n",
       "      <td>-0.328185</td>\n",
       "      <td>-0.122358</td>\n",
       "      <td>-0.220798</td>\n",
       "      <td>0.008427</td>\n",
       "      <td>-0.157191</td>\n",
       "      <td>-0.051588</td>\n",
       "      <td>0.306588</td>\n",
       "    </tr>\n",
       "  </tbody>\n",
       "</table>\n",
       "</div>"
      ],
      "text/plain": [
       "                sbp   tobacco       ldl  adiposity     typea   obesity  \\\n",
       "sbp        1.078740  0.123206  0.033117   0.011781 -0.014118 -0.047600   \n",
       "tobacco    0.174951  1.579642 -0.152401   0.078030 -0.152562  0.012080   \n",
       "ldl        0.031140 -0.193008  0.837443   0.091364  0.020721  0.054462   \n",
       "adiposity -0.128646 -0.085188  0.100688   0.572990  0.092817  0.095570   \n",
       "typea     -0.000083 -0.141142  0.037576   0.036953  0.638937  0.054900   \n",
       "obesity   -0.085143  0.023147 -0.040925   0.052978  0.015646  0.620891   \n",
       "alcohol   -0.060867 -0.035552 -0.123603  -0.192625 -0.088234 -0.165621   \n",
       "age       -0.161610 -0.328185 -0.122358  -0.220798  0.008427 -0.157191   \n",
       "\n",
       "            alcohol       age  \n",
       "sbp        0.053680  0.103504  \n",
       "tobacco    0.200255  0.194716  \n",
       "ldl       -0.080269  0.003866  \n",
       "adiposity -0.212668 -0.066857  \n",
       "typea     -0.116970 -0.028646  \n",
       "obesity   -0.015625 -0.018563  \n",
       "alcohol    0.691108 -0.094314  \n",
       "age       -0.051588  0.306588  "
      ]
     },
     "execution_count": 154,
     "metadata": {},
     "output_type": "execute_result"
    }
   ],
   "source": [
    "## Degree of freedom\n",
    "alpha+len(chd_positive_new)\n",
    "## Posterior marginal alpha+N-k+1\n",
    "alpha+N-k+1\n",
    "## Parameter\n",
    "param = (v+N)*(alpha+N-k+1)\n",
    "## r_star inversion\n",
    "r_star_inv.dot(r_star)"
   ]
  },
  {
   "cell_type": "code",
   "execution_count": 155,
   "metadata": {},
   "outputs": [
    {
     "data": {
      "text/html": [
       "<div>\n",
       "<style scoped>\n",
       "    .dataframe tbody tr th:only-of-type {\n",
       "        vertical-align: middle;\n",
       "    }\n",
       "\n",
       "    .dataframe tbody tr th {\n",
       "        vertical-align: top;\n",
       "    }\n",
       "\n",
       "    .dataframe thead th {\n",
       "        text-align: right;\n",
       "    }\n",
       "</style>\n",
       "<table border=\"1\" class=\"dataframe\">\n",
       "  <thead>\n",
       "    <tr style=\"text-align: right;\">\n",
       "      <th></th>\n",
       "      <th>sbp</th>\n",
       "      <th>tobacco</th>\n",
       "      <th>ldl</th>\n",
       "      <th>adiposity</th>\n",
       "      <th>typea</th>\n",
       "      <th>obesity</th>\n",
       "      <th>alcohol</th>\n",
       "      <th>age</th>\n",
       "    </tr>\n",
       "  </thead>\n",
       "  <tbody>\n",
       "    <tr>\n",
       "      <th>sbp</th>\n",
       "      <td>543.998043</td>\n",
       "      <td>4.534216</td>\n",
       "      <td>9.237692</td>\n",
       "      <td>-76.264790</td>\n",
       "      <td>18.874472</td>\n",
       "      <td>-51.683006</td>\n",
       "      <td>-42.490474</td>\n",
       "      <td>-119.892974</td>\n",
       "    </tr>\n",
       "    <tr>\n",
       "      <th>tobacco</th>\n",
       "      <td>4.534216</td>\n",
       "      <td>699.363729</td>\n",
       "      <td>-66.563521</td>\n",
       "      <td>-8.961645</td>\n",
       "      <td>-40.458172</td>\n",
       "      <td>22.248098</td>\n",
       "      <td>-71.942945</td>\n",
       "      <td>-239.402035</td>\n",
       "    </tr>\n",
       "    <tr>\n",
       "      <th>ldl</th>\n",
       "      <td>9.237692</td>\n",
       "      <td>-66.563521</td>\n",
       "      <td>496.482122</td>\n",
       "      <td>-135.869932</td>\n",
       "      <td>-23.085738</td>\n",
       "      <td>-37.925945</td>\n",
       "      <td>31.720215</td>\n",
       "      <td>-29.786605</td>\n",
       "    </tr>\n",
       "    <tr>\n",
       "      <th>adiposity</th>\n",
       "      <td>-76.264790</td>\n",
       "      <td>-8.961645</td>\n",
       "      <td>-135.869932</td>\n",
       "      <td>1187.656758</td>\n",
       "      <td>72.844551</td>\n",
       "      <td>-623.892470</td>\n",
       "      <td>-79.076905</td>\n",
       "      <td>-481.298751</td>\n",
       "    </tr>\n",
       "    <tr>\n",
       "      <th>typea</th>\n",
       "      <td>18.874472</td>\n",
       "      <td>-40.458172</td>\n",
       "      <td>-23.085738</td>\n",
       "      <td>72.844551</td>\n",
       "      <td>371.756038</td>\n",
       "      <td>-65.270290</td>\n",
       "      <td>-41.682354</td>\n",
       "      <td>32.654856</td>\n",
       "    </tr>\n",
       "    <tr>\n",
       "      <th>obesity</th>\n",
       "      <td>-51.683006</td>\n",
       "      <td>22.248098</td>\n",
       "      <td>-37.925945</td>\n",
       "      <td>-623.892470</td>\n",
       "      <td>-65.270290</td>\n",
       "      <td>772.925547</td>\n",
       "      <td>5.384245</td>\n",
       "      <td>170.646375</td>\n",
       "    </tr>\n",
       "    <tr>\n",
       "      <th>alcohol</th>\n",
       "      <td>-42.490474</td>\n",
       "      <td>-71.942945</td>\n",
       "      <td>31.720215</td>\n",
       "      <td>-79.076905</td>\n",
       "      <td>-41.682354</td>\n",
       "      <td>5.384245</td>\n",
       "      <td>395.562686</td>\n",
       "      <td>20.555446</td>\n",
       "    </tr>\n",
       "    <tr>\n",
       "      <th>age</th>\n",
       "      <td>-119.892974</td>\n",
       "      <td>-239.402035</td>\n",
       "      <td>-29.786605</td>\n",
       "      <td>-481.298751</td>\n",
       "      <td>32.654856</td>\n",
       "      <td>170.646375</td>\n",
       "      <td>20.555446</td>\n",
       "      <td>705.182415</td>\n",
       "    </tr>\n",
       "  </tbody>\n",
       "</table>\n",
       "</div>"
      ],
      "text/plain": [
       "                  sbp     tobacco         ldl    adiposity       typea  \\\n",
       "sbp        543.998043    4.534216    9.237692   -76.264790   18.874472   \n",
       "tobacco      4.534216  699.363729  -66.563521    -8.961645  -40.458172   \n",
       "ldl          9.237692  -66.563521  496.482122  -135.869932  -23.085738   \n",
       "adiposity  -76.264790   -8.961645 -135.869932  1187.656758   72.844551   \n",
       "typea       18.874472  -40.458172  -23.085738    72.844551  371.756038   \n",
       "obesity    -51.683006   22.248098  -37.925945  -623.892470  -65.270290   \n",
       "alcohol    -42.490474  -71.942945   31.720215   -79.076905  -41.682354   \n",
       "age       -119.892974 -239.402035  -29.786605  -481.298751   32.654856   \n",
       "\n",
       "              obesity     alcohol         age  \n",
       "sbp        -51.683006  -42.490474 -119.892974  \n",
       "tobacco     22.248098  -71.942945 -239.402035  \n",
       "ldl        -37.925945   31.720215  -29.786605  \n",
       "adiposity -623.892470  -79.076905 -481.298751  \n",
       "typea      -65.270290  -41.682354   32.654856  \n",
       "obesity    772.925547    5.384245  170.646375  \n",
       "alcohol      5.384245  395.562686   20.555446  \n",
       "age        170.646375   20.555446  705.182415  "
      ]
     },
     "execution_count": 155,
     "metadata": {},
     "output_type": "execute_result"
    }
   ],
   "source": [
    "## Given by the lecture, Posterior f(m|x) is multivariaate t distribution with alpha+N-k+1 and location parameter u* (mu_star)\\\n",
    "## and precision (v+N)(allpha+N-k+1)(r_star)_inv\n",
    "## r_star_posterior\n",
    "r_star_posterior = param*r_star_inv\n",
    "r_star_posterior "
   ]
  },
  {
   "cell_type": "markdown",
   "metadata": {},
   "source": [
    "## Problem 7"
   ]
  },
  {
   "cell_type": "code",
   "execution_count": 156,
   "metadata": {},
   "outputs": [],
   "source": [
    "from scipy.stats import beta\n",
    "from scipy.stats import norm\n",
    "\n",
    "def posterior_from_conjugate_prior(**kwargs):\n",
    "    if kwargs['Likelihood_Dist_Type'] == 'Binomial':\n",
    "        # Get the parameters for the likelihood and prior distribution from the key word arguments.\n",
    "        x = kwargs['x']\n",
    "        n = kwargs['n']\n",
    "        k = kwargs['k']\n",
    "        a = kwargs['a']\n",
    "        b = kwargs['b']\n",
    "        \n",
    "        print(f'a_prime = {k + a}.')\n",
    "        print(f'b_prime = {n - k + b}.')\n",
    "        Likelihood = binom.pmf(p=x, n=n, k=k)\n",
    "        Prior = beta.pdf(x=x, a=a, b=b)\n",
    "        Posterior = beta.pdf(x=x, a=k+a, b=n-k+b)\n",
    "        \n",
    "        return [Prior, Likelihood, Posterior]\n",
    "    \n",
    "    elif kwargs['Likelihood_Dist_Type'] == 'Gaussian_Known_Variance':\n",
    "        # Get the parameters for the likelihood and prior distribution from the key word arguments.\n",
    "        x = kwargs['x']\n",
    "        n= len(x)\n",
    "        mu = kwargs['mu']\n",
    "        var = kwargs['var']\n",
    "        prior_mu = kwargs['prior_mu']\n",
    "        prior_var = kwargs['prior_var']\n",
    "        print(kwargs)\n",
    "\n",
    "        \n",
    "        # To answer the challenge question, modify this section with the correct formulas\n",
    "        x_bar = np.mean(x)\n",
    "        mu_prime = (prior_mu*var + n*x_bar*prior_var)/(var+n*prior_var)\n",
    "        var_prime =(prior_var*var)/(var+n*prior_var)\n",
    "        print(f'mu_prime = {mu_prime:.2f}.')\n",
    "        print(f'var_prime = {var_prime: .2f}.')\n",
    "        Likelihood = norm.pdf(x, loc = mu, scale=var**(.5))\n",
    "        Prior = norm.pdf(x= x, loc = prior_mu, scale = prior_var**(.5))\n",
    "        Posterior = norm.pdf(x= x, loc = mu_prime, scale = var_prime**(.50))\n",
    "        \n",
    "        return [Prior, Likelihood, Posterior]\n",
    "    \n",
    "    else:\n",
    "        print('Distribution type not supported.') \n",
    "        return -1, -1, -1"
   ]
  },
  {
   "cell_type": "code",
   "execution_count": 157,
   "metadata": {},
   "outputs": [
    {
     "name": "stdout",
     "output_type": "stream",
     "text": [
      "{'Likelihood_Dist_Type': 'Gaussian_Known_Variance', 'x': array([-5.  , -4.99, -4.98, ..., 79.97, 79.98, 79.99]), 'mu': 50, 'var': 21, 'prior_mu': 0.5, 'prior_var': 1}\n",
      "mu_prime = 37.40.\n",
      "var_prime =  0.00.\n"
     ]
    }
   ],
   "source": [
    "import numpy as np\n",
    "x = np.arange(-5, 80, 0.01)\n",
    "Prior, Likelihood, Posterior = posterior_from_conjugate_prior(Likelihood_Dist_Type='Gaussian_Known_Variance', x=x, mu=50, var=21, prior_mu=0.5, prior_var=1)    "
   ]
  },
  {
   "cell_type": "code",
   "execution_count": 158,
   "metadata": {},
   "outputs": [
    {
     "name": "stdout",
     "output_type": "stream",
     "text": [
      "{'Likelihood_Dist_Type': 'Gaussian_Known_Variance', 'x': array([-5.  , -4.99, -4.98, ..., 79.97, 79.98, 79.99]), 'theta': 5, 'n': 100, 'k': 21, 'mu': 50, 'var': 21, 'prior_mu': 0.5, 'prior_var': 1}\n",
      "mu_prime = 37.40.\n",
      "var_prime =  0.00.\n"
     ]
    },
    {
     "data": {
      "image/png": "[encoded data removed]",
      "text/plain": [
       "<Figure size 684x360 with 1 Axes>"
      ]
     },
     "metadata": {},
     "output_type": "display_data"
    },
    {
     "data": {
      "image/png": "[encoded data removed]",
      "text/plain": [
       "<Figure size 684x360 with 1 Axes>"
      ]
     },
     "metadata": {},
     "output_type": "display_data"
    },
    {
     "data": {
      "image/png": "[encoded data removed]",
      "text/plain": [
       "<Figure size 684x360 with 1 Axes>"
      ]
     },
     "metadata": {},
     "output_type": "display_data"
    }
   ],
   "source": [
    "import numpy as np\n",
    "import pandas as pd\n",
    "\n",
    "# import matplotlib\n",
    "import matplotlib.pyplot as plt\n",
    "# import seaborn\n",
    "import seaborn as sns\n",
    "# settings for seaborn plotting style\n",
    "sns.set(color_codes=True)\n",
    "# settings for seaborn plot sizes\n",
    "sns.set(rc={'figure.figsize':(9.5,5)})\n",
    "\n",
    "x = np.arange(-5, 80, 0.01)\n",
    "Prior, Likelihood, Posterior = posterior_from_conjugate_prior(Likelihood_Dist_Type='Gaussian_Known_Variance', x=x, theta= 5, n=100, k = 21, mu=50, var=21, prior_mu=0.5, prior_var=1)    \n",
    "\n",
    "ax1 = sns.lineplot(x, Prior, color='red')\n",
    "ax1.set(xlabel='x', ylabel='f(x)', title=f'Prior PDF');\n",
    "plt.legend(labels=['Prior PDF']);\n",
    "plt.show()\n",
    "\n",
    "ax2 = sns.lineplot(x, Likelihood)\n",
    "ax2.set(xlabel='x', ylabel='f(x)', title=f'Likelihood Function');\n",
    "plt.legend(labels=['Likelihood Function']);\n",
    "plt.show()\n",
    "\n",
    "ax3 = sns.lineplot(x, Posterior, color='orange')\n",
    "ax3.set(xlabel='x', ylabel='f(x)', title=f'Posterior PDF');\n",
    "plt.legend(labels=['Posterior PDF']);\n",
    "plt.show()"
   ]
  }
 ],
 "metadata": {
  "kernelspec": {
   "display_name": "Python 3",
   "language": "python",
   "name": "python3"
  },
  "language_info": {
   "codemirror_mode": {
    "name": "ipython",
    "version": 3
   },
   "file_extension": ".py",
   "mimetype": "text/x-python",
   "name": "python",
   "nbconvert_exporter": "python",
   "pygments_lexer": "ipython3",
   "version": "3.8.3"
  }
 },
 "nbformat": 4,
 "nbformat_minor": 4
}
