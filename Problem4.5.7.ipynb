{
 "cells": [
  {
   "cell_type": "markdown",
   "metadata": {},
   "source": [
    "## Problem 4"
   ]
  },
  {
   "cell_type": "code",
   "execution_count": 2,
   "metadata": {},
   "outputs": [],
   "source": [
    "import pandas as pd\n",
    "import numpy as np\n",
    "from scipy.stats import binom\n",
    "from scipy.stats import beta\n",
    "import seaborn as sns\n",
    "import matplotlib.pyplot as plt\n",
    "fname = 'ArtHistBooks.csv'"
   ]
  },
  {
   "cell_type": "code",
   "execution_count": 3,
   "metadata": {},
   "outputs": [],
   "source": [
    "df = pd.read_csv(fname)"
   ]
  },
  {
   "cell_type": "code",
   "execution_count": 4,
   "metadata": {},
   "outputs": [
    {
     "data": {
      "text/html": [
       "<div>\n",
       "<style scoped>\n",
       "    .dataframe tbody tr th:only-of-type {\n",
       "        vertical-align: middle;\n",
       "    }\n",
       "\n",
       "    .dataframe tbody tr th {\n",
       "        vertical-align: top;\n",
       "    }\n",
       "\n",
       "    .dataframe thead th {\n",
       "        text-align: right;\n",
       "    }\n",
       "</style>\n",
       "<table border=\"1\" class=\"dataframe\">\n",
       "  <thead>\n",
       "    <tr style=\"text-align: right;\">\n",
       "      <th></th>\n",
       "      <th>ArtBooks</th>\n",
       "      <th>HistoryBooks</th>\n",
       "      <th>TableBooks</th>\n",
       "      <th>Purchase</th>\n",
       "    </tr>\n",
       "  </thead>\n",
       "  <tbody>\n",
       "    <tr>\n",
       "      <th>0</th>\n",
       "      <td>0</td>\n",
       "      <td>0</td>\n",
       "      <td>1</td>\n",
       "      <td>0</td>\n",
       "    </tr>\n",
       "    <tr>\n",
       "      <th>1</th>\n",
       "      <td>0</td>\n",
       "      <td>1</td>\n",
       "      <td>0</td>\n",
       "      <td>0</td>\n",
       "    </tr>\n",
       "    <tr>\n",
       "      <th>2</th>\n",
       "      <td>0</td>\n",
       "      <td>0</td>\n",
       "      <td>0</td>\n",
       "      <td>0</td>\n",
       "    </tr>\n",
       "    <tr>\n",
       "      <th>3</th>\n",
       "      <td>1</td>\n",
       "      <td>0</td>\n",
       "      <td>1</td>\n",
       "      <td>0</td>\n",
       "    </tr>\n",
       "    <tr>\n",
       "      <th>4</th>\n",
       "      <td>1</td>\n",
       "      <td>1</td>\n",
       "      <td>1</td>\n",
       "      <td>0</td>\n",
       "    </tr>\n",
       "    <tr>\n",
       "      <th>...</th>\n",
       "      <td>...</td>\n",
       "      <td>...</td>\n",
       "      <td>...</td>\n",
       "      <td>...</td>\n",
       "    </tr>\n",
       "    <tr>\n",
       "      <th>995</th>\n",
       "      <td>1</td>\n",
       "      <td>1</td>\n",
       "      <td>0</td>\n",
       "      <td>1</td>\n",
       "    </tr>\n",
       "    <tr>\n",
       "      <th>996</th>\n",
       "      <td>0</td>\n",
       "      <td>1</td>\n",
       "      <td>0</td>\n",
       "      <td>0</td>\n",
       "    </tr>\n",
       "    <tr>\n",
       "      <th>997</th>\n",
       "      <td>1</td>\n",
       "      <td>0</td>\n",
       "      <td>1</td>\n",
       "      <td>0</td>\n",
       "    </tr>\n",
       "    <tr>\n",
       "      <th>998</th>\n",
       "      <td>1</td>\n",
       "      <td>1</td>\n",
       "      <td>0</td>\n",
       "      <td>0</td>\n",
       "    </tr>\n",
       "    <tr>\n",
       "      <th>999</th>\n",
       "      <td>0</td>\n",
       "      <td>1</td>\n",
       "      <td>0</td>\n",
       "      <td>0</td>\n",
       "    </tr>\n",
       "  </tbody>\n",
       "</table>\n",
       "<p>1000 rows × 4 columns</p>\n",
       "</div>"
      ],
      "text/plain": [
       "     ArtBooks  HistoryBooks  TableBooks  Purchase\n",
       "0           0             0           1         0\n",
       "1           0             1           0         0\n",
       "2           0             0           0         0\n",
       "3           1             0           1         0\n",
       "4           1             1           1         0\n",
       "..        ...           ...         ...       ...\n",
       "995         1             1           0         1\n",
       "996         0             1           0         0\n",
       "997         1             0           1         0\n",
       "998         1             1           0         0\n",
       "999         0             1           0         0\n",
       "\n",
       "[1000 rows x 4 columns]"
      ]
     },
     "execution_count": 4,
     "metadata": {},
     "output_type": "execute_result"
    }
   ],
   "source": [
    "df"
   ]
  },
  {
   "cell_type": "code",
   "execution_count": 5,
   "metadata": {},
   "outputs": [
    {
     "data": {
      "text/plain": [
       "0      0\n",
       "1      0\n",
       "2      0\n",
       "3      1\n",
       "4      1\n",
       "      ..\n",
       "995    1\n",
       "996    0\n",
       "997    1\n",
       "998    1\n",
       "999    0\n",
       "Name: ArtBooks, Length: 1000, dtype: int64"
      ]
     },
     "execution_count": 5,
     "metadata": {},
     "output_type": "execute_result"
    }
   ],
   "source": [
    "df.ArtBooks"
   ]
  },
  {
   "cell_type": "code",
   "execution_count": 6,
   "metadata": {},
   "outputs": [],
   "source": [
    "def posterior_from_conjugate_prior(**kwargs):\n",
    "    if kwargs['Likelihood_Dist_Type'] == 'Binomial':\n",
    "        # Get the parameters for the likelihood and prior distribution from the key word arguments.\n",
    "        x = kwargs['x'] # possible values for p, range across [0, 1]\n",
    "        n = kwargs['n'] # number of trials (number of customers)\n",
    "        k = kwargs['k'] # number of successes (purchases)\n",
    "        a = kwargs['a'] # alpha parameters on the prior\n",
    "        b = kwargs['b'] # beta parameter on the prior\n",
    "        \n",
    "        print(f'a_prime = {k + a}.')\n",
    "        print(f'b_prime = {n - k + b}.')\n",
    "        Likelihood = binom.pmf(p=x, n=n, k=k)\n",
    "        Prior = beta.pdf(x=x, a=a, b=b)\n",
    "        Posterior = beta.pdf(x=x, a=k+a, b=n-k+b)\n",
    "        \n",
    "        return [Prior, Likelihood, Posterior]\n",
    "                    \n",
    "    else:\n",
    "        print('Distribution type not supported.')    "
   ]
  },
  {
   "cell_type": "markdown",
   "metadata": {},
   "source": [
    "## Prior: Artbooks"
   ]
  },
  {
   "cell_type": "code",
   "execution_count": 7,
   "metadata": {},
   "outputs": [
    {
     "name": "stdout",
     "output_type": "stream",
     "text": [
      "a_prime = 302.\n",
      "b_prime = 700.\n"
     ]
    },
    {
     "data": {
      "image/png": "[encoded data removed]",
      "text/plain": [
       "<Figure size 432x288 with 1 Axes>"
      ]
     },
     "metadata": {
      "needs_background": "light"
     },
     "output_type": "display_data"
    },
    {
     "data": {
      "image/png": "[encoded data removed]",
      "text/plain": [
       "<Figure size 432x288 with 1 Axes>"
      ]
     },
     "metadata": {
      "needs_background": "light"
     },
     "output_type": "display_data"
    },
    {
     "data": {
      "image/png": "[encoded data removed]",
      "text/plain": [
       "<Figure size 432x288 with 1 Axes>"
      ]
     },
     "metadata": {
      "needs_background": "light"
     },
     "output_type": "display_data"
    }
   ],
   "source": [
    "import numpy as np\n",
    "x = np.arange(0, 1, 0.01)\n",
    "num_trials= len(df.ArtBooks) #num_trials = 1000\n",
    "num_successes = np.sum(df.ArtBooks > 0)\n",
    "\n",
    "Prior, Likelihood, Posterior = posterior_from_conjugate_prior(\n",
    "    Likelihood_Dist_Type='Binomial', \n",
    "    x=x, \n",
    "    n=num_trials, \n",
    "    k=num_successes, \n",
    "    a=1, \n",
    "    b=1)    \n",
    "\n",
    "ax1 = sns.lineplot(x, Prior, color='red')\n",
    "ax1.set(xlabel='x', ylabel='f(x)', title=f'Prior PDF');\n",
    "plt.legend(labels=['Prior PDF']);\n",
    "plt.show()\n",
    "\n",
    "ax2 = sns.lineplot(x, Likelihood)\n",
    "ax2.set(xlabel='x', ylabel='f(x)', title=f'Likelihood Function');\n",
    "plt.legend(labels=['Likelihood Function']);\n",
    "plt.show()\n",
    "\n",
    "ax3 = sns.lineplot(x, Posterior, color='orange')\n",
    "ax3.set(xlabel='x', ylabel='f(x)', title=f'Posterior PDF');\n",
    "plt.legend(labels=['Posterior PDF']);\n",
    "plt.show()"
   ]
  },
  {
   "cell_type": "markdown",
   "metadata": {},
   "source": [
    "## Prior: HistoryBooks"
   ]
  },
  {
   "cell_type": "code",
   "execution_count": 8,
   "metadata": {},
   "outputs": [
    {
     "name": "stdout",
     "output_type": "stream",
     "text": [
      "a_prime = 544.\n",
      "b_prime = 458.\n"
     ]
    },
    {
     "data": {
      "image/png": "[encoded data removed]",
      "text/plain": [
       "<Figure size 432x288 with 1 Axes>"
      ]
     },
     "metadata": {
      "needs_background": "light"
     },
     "output_type": "display_data"
    },
    {
     "data": {
      "image/png": "[encoded data removed]",
      "text/plain": [
       "<Figure size 432x288 with 1 Axes>"
      ]
     },
     "metadata": {
      "needs_background": "light"
     },
     "output_type": "display_data"
    },
    {
     "data": {
      "image/png": "[encoded data removed]",
      "text/plain": [
       "<Figure size 432x288 with 1 Axes>"
      ]
     },
     "metadata": {
      "needs_background": "light"
     },
     "output_type": "display_data"
    }
   ],
   "source": [
    "import numpy as np\n",
    "x = np.arange(0, 1, 0.01)\n",
    "num_trials= len(df.HistoryBooks) #num_trials = 1000\n",
    "num_successes = np.sum(df.HistoryBooks > 0)\n",
    "\n",
    "Prior, Likelihood, Posterior = posterior_from_conjugate_prior(\n",
    "    Likelihood_Dist_Type='Binomial', \n",
    "    x=x, \n",
    "    n=num_trials, \n",
    "    k=num_successes, \n",
    "    a=1, \n",
    "    b=1)    \n",
    "\n",
    "ax1 = sns.lineplot(x, Prior, color='red')\n",
    "ax1.set(xlabel='x', ylabel='f(x)', title=f'Prior PDF');\n",
    "plt.legend(labels=['Prior PDF']);\n",
    "plt.show()\n",
    "\n",
    "ax2 = sns.lineplot(x, Likelihood)\n",
    "ax2.set(xlabel='x', ylabel='f(x)', title=f'Likelihood Function');\n",
    "plt.legend(labels=['Likelihood Function']);\n",
    "plt.show()\n",
    "\n",
    "ax3 = sns.lineplot(x, Posterior, color='orange')\n",
    "ax3.set(xlabel='x', ylabel='f(x)', title=f'Posterior PDF');\n",
    "plt.legend(labels=['Posterior PDF']);\n",
    "plt.show()"
   ]
  },
  {
   "cell_type": "markdown",
   "metadata": {},
   "source": [
    "## Prior: TableBooks"
   ]
  },
  {
   "cell_type": "code",
   "execution_count": 9,
   "metadata": {},
   "outputs": [
    {
     "name": "stdout",
     "output_type": "stream",
     "text": [
      "a_prime = 381.\n",
      "b_prime = 621.\n"
     ]
    },
    {
     "data": {
      "image/png": "[encoded data removed]",
      "text/plain": [
       "<Figure size 432x288 with 1 Axes>"
      ]
     },
     "metadata": {
      "needs_background": "light"
     },
     "output_type": "display_data"
    },
    {
     "data": {
      "image/png": "[encoded data removed]",
      "text/plain": [
       "<Figure size 432x288 with 1 Axes>"
      ]
     },
     "metadata": {
      "needs_background": "light"
     },
     "output_type": "display_data"
    },
    {
     "data": {
      "image/png": "[encoded data removed]",
      "text/plain": [
       "<Figure size 432x288 with 1 Axes>"
      ]
     },
     "metadata": {
      "needs_background": "light"
     },
     "output_type": "display_data"
    }
   ],
   "source": [
    "import numpy as np\n",
    "x = np.arange(0, 1, 0.01)\n",
    "num_trials= len(df.HistoryBooks) #num_trials = 1000\n",
    "num_successes = np.sum(df.TableBooks > 0)\n",
    "\n",
    "Prior, Likelihood, Posterior = posterior_from_conjugate_prior(\n",
    "    Likelihood_Dist_Type='Binomial', \n",
    "    x=x, \n",
    "    n=num_trials, \n",
    "    k=num_successes, \n",
    "    a=1, \n",
    "    b=1)    \n",
    "\n",
    "ax1 = sns.lineplot(x, Prior, color='red')\n",
    "ax1.set(xlabel='x', ylabel='f(x)', title=f'Prior PDF');\n",
    "plt.legend(labels=['Prior PDF']);\n",
    "plt.show()\n",
    "\n",
    "ax2 = sns.lineplot(x, Likelihood)\n",
    "ax2.set(xlabel='x', ylabel='f(x)', title=f'Likelihood Function');\n",
    "plt.legend(labels=['Likelihood Function']);\n",
    "plt.show()\n",
    "\n",
    "ax3 = sns.lineplot(x, Posterior, color='orange')\n",
    "ax3.set(xlabel='x', ylabel='f(x)', title=f'Posterior PDF');\n",
    "plt.legend(labels=['Posterior PDF']);\n",
    "plt.show()"
   ]
  },
  {
   "cell_type": "markdown",
   "metadata": {},
   "source": [
    "## Prior: Artboks and HistoryBooks"
   ]
  },
  {
   "cell_type": "code",
   "execution_count": 10,
   "metadata": {},
   "outputs": [
    {
     "name": "stdout",
     "output_type": "stream",
     "text": [
      "a_prime = 172.\n",
      "b_prime = 830.\n"
     ]
    },
    {
     "data": {
      "image/png": "[encoded data removed]",
      "text/plain": [
       "<Figure size 432x288 with 1 Axes>"
      ]
     },
     "metadata": {
      "needs_background": "light"
     },
     "output_type": "display_data"
    },
    {
     "data": {
      "image/png": "[encoded data removed]",
      "text/plain": [
       "<Figure size 432x288 with 1 Axes>"
      ]
     },
     "metadata": {
      "needs_background": "light"
     },
     "output_type": "display_data"
    },
    {
     "data": {
      "image/png": "[encoded data removed]",
      "text/plain": [
       "<Figure size 432x288 with 1 Axes>"
      ]
     },
     "metadata": {
      "needs_background": "light"
     },
     "output_type": "display_data"
    }
   ],
   "source": [
    "import numpy as np\n",
    "x = np.arange(0, 1, 0.01)\n",
    "num_trials= len(df.HistoryBooks) #num_trials = 1000\n",
    "num_successes = np.sum((df.ArtBooks > 0) & (df.HistoryBooks))\n",
    "\n",
    "Prior, Likelihood, Posterior = posterior_from_conjugate_prior(\n",
    "    Likelihood_Dist_Type='Binomial', \n",
    "    x=x, \n",
    "    n=num_trials, \n",
    "    k=num_successes, \n",
    "    a=1, \n",
    "    b=1)    \n",
    "\n",
    "ax1 = sns.lineplot(x, Prior, color='red')\n",
    "ax1.set(xlabel='x', ylabel='f(x)', title=f'Prior PDF');\n",
    "plt.legend(labels=['Prior PDF']);\n",
    "plt.show()\n",
    "\n",
    "ax2 = sns.lineplot(x, Likelihood)\n",
    "ax2.set(xlabel='x', ylabel='f(x)', title=f'Likelihood Function');\n",
    "plt.legend(labels=['Likelihood Function']);\n",
    "plt.show()\n",
    "\n",
    "ax3 = sns.lineplot(x, Posterior, color='orange')\n",
    "ax3.set(xlabel='x', ylabel='f(x)', title=f'Posterior PDF');\n",
    "plt.legend(labels=['Posterior PDF']);\n",
    "plt.show()"
   ]
  },
  {
   "cell_type": "markdown",
   "metadata": {},
   "source": [
    "## Prior: Artboks and TableBooks"
   ]
  },
  {
   "cell_type": "code",
   "execution_count": 11,
   "metadata": {},
   "outputs": [
    {
     "name": "stdout",
     "output_type": "stream",
     "text": [
      "a_prime = 126.\n",
      "b_prime = 876.\n"
     ]
    },
    {
     "data": {
      "image/png": "[encoded data removed]",
      "text/plain": [
       "<Figure size 432x288 with 1 Axes>"
      ]
     },
     "metadata": {
      "needs_background": "light"
     },
     "output_type": "display_data"
    },
    {
     "data": {
      "image/png": "[encoded data removed]",
      "text/plain": [
       "<Figure size 432x288 with 1 Axes>"
      ]
     },
     "metadata": {
      "needs_background": "light"
     },
     "output_type": "display_data"
    },
    {
     "data": {
      "image/png": "[encoded data removed]",
      "text/plain": [
       "<Figure size 432x288 with 1 Axes>"
      ]
     },
     "metadata": {
      "needs_background": "light"
     },
     "output_type": "display_data"
    }
   ],
   "source": [
    "import numpy as np\n",
    "x = np.arange(0, 1, 0.01)\n",
    "num_trials= len(df.HistoryBooks) #num_trials = 1000\n",
    "num_successes = np.sum((df.ArtBooks > 0) & (df.TableBooks))\n",
    "\n",
    "Prior, Likelihood, Posterior = posterior_from_conjugate_prior(\n",
    "    Likelihood_Dist_Type='Binomial', \n",
    "    x=x, \n",
    "    n=num_trials, \n",
    "    k=num_successes, \n",
    "    a=1, \n",
    "    b=1)    \n",
    "\n",
    "ax1 = sns.lineplot(x, Prior, color='red')\n",
    "ax1.set(xlabel='x', ylabel='f(x)', title=f'Prior PDF');\n",
    "plt.legend(labels=['Prior PDF']);\n",
    "plt.show()\n",
    "\n",
    "ax2 = sns.lineplot(x, Likelihood)\n",
    "ax2.set(xlabel='x', ylabel='f(x)', title=f'Likelihood Function');\n",
    "plt.legend(labels=['Likelihood Function']);\n",
    "plt.show()\n",
    "\n",
    "ax3 = sns.lineplot(x, Posterior, color='orange')\n",
    "ax3.set(xlabel='x', ylabel='f(x)', title=f'Posterior PDF');\n",
    "plt.legend(labels=['Posterior PDF']);\n",
    "plt.show()"
   ]
  },
  {
   "cell_type": "markdown",
   "metadata": {},
   "source": [
    "## Prior: HistoryBooks and TablBooks"
   ]
  },
  {
   "cell_type": "code",
   "execution_count": 12,
   "metadata": {},
   "outputs": [
    {
     "name": "stdout",
     "output_type": "stream",
     "text": [
      "a_prime = 193.\n",
      "b_prime = 809.\n"
     ]
    },
    {
     "data": {
      "image/png": "[encoded data removed]",
      "text/plain": [
       "<Figure size 432x288 with 1 Axes>"
      ]
     },
     "metadata": {
      "needs_background": "light"
     },
     "output_type": "display_data"
    },
    {
     "data": {
      "image/png": "[encoded data removed]",
      "text/plain": [
       "<Figure size 432x288 with 1 Axes>"
      ]
     },
     "metadata": {
      "needs_background": "light"
     },
     "output_type": "display_data"
    },
    {
     "data": {
      "image/png": "[encoded data removed]",
      "text/plain": [
       "<Figure size 432x288 with 1 Axes>"
      ]
     },
     "metadata": {
      "needs_background": "light"
     },
     "output_type": "display_data"
    }
   ],
   "source": [
    "import numpy as np\n",
    "x = np.arange(0, 1, 0.01)\n",
    "num_trials= len(df.HistoryBooks) #num_trials = 1000\n",
    "num_successes = np.sum((df.HistoryBooks > 0) & (df.TableBooks))\n",
    "\n",
    "Prior, Likelihood, Posterior = posterior_from_conjugate_prior(\n",
    "    Likelihood_Dist_Type='Binomial', \n",
    "    x=x, \n",
    "    n=num_trials, \n",
    "    k=num_successes, \n",
    "    a=1, \n",
    "    b=1)    \n",
    "\n",
    "ax1 = sns.lineplot(x, Prior, color='red')\n",
    "ax1.set(xlabel='x', ylabel='f(x)', title=f'Prior PDF');\n",
    "plt.legend(labels=['Prior PDF']);\n",
    "plt.show()\n",
    "\n",
    "ax2 = sns.lineplot(x, Likelihood)\n",
    "ax2.set(xlabel='x', ylabel='f(x)', title=f'Likelihood Function');\n",
    "plt.legend(labels=['Likelihood Function']);\n",
    "plt.show()\n",
    "\n",
    "ax3 = sns.lineplot(x, Posterior, color='orange')\n",
    "ax3.set(xlabel='x', ylabel='f(x)', title=f'Posterior PDF');\n",
    "plt.legend(labels=['Posterior PDF']);\n",
    "plt.show()"
   ]
  },
  {
   "cell_type": "markdown",
   "metadata": {},
   "source": [
    "## Problem 5"
   ]
  },
  {
   "cell_type": "code",
   "execution_count": 13,
   "metadata": {},
   "outputs": [
    {
     "data": {
      "text/html": [
       "<div>\n",
       "<style scoped>\n",
       "    .dataframe tbody tr th:only-of-type {\n",
       "        vertical-align: middle;\n",
       "    }\n",
       "\n",
       "    .dataframe tbody tr th {\n",
       "        vertical-align: top;\n",
       "    }\n",
       "\n",
       "    .dataframe thead th {\n",
       "        text-align: right;\n",
       "    }\n",
       "</style>\n",
       "<table border=\"1\" class=\"dataframe\">\n",
       "  <thead>\n",
       "    <tr style=\"text-align: right;\">\n",
       "      <th></th>\n",
       "      <th>sbp</th>\n",
       "      <th>tobacco</th>\n",
       "      <th>ldl</th>\n",
       "      <th>adiposity</th>\n",
       "      <th>typea</th>\n",
       "      <th>obesity</th>\n",
       "      <th>alcohol</th>\n",
       "      <th>age</th>\n",
       "      <th>chd</th>\n",
       "    </tr>\n",
       "  </thead>\n",
       "  <tbody>\n",
       "    <tr>\n",
       "      <th>count</th>\n",
       "      <td>462.000000</td>\n",
       "      <td>462.000000</td>\n",
       "      <td>462.000000</td>\n",
       "      <td>462.000000</td>\n",
       "      <td>462.000000</td>\n",
       "      <td>462.000000</td>\n",
       "      <td>462.000000</td>\n",
       "      <td>462.000000</td>\n",
       "      <td>462.000000</td>\n",
       "    </tr>\n",
       "    <tr>\n",
       "      <th>mean</th>\n",
       "      <td>138.326840</td>\n",
       "      <td>3.635649</td>\n",
       "      <td>4.740325</td>\n",
       "      <td>25.406732</td>\n",
       "      <td>53.103896</td>\n",
       "      <td>26.044113</td>\n",
       "      <td>17.044394</td>\n",
       "      <td>42.816017</td>\n",
       "      <td>0.346320</td>\n",
       "    </tr>\n",
       "    <tr>\n",
       "      <th>std</th>\n",
       "      <td>20.496317</td>\n",
       "      <td>4.593024</td>\n",
       "      <td>2.070909</td>\n",
       "      <td>7.780699</td>\n",
       "      <td>9.817534</td>\n",
       "      <td>4.213680</td>\n",
       "      <td>24.481059</td>\n",
       "      <td>14.608956</td>\n",
       "      <td>0.476313</td>\n",
       "    </tr>\n",
       "    <tr>\n",
       "      <th>min</th>\n",
       "      <td>101.000000</td>\n",
       "      <td>0.000000</td>\n",
       "      <td>0.980000</td>\n",
       "      <td>6.740000</td>\n",
       "      <td>13.000000</td>\n",
       "      <td>14.700000</td>\n",
       "      <td>0.000000</td>\n",
       "      <td>15.000000</td>\n",
       "      <td>0.000000</td>\n",
       "    </tr>\n",
       "    <tr>\n",
       "      <th>25%</th>\n",
       "      <td>124.000000</td>\n",
       "      <td>0.052500</td>\n",
       "      <td>3.282500</td>\n",
       "      <td>19.775000</td>\n",
       "      <td>47.000000</td>\n",
       "      <td>22.985000</td>\n",
       "      <td>0.510000</td>\n",
       "      <td>31.000000</td>\n",
       "      <td>0.000000</td>\n",
       "    </tr>\n",
       "    <tr>\n",
       "      <th>50%</th>\n",
       "      <td>134.000000</td>\n",
       "      <td>2.000000</td>\n",
       "      <td>4.340000</td>\n",
       "      <td>26.115000</td>\n",
       "      <td>53.000000</td>\n",
       "      <td>25.805000</td>\n",
       "      <td>7.510000</td>\n",
       "      <td>45.000000</td>\n",
       "      <td>0.000000</td>\n",
       "    </tr>\n",
       "    <tr>\n",
       "      <th>75%</th>\n",
       "      <td>148.000000</td>\n",
       "      <td>5.500000</td>\n",
       "      <td>5.790000</td>\n",
       "      <td>31.227500</td>\n",
       "      <td>60.000000</td>\n",
       "      <td>28.497500</td>\n",
       "      <td>23.892500</td>\n",
       "      <td>55.000000</td>\n",
       "      <td>1.000000</td>\n",
       "    </tr>\n",
       "    <tr>\n",
       "      <th>max</th>\n",
       "      <td>218.000000</td>\n",
       "      <td>31.200000</td>\n",
       "      <td>15.330000</td>\n",
       "      <td>42.490000</td>\n",
       "      <td>78.000000</td>\n",
       "      <td>46.580000</td>\n",
       "      <td>147.190000</td>\n",
       "      <td>64.000000</td>\n",
       "      <td>1.000000</td>\n",
       "    </tr>\n",
       "  </tbody>\n",
       "</table>\n",
       "</div>"
      ],
      "text/plain": [
       "              sbp     tobacco         ldl   adiposity       typea     obesity  \\\n",
       "count  462.000000  462.000000  462.000000  462.000000  462.000000  462.000000   \n",
       "mean   138.326840    3.635649    4.740325   25.406732   53.103896   26.044113   \n",
       "std     20.496317    4.593024    2.070909    7.780699    9.817534    4.213680   \n",
       "min    101.000000    0.000000    0.980000    6.740000   13.000000   14.700000   \n",
       "25%    124.000000    0.052500    3.282500   19.775000   47.000000   22.985000   \n",
       "50%    134.000000    2.000000    4.340000   26.115000   53.000000   25.805000   \n",
       "75%    148.000000    5.500000    5.790000   31.227500   60.000000   28.497500   \n",
       "max    218.000000   31.200000   15.330000   42.490000   78.000000   46.580000   \n",
       "\n",
       "          alcohol         age         chd  \n",
       "count  462.000000  462.000000  462.000000  \n",
       "mean    17.044394   42.816017    0.346320  \n",
       "std     24.481059   14.608956    0.476313  \n",
       "min      0.000000   15.000000    0.000000  \n",
       "25%      0.510000   31.000000    0.000000  \n",
       "50%      7.510000   45.000000    0.000000  \n",
       "75%     23.892500   55.000000    1.000000  \n",
       "max    147.190000   64.000000    1.000000  "
      ]
     },
     "execution_count": 13,
     "metadata": {},
     "output_type": "execute_result"
    }
   ],
   "source": [
    "import numpy as np \n",
    "import pandas as pd\n",
    "chd_data = pd.read_csv(\"CHDdata.csv\")\n",
    "chd_data.describe()"
   ]
  },
  {
   "cell_type": "code",
   "execution_count": 14,
   "metadata": {},
   "outputs": [
    {
     "data": {
      "text/html": [
       "<div>\n",
       "<style scoped>\n",
       "    .dataframe tbody tr th:only-of-type {\n",
       "        vertical-align: middle;\n",
       "    }\n",
       "\n",
       "    .dataframe tbody tr th {\n",
       "        vertical-align: top;\n",
       "    }\n",
       "\n",
       "    .dataframe thead th {\n",
       "        text-align: right;\n",
       "    }\n",
       "</style>\n",
       "<table border=\"1\" class=\"dataframe\">\n",
       "  <thead>\n",
       "    <tr style=\"text-align: right;\">\n",
       "      <th></th>\n",
       "      <th>sbp</th>\n",
       "      <th>tobacco</th>\n",
       "      <th>ldl</th>\n",
       "      <th>adiposity</th>\n",
       "      <th>typea</th>\n",
       "      <th>obesity</th>\n",
       "      <th>alcohol</th>\n",
       "      <th>age</th>\n",
       "      <th>chd</th>\n",
       "    </tr>\n",
       "  </thead>\n",
       "  <tbody>\n",
       "    <tr>\n",
       "      <th>0</th>\n",
       "      <td>160</td>\n",
       "      <td>12.00</td>\n",
       "      <td>5.73</td>\n",
       "      <td>23.11</td>\n",
       "      <td>49</td>\n",
       "      <td>25.30</td>\n",
       "      <td>97.20</td>\n",
       "      <td>52</td>\n",
       "      <td>1</td>\n",
       "    </tr>\n",
       "    <tr>\n",
       "      <th>1</th>\n",
       "      <td>144</td>\n",
       "      <td>0.01</td>\n",
       "      <td>4.41</td>\n",
       "      <td>28.61</td>\n",
       "      <td>55</td>\n",
       "      <td>28.87</td>\n",
       "      <td>2.06</td>\n",
       "      <td>63</td>\n",
       "      <td>1</td>\n",
       "    </tr>\n",
       "    <tr>\n",
       "      <th>2</th>\n",
       "      <td>118</td>\n",
       "      <td>0.08</td>\n",
       "      <td>3.48</td>\n",
       "      <td>32.28</td>\n",
       "      <td>52</td>\n",
       "      <td>29.14</td>\n",
       "      <td>3.81</td>\n",
       "      <td>46</td>\n",
       "      <td>0</td>\n",
       "    </tr>\n",
       "    <tr>\n",
       "      <th>3</th>\n",
       "      <td>170</td>\n",
       "      <td>7.50</td>\n",
       "      <td>6.41</td>\n",
       "      <td>38.03</td>\n",
       "      <td>51</td>\n",
       "      <td>31.99</td>\n",
       "      <td>24.26</td>\n",
       "      <td>58</td>\n",
       "      <td>1</td>\n",
       "    </tr>\n",
       "    <tr>\n",
       "      <th>4</th>\n",
       "      <td>134</td>\n",
       "      <td>13.60</td>\n",
       "      <td>3.50</td>\n",
       "      <td>27.78</td>\n",
       "      <td>60</td>\n",
       "      <td>25.99</td>\n",
       "      <td>57.34</td>\n",
       "      <td>49</td>\n",
       "      <td>1</td>\n",
       "    </tr>\n",
       "  </tbody>\n",
       "</table>\n",
       "</div>"
      ],
      "text/plain": [
       "   sbp  tobacco   ldl  adiposity  typea  obesity  alcohol  age  chd\n",
       "0  160    12.00  5.73      23.11     49    25.30    97.20   52    1\n",
       "1  144     0.01  4.41      28.61     55    28.87     2.06   63    1\n",
       "2  118     0.08  3.48      32.28     52    29.14     3.81   46    0\n",
       "3  170     7.50  6.41      38.03     51    31.99    24.26   58    1\n",
       "4  134    13.60  3.50      27.78     60    25.99    57.34   49    1"
      ]
     },
     "execution_count": 14,
     "metadata": {},
     "output_type": "execute_result"
    }
   ],
   "source": [
    "#drop \"famhist\" column\n",
    "chd_data = chd_data.drop(columns= \"famhist\")\n",
    "#check that it worked\n",
    "chd_data.head()"
   ]
  },
  {
   "cell_type": "code",
   "execution_count": 15,
   "metadata": {},
   "outputs": [
    {
     "name": "stdout",
     "output_type": "stream",
     "text": [
      "Standardizing sbp.\n",
      "Standardizing tobacco.\n",
      "Standardizing ldl.\n",
      "Standardizing adiposity.\n",
      "Standardizing typea.\n",
      "Standardizing obesity.\n",
      "Standardizing alcohol.\n",
      "Standardizing age.\n"
     ]
    }
   ],
   "source": [
    "for key in chd_data.keys()[0:8]:\n",
    "    print(\"Standardizing \"+key+\".\")\n",
    "    chd_data[key] = chd_data[key] - np.mean(chd_data[key])\n",
    "    chd_data[key] = chd_data[key] / np.std(chd_data[key])"
   ]
  },
  {
   "cell_type": "code",
   "execution_count": 16,
   "metadata": {},
   "outputs": [
    {
     "data": {
      "text/html": [
       "<div>\n",
       "<style scoped>\n",
       "    .dataframe tbody tr th:only-of-type {\n",
       "        vertical-align: middle;\n",
       "    }\n",
       "\n",
       "    .dataframe tbody tr th {\n",
       "        vertical-align: top;\n",
       "    }\n",
       "\n",
       "    .dataframe thead th {\n",
       "        text-align: right;\n",
       "    }\n",
       "</style>\n",
       "<table border=\"1\" class=\"dataframe\">\n",
       "  <thead>\n",
       "    <tr style=\"text-align: right;\">\n",
       "      <th></th>\n",
       "      <th>sbp</th>\n",
       "      <th>tobacco</th>\n",
       "      <th>ldl</th>\n",
       "      <th>adiposity</th>\n",
       "      <th>typea</th>\n",
       "      <th>obesity</th>\n",
       "      <th>alcohol</th>\n",
       "      <th>age</th>\n",
       "      <th>chd</th>\n",
       "    </tr>\n",
       "  </thead>\n",
       "  <tbody>\n",
       "    <tr>\n",
       "      <th>count</th>\n",
       "      <td>4.620000e+02</td>\n",
       "      <td>4.620000e+02</td>\n",
       "      <td>4.620000e+02</td>\n",
       "      <td>4.620000e+02</td>\n",
       "      <td>4.620000e+02</td>\n",
       "      <td>4.620000e+02</td>\n",
       "      <td>4.620000e+02</td>\n",
       "      <td>4.620000e+02</td>\n",
       "      <td>462.000000</td>\n",
       "    </tr>\n",
       "    <tr>\n",
       "      <th>mean</th>\n",
       "      <td>-2.571296e-16</td>\n",
       "      <td>5.022437e-16</td>\n",
       "      <td>-3.963040e-15</td>\n",
       "      <td>1.559599e-15</td>\n",
       "      <td>1.153478e-17</td>\n",
       "      <td>-5.286776e-15</td>\n",
       "      <td>-4.169344e-16</td>\n",
       "      <td>1.970526e-17</td>\n",
       "      <td>0.346320</td>\n",
       "    </tr>\n",
       "    <tr>\n",
       "      <th>std</th>\n",
       "      <td>1.001084e+00</td>\n",
       "      <td>1.001084e+00</td>\n",
       "      <td>1.001084e+00</td>\n",
       "      <td>1.001084e+00</td>\n",
       "      <td>1.001084e+00</td>\n",
       "      <td>1.001084e+00</td>\n",
       "      <td>1.001084e+00</td>\n",
       "      <td>1.001084e+00</td>\n",
       "      <td>0.476313</td>\n",
       "    </tr>\n",
       "    <tr>\n",
       "      <th>min</th>\n",
       "      <td>-1.823123e+00</td>\n",
       "      <td>-7.924170e-01</td>\n",
       "      <td>-1.817753e+00</td>\n",
       "      <td>-2.401708e+00</td>\n",
       "      <td>-4.089354e+00</td>\n",
       "      <td>-2.695129e+00</td>\n",
       "      <td>-6.969825e-01</td>\n",
       "      <td>-1.906103e+00</td>\n",
       "      <td>0.000000</td>\n",
       "    </tr>\n",
       "    <tr>\n",
       "      <th>25%</th>\n",
       "      <td>-6.997535e-01</td>\n",
       "      <td>-7.809742e-01</td>\n",
       "      <td>-7.047170e-01</td>\n",
       "      <td>-7.245926e-01</td>\n",
       "      <td>-6.224081e-01</td>\n",
       "      <td>-7.267824e-01</td>\n",
       "      <td>-6.761275e-01</td>\n",
       "      <td>-8.096968e-01</td>\n",
       "      <td>0.000000</td>\n",
       "    </tr>\n",
       "    <tr>\n",
       "      <th>50%</th>\n",
       "      <td>-2.113321e-01</td>\n",
       "      <td>-3.565020e-01</td>\n",
       "      <td>-1.935182e-01</td>\n",
       "      <td>9.112757e-02</td>\n",
       "      <td>-1.059418e-02</td>\n",
       "      <td>-5.680824e-02</td>\n",
       "      <td>-3.898822e-01</td>\n",
       "      <td>1.496582e-01</td>\n",
       "      <td>0.000000</td>\n",
       "    </tr>\n",
       "    <tr>\n",
       "      <th>75%</th>\n",
       "      <td>4.724579e-01</td>\n",
       "      <td>4.063492e-01</td>\n",
       "      <td>5.074164e-01</td>\n",
       "      <td>7.489145e-01</td>\n",
       "      <td>7.031887e-01</td>\n",
       "      <td>5.828745e-01</td>\n",
       "      <td>2.800340e-01</td>\n",
       "      <td>8.349118e-01</td>\n",
       "      <td>1.000000</td>\n",
       "    </tr>\n",
       "    <tr>\n",
       "      <th>max</th>\n",
       "      <td>3.891408e+00</td>\n",
       "      <td>6.007857e+00</td>\n",
       "      <td>5.119082e+00</td>\n",
       "      <td>2.197976e+00</td>\n",
       "      <td>2.538631e+00</td>\n",
       "      <td>4.878906e+00</td>\n",
       "      <td>5.321938e+00</td>\n",
       "      <td>1.451640e+00</td>\n",
       "      <td>1.000000</td>\n",
       "    </tr>\n",
       "  </tbody>\n",
       "</table>\n",
       "</div>"
      ],
      "text/plain": [
       "                sbp       tobacco           ldl     adiposity         typea  \\\n",
       "count  4.620000e+02  4.620000e+02  4.620000e+02  4.620000e+02  4.620000e+02   \n",
       "mean  -2.571296e-16  5.022437e-16 -3.963040e-15  1.559599e-15  1.153478e-17   \n",
       "std    1.001084e+00  1.001084e+00  1.001084e+00  1.001084e+00  1.001084e+00   \n",
       "min   -1.823123e+00 -7.924170e-01 -1.817753e+00 -2.401708e+00 -4.089354e+00   \n",
       "25%   -6.997535e-01 -7.809742e-01 -7.047170e-01 -7.245926e-01 -6.224081e-01   \n",
       "50%   -2.113321e-01 -3.565020e-01 -1.935182e-01  9.112757e-02 -1.059418e-02   \n",
       "75%    4.724579e-01  4.063492e-01  5.074164e-01  7.489145e-01  7.031887e-01   \n",
       "max    3.891408e+00  6.007857e+00  5.119082e+00  2.197976e+00  2.538631e+00   \n",
       "\n",
       "            obesity       alcohol           age         chd  \n",
       "count  4.620000e+02  4.620000e+02  4.620000e+02  462.000000  \n",
       "mean  -5.286776e-15 -4.169344e-16  1.970526e-17    0.346320  \n",
       "std    1.001084e+00  1.001084e+00  1.001084e+00    0.476313  \n",
       "min   -2.695129e+00 -6.969825e-01 -1.906103e+00    0.000000  \n",
       "25%   -7.267824e-01 -6.761275e-01 -8.096968e-01    0.000000  \n",
       "50%   -5.680824e-02 -3.898822e-01  1.496582e-01    0.000000  \n",
       "75%    5.828745e-01  2.800340e-01  8.349118e-01    1.000000  \n",
       "max    4.878906e+00  5.321938e+00  1.451640e+00    1.000000  "
      ]
     },
     "execution_count": 16,
     "metadata": {},
     "output_type": "execute_result"
    }
   ],
   "source": [
    "# Check that it worked\n",
    "chd_data.describe()"
   ]
  },
  {
   "cell_type": "code",
   "execution_count": 17,
   "metadata": {},
   "outputs": [],
   "source": [
    "chd_positive = chd_data[chd_data.chd == 1]\n",
    "chd_negative = chd_data[chd_data.chd == 0]"
   ]
  },
  {
   "cell_type": "code",
   "execution_count": 18,
   "metadata": {},
   "outputs": [
    {
     "data": {
      "text/html": [
       "<div>\n",
       "<style scoped>\n",
       "    .dataframe tbody tr th:only-of-type {\n",
       "        vertical-align: middle;\n",
       "    }\n",
       "\n",
       "    .dataframe tbody tr th {\n",
       "        vertical-align: top;\n",
       "    }\n",
       "\n",
       "    .dataframe thead th {\n",
       "        text-align: right;\n",
       "    }\n",
       "</style>\n",
       "<table border=\"1\" class=\"dataframe\">\n",
       "  <thead>\n",
       "    <tr style=\"text-align: right;\">\n",
       "      <th></th>\n",
       "      <th>sbp</th>\n",
       "      <th>tobacco</th>\n",
       "      <th>ldl</th>\n",
       "      <th>adiposity</th>\n",
       "      <th>typea</th>\n",
       "      <th>obesity</th>\n",
       "      <th>alcohol</th>\n",
       "      <th>age</th>\n",
       "      <th>chd</th>\n",
       "    </tr>\n",
       "  </thead>\n",
       "  <tbody>\n",
       "    <tr>\n",
       "      <th>count</th>\n",
       "      <td>160.000000</td>\n",
       "      <td>160.000000</td>\n",
       "      <td>160.000000</td>\n",
       "      <td>160.000000</td>\n",
       "      <td>160.000000</td>\n",
       "      <td>160.000000</td>\n",
       "      <td>160.000000</td>\n",
       "      <td>160.000000</td>\n",
       "      <td>160.0</td>\n",
       "    </tr>\n",
       "    <tr>\n",
       "      <th>mean</th>\n",
       "      <td>0.264268</td>\n",
       "      <td>0.411771</td>\n",
       "      <td>0.361398</td>\n",
       "      <td>0.349128</td>\n",
       "      <td>0.141722</td>\n",
       "      <td>0.137517</td>\n",
       "      <td>0.085909</td>\n",
       "      <td>0.512414</td>\n",
       "      <td>1.0</td>\n",
       "    </tr>\n",
       "    <tr>\n",
       "      <th>std</th>\n",
       "      <td>1.156458</td>\n",
       "      <td>1.212965</td>\n",
       "      <td>1.075607</td>\n",
       "      <td>0.908099</td>\n",
       "      <td>1.044840</td>\n",
       "      <td>1.043288</td>\n",
       "      <td>1.070602</td>\n",
       "      <td>0.729735</td>\n",
       "      <td>0.0</td>\n",
       "    </tr>\n",
       "    <tr>\n",
       "      <th>min</th>\n",
       "      <td>-1.774281</td>\n",
       "      <td>-0.792417</td>\n",
       "      <td>-1.542213</td>\n",
       "      <td>-2.060752</td>\n",
       "      <td>-3.375571</td>\n",
       "      <td>-2.695129</td>\n",
       "      <td>-0.696983</td>\n",
       "      <td>-1.769052</td>\n",
       "      <td>1.0</td>\n",
       "    </tr>\n",
       "    <tr>\n",
       "      <th>25%</th>\n",
       "      <td>-0.528806</td>\n",
       "      <td>-0.465481</td>\n",
       "      <td>-0.386879</td>\n",
       "      <td>-0.250150</td>\n",
       "      <td>-0.545931</td>\n",
       "      <td>-0.572356</td>\n",
       "      <td>-0.677559</td>\n",
       "      <td>-0.004524</td>\n",
       "      <td>1.0</td>\n",
       "    </tr>\n",
       "    <tr>\n",
       "      <th>50%</th>\n",
       "      <td>-0.015964</td>\n",
       "      <td>0.107747</td>\n",
       "      <td>0.156949</td>\n",
       "      <td>0.385765</td>\n",
       "      <td>0.193344</td>\n",
       "      <td>0.102370</td>\n",
       "      <td>-0.356351</td>\n",
       "      <td>0.697861</td>\n",
       "      <td>1.0</td>\n",
       "    </tr>\n",
       "    <tr>\n",
       "      <th>75%</th>\n",
       "      <td>0.985300</td>\n",
       "      <td>0.994834</td>\n",
       "      <td>0.890513</td>\n",
       "      <td>1.052558</td>\n",
       "      <td>0.805158</td>\n",
       "      <td>0.649991</td>\n",
       "      <td>0.308250</td>\n",
       "      <td>1.109013</td>\n",
       "      <td>1.0</td>\n",
       "    </tr>\n",
       "    <tr>\n",
       "      <th>max</th>\n",
       "      <td>3.891408</td>\n",
       "      <td>6.007857</td>\n",
       "      <td>4.553501</td>\n",
       "      <td>2.197976</td>\n",
       "      <td>2.538631</td>\n",
       "      <td>4.674587</td>\n",
       "      <td>5.321938</td>\n",
       "      <td>1.451640</td>\n",
       "      <td>1.0</td>\n",
       "    </tr>\n",
       "  </tbody>\n",
       "</table>\n",
       "</div>"
      ],
      "text/plain": [
       "              sbp     tobacco         ldl   adiposity       typea     obesity  \\\n",
       "count  160.000000  160.000000  160.000000  160.000000  160.000000  160.000000   \n",
       "mean     0.264268    0.411771    0.361398    0.349128    0.141722    0.137517   \n",
       "std      1.156458    1.212965    1.075607    0.908099    1.044840    1.043288   \n",
       "min     -1.774281   -0.792417   -1.542213   -2.060752   -3.375571   -2.695129   \n",
       "25%     -0.528806   -0.465481   -0.386879   -0.250150   -0.545931   -0.572356   \n",
       "50%     -0.015964    0.107747    0.156949    0.385765    0.193344    0.102370   \n",
       "75%      0.985300    0.994834    0.890513    1.052558    0.805158    0.649991   \n",
       "max      3.891408    6.007857    4.553501    2.197976    2.538631    4.674587   \n",
       "\n",
       "          alcohol         age    chd  \n",
       "count  160.000000  160.000000  160.0  \n",
       "mean     0.085909    0.512414    1.0  \n",
       "std      1.070602    0.729735    0.0  \n",
       "min     -0.696983   -1.769052    1.0  \n",
       "25%     -0.677559   -0.004524    1.0  \n",
       "50%     -0.356351    0.697861    1.0  \n",
       "75%      0.308250    1.109013    1.0  \n",
       "max      5.321938    1.451640    1.0  "
      ]
     },
     "execution_count": 18,
     "metadata": {},
     "output_type": "execute_result"
    }
   ],
   "source": [
    "# Check that it worked\n",
    "chd_positive.describe()"
   ]
  },
  {
   "cell_type": "code",
   "execution_count": 19,
   "metadata": {},
   "outputs": [
    {
     "name": "stdout",
     "output_type": "stream",
     "text": [
      "Mean for CHD Positive:\n",
      "[[0.26426823 0.41177089 0.36139839 0.34912802 0.14172199 0.13751694\n",
      "  0.0859086  0.51241433]]\n",
      "Mean for CHD Negative:\n",
      "[[-0.14000966 -0.21815676 -0.19146935 -0.18496849 -0.0750845  -0.07285666\n",
      "  -0.04551449 -0.27147779]]\n"
     ]
    }
   ],
   "source": [
    "# Lets check the mean of each class to get a first look at the seperation\n",
    "print(\"Mean for CHD Positive:\")\n",
    "print(np.array([chd_positive.mean()[0:8]]))\n",
    "print(\"Mean for CHD Negative:\")\n",
    "print(np.array([chd_negative.mean()[0:8]]))"
   ]
  },
  {
   "cell_type": "code",
   "execution_count": 20,
   "metadata": {},
   "outputs": [
    {
     "data": {
      "text/html": [
       "<div>\n",
       "<style scoped>\n",
       "    .dataframe tbody tr th:only-of-type {\n",
       "        vertical-align: middle;\n",
       "    }\n",
       "\n",
       "    .dataframe tbody tr th {\n",
       "        vertical-align: top;\n",
       "    }\n",
       "\n",
       "    .dataframe thead th {\n",
       "        text-align: right;\n",
       "    }\n",
       "</style>\n",
       "<table border=\"1\" class=\"dataframe\">\n",
       "  <thead>\n",
       "    <tr style=\"text-align: right;\">\n",
       "      <th></th>\n",
       "      <th>sbp</th>\n",
       "      <th>tobacco</th>\n",
       "      <th>ldl</th>\n",
       "      <th>adiposity</th>\n",
       "      <th>typea</th>\n",
       "      <th>obesity</th>\n",
       "      <th>alcohol</th>\n",
       "      <th>age</th>\n",
       "      <th>chd</th>\n",
       "    </tr>\n",
       "  </thead>\n",
       "  <tbody>\n",
       "    <tr>\n",
       "      <th>0</th>\n",
       "      <td>1.058564</td>\n",
       "      <td>1.823073</td>\n",
       "      <td>0.478412</td>\n",
       "      <td>-0.295503</td>\n",
       "      <td>-0.418470</td>\n",
       "      <td>-0.176786</td>\n",
       "      <td>3.277738</td>\n",
       "      <td>0.629336</td>\n",
       "      <td>1</td>\n",
       "    </tr>\n",
       "    <tr>\n",
       "      <th>1</th>\n",
       "      <td>0.277089</td>\n",
       "      <td>-0.790237</td>\n",
       "      <td>-0.159680</td>\n",
       "      <td>0.412140</td>\n",
       "      <td>0.193344</td>\n",
       "      <td>0.671373</td>\n",
       "      <td>-0.612745</td>\n",
       "      <td>1.383115</td>\n",
       "      <td>1</td>\n",
       "    </tr>\n",
       "    <tr>\n",
       "      <th>3</th>\n",
       "      <td>1.546985</td>\n",
       "      <td>0.842264</td>\n",
       "      <td>0.807126</td>\n",
       "      <td>1.624141</td>\n",
       "      <td>-0.214532</td>\n",
       "      <td>1.412621</td>\n",
       "      <td>0.295062</td>\n",
       "      <td>1.040488</td>\n",
       "      <td>1</td>\n",
       "    </tr>\n",
       "    <tr>\n",
       "      <th>4</th>\n",
       "      <td>-0.211332</td>\n",
       "      <td>2.171805</td>\n",
       "      <td>-0.599577</td>\n",
       "      <td>0.305351</td>\n",
       "      <td>0.703189</td>\n",
       "      <td>-0.012856</td>\n",
       "      <td>1.647775</td>\n",
       "      <td>0.423760</td>\n",
       "      <td>1</td>\n",
       "    </tr>\n",
       "    <tr>\n",
       "      <th>7</th>\n",
       "      <td>-1.188175</td>\n",
       "      <td>0.096850</td>\n",
       "      <td>-0.072667</td>\n",
       "      <td>-1.390421</td>\n",
       "      <td>0.907127</td>\n",
       "      <td>-0.697085</td>\n",
       "      <td>-0.422187</td>\n",
       "      <td>1.040488</td>\n",
       "      <td>1</td>\n",
       "    </tr>\n",
       "    <tr>\n",
       "      <th>...</th>\n",
       "      <td>...</td>\n",
       "      <td>...</td>\n",
       "      <td>...</td>\n",
       "      <td>...</td>\n",
       "      <td>...</td>\n",
       "      <td>...</td>\n",
       "      <td>...</td>\n",
       "      <td>...</td>\n",
       "      <td>...</td>\n",
       "    </tr>\n",
       "    <tr>\n",
       "      <th>453</th>\n",
       "      <td>-0.699754</td>\n",
       "      <td>-0.443685</td>\n",
       "      <td>1.198683</td>\n",
       "      <td>1.836434</td>\n",
       "      <td>-1.744067</td>\n",
       "      <td>1.296207</td>\n",
       "      <td>-0.696983</td>\n",
       "      <td>0.560810</td>\n",
       "      <td>1</td>\n",
       "    </tr>\n",
       "    <tr>\n",
       "      <th>454</th>\n",
       "      <td>0.374774</td>\n",
       "      <td>-0.652924</td>\n",
       "      <td>0.038515</td>\n",
       "      <td>0.336230</td>\n",
       "      <td>0.703189</td>\n",
       "      <td>0.490812</td>\n",
       "      <td>-0.360440</td>\n",
       "      <td>-0.261494</td>\n",
       "      <td>1</td>\n",
       "    </tr>\n",
       "    <tr>\n",
       "      <th>455</th>\n",
       "      <td>-0.504385</td>\n",
       "      <td>-0.304192</td>\n",
       "      <td>-0.923457</td>\n",
       "      <td>0.138089</td>\n",
       "      <td>-0.520439</td>\n",
       "      <td>-0.495142</td>\n",
       "      <td>1.242125</td>\n",
       "      <td>-1.083798</td>\n",
       "      <td>1</td>\n",
       "    </tr>\n",
       "    <tr>\n",
       "      <th>458</th>\n",
       "      <td>2.133091</td>\n",
       "      <td>0.123004</td>\n",
       "      <td>-0.159680</td>\n",
       "      <td>0.861173</td>\n",
       "      <td>-0.112563</td>\n",
       "      <td>0.609602</td>\n",
       "      <td>0.068519</td>\n",
       "      <td>0.629336</td>\n",
       "      <td>1</td>\n",
       "    </tr>\n",
       "    <tr>\n",
       "      <th>461</th>\n",
       "      <td>-0.309016</td>\n",
       "      <td>-0.792417</td>\n",
       "      <td>0.038515</td>\n",
       "      <td>1.029720</td>\n",
       "      <td>0.907127</td>\n",
       "      <td>-2.695129</td>\n",
       "      <td>-0.696983</td>\n",
       "      <td>0.218184</td>\n",
       "      <td>1</td>\n",
       "    </tr>\n",
       "  </tbody>\n",
       "</table>\n",
       "<p>160 rows × 9 columns</p>\n",
       "</div>"
      ],
      "text/plain": [
       "          sbp   tobacco       ldl  adiposity     typea   obesity   alcohol  \\\n",
       "0    1.058564  1.823073  0.478412  -0.295503 -0.418470 -0.176786  3.277738   \n",
       "1    0.277089 -0.790237 -0.159680   0.412140  0.193344  0.671373 -0.612745   \n",
       "3    1.546985  0.842264  0.807126   1.624141 -0.214532  1.412621  0.295062   \n",
       "4   -0.211332  2.171805 -0.599577   0.305351  0.703189 -0.012856  1.647775   \n",
       "7   -1.188175  0.096850 -0.072667  -1.390421  0.907127 -0.697085 -0.422187   \n",
       "..        ...       ...       ...        ...       ...       ...       ...   \n",
       "453 -0.699754 -0.443685  1.198683   1.836434 -1.744067  1.296207 -0.696983   \n",
       "454  0.374774 -0.652924  0.038515   0.336230  0.703189  0.490812 -0.360440   \n",
       "455 -0.504385 -0.304192 -0.923457   0.138089 -0.520439 -0.495142  1.242125   \n",
       "458  2.133091  0.123004 -0.159680   0.861173 -0.112563  0.609602  0.068519   \n",
       "461 -0.309016 -0.792417  0.038515   1.029720  0.907127 -2.695129 -0.696983   \n",
       "\n",
       "          age  chd  \n",
       "0    0.629336    1  \n",
       "1    1.383115    1  \n",
       "3    1.040488    1  \n",
       "4    0.423760    1  \n",
       "7    1.040488    1  \n",
       "..        ...  ...  \n",
       "453  0.560810    1  \n",
       "454 -0.261494    1  \n",
       "455 -1.083798    1  \n",
       "458  0.629336    1  \n",
       "461  0.218184    1  \n",
       "\n",
       "[160 rows x 9 columns]"
      ]
     },
     "execution_count": 20,
     "metadata": {},
     "output_type": "execute_result"
    }
   ],
   "source": [
    "chd_positive"
   ]
  },
  {
   "cell_type": "code",
   "execution_count": 21,
   "metadata": {},
   "outputs": [
    {
     "data": {
      "text/html": [
       "<div>\n",
       "<style scoped>\n",
       "    .dataframe tbody tr th:only-of-type {\n",
       "        vertical-align: middle;\n",
       "    }\n",
       "\n",
       "    .dataframe tbody tr th {\n",
       "        vertical-align: top;\n",
       "    }\n",
       "\n",
       "    .dataframe thead th {\n",
       "        text-align: right;\n",
       "    }\n",
       "</style>\n",
       "<table border=\"1\" class=\"dataframe\">\n",
       "  <thead>\n",
       "    <tr style=\"text-align: right;\">\n",
       "      <th></th>\n",
       "      <th>sbp</th>\n",
       "      <th>tobacco</th>\n",
       "      <th>ldl</th>\n",
       "      <th>adiposity</th>\n",
       "      <th>typea</th>\n",
       "      <th>obesity</th>\n",
       "      <th>alcohol</th>\n",
       "      <th>age</th>\n",
       "      <th>chd</th>\n",
       "    </tr>\n",
       "  </thead>\n",
       "  <tbody>\n",
       "    <tr>\n",
       "      <th>2</th>\n",
       "      <td>-0.992806</td>\n",
       "      <td>-0.774980</td>\n",
       "      <td>-0.609245</td>\n",
       "      <td>0.884332</td>\n",
       "      <td>-0.112563</td>\n",
       "      <td>0.735519</td>\n",
       "      <td>-0.541183</td>\n",
       "      <td>0.218184</td>\n",
       "      <td>0</td>\n",
       "    </tr>\n",
       "    <tr>\n",
       "      <th>5</th>\n",
       "      <td>-0.309016</td>\n",
       "      <td>0.558919</td>\n",
       "      <td>0.836130</td>\n",
       "      <td>1.389975</td>\n",
       "      <td>0.907127</td>\n",
       "      <td>1.122774</td>\n",
       "      <td>-0.118767</td>\n",
       "      <td>0.149658</td>\n",
       "      <td>0</td>\n",
       "    </tr>\n",
       "    <tr>\n",
       "      <th>6</th>\n",
       "      <td>0.179405</td>\n",
       "      <td>0.090311</td>\n",
       "      <td>-0.657585</td>\n",
       "      <td>-1.184561</td>\n",
       "      <td>0.601220</td>\n",
       "      <td>-1.243518</td>\n",
       "      <td>-0.589845</td>\n",
       "      <td>-0.330019</td>\n",
       "      <td>0</td>\n",
       "    </tr>\n",
       "    <tr>\n",
       "      <th>8</th>\n",
       "      <td>-1.188175</td>\n",
       "      <td>-0.792417</td>\n",
       "      <td>-0.440054</td>\n",
       "      <td>-0.772841</td>\n",
       "      <td>-0.418470</td>\n",
       "      <td>-0.281321</td>\n",
       "      <td>-0.595161</td>\n",
       "      <td>-0.946748</td>\n",
       "      <td>0</td>\n",
       "    </tr>\n",
       "    <tr>\n",
       "      <th>12</th>\n",
       "      <td>-0.992806</td>\n",
       "      <td>-0.792417</td>\n",
       "      <td>-1.382690</td>\n",
       "      <td>-1.975835</td>\n",
       "      <td>0.601220</td>\n",
       "      <td>-1.062957</td>\n",
       "      <td>-0.696983</td>\n",
       "      <td>-1.769052</td>\n",
       "      <td>0</td>\n",
       "    </tr>\n",
       "    <tr>\n",
       "      <th>...</th>\n",
       "      <td>...</td>\n",
       "      <td>...</td>\n",
       "      <td>...</td>\n",
       "      <td>...</td>\n",
       "      <td>...</td>\n",
       "      <td>...</td>\n",
       "      <td>...</td>\n",
       "      <td>...</td>\n",
       "      <td>...</td>\n",
       "    </tr>\n",
       "    <tr>\n",
       "      <th>452</th>\n",
       "      <td>0.765511</td>\n",
       "      <td>0.412888</td>\n",
       "      <td>-0.744598</td>\n",
       "      <td>0.437873</td>\n",
       "      <td>0.805158</td>\n",
       "      <td>0.025157</td>\n",
       "      <td>1.052794</td>\n",
       "      <td>-0.055918</td>\n",
       "      <td>0</td>\n",
       "    </tr>\n",
       "    <tr>\n",
       "      <th>456</th>\n",
       "      <td>1.546985</td>\n",
       "      <td>-0.705234</td>\n",
       "      <td>-0.304701</td>\n",
       "      <td>2.142651</td>\n",
       "      <td>0.295313</td>\n",
       "      <td>1.676334</td>\n",
       "      <td>-0.612745</td>\n",
       "      <td>0.971963</td>\n",
       "      <td>0</td>\n",
       "    </tr>\n",
       "    <tr>\n",
       "      <th>457</th>\n",
       "      <td>3.696039</td>\n",
       "      <td>-0.705234</td>\n",
       "      <td>0.599263</td>\n",
       "      <td>0.812281</td>\n",
       "      <td>1.111065</td>\n",
       "      <td>0.571590</td>\n",
       "      <td>-0.696983</td>\n",
       "      <td>1.040488</td>\n",
       "      <td>0</td>\n",
       "    </tr>\n",
       "    <tr>\n",
       "      <th>459</th>\n",
       "      <td>-1.481228</td>\n",
       "      <td>-0.138545</td>\n",
       "      <td>-1.522877</td>\n",
       "      <td>-1.309364</td>\n",
       "      <td>-1.336191</td>\n",
       "      <td>-1.414575</td>\n",
       "      <td>0.392385</td>\n",
       "      <td>0.834912</td>\n",
       "      <td>0</td>\n",
       "    </tr>\n",
       "    <tr>\n",
       "      <th>460</th>\n",
       "      <td>-0.992806</td>\n",
       "      <td>0.384553</td>\n",
       "      <td>3.320823</td>\n",
       "      <td>0.692625</td>\n",
       "      <td>1.111065</td>\n",
       "      <td>0.310252</td>\n",
       "      <td>0.283203</td>\n",
       "      <td>-0.192969</td>\n",
       "      <td>0</td>\n",
       "    </tr>\n",
       "  </tbody>\n",
       "</table>\n",
       "<p>302 rows × 9 columns</p>\n",
       "</div>"
      ],
      "text/plain": [
       "          sbp   tobacco       ldl  adiposity     typea   obesity   alcohol  \\\n",
       "2   -0.992806 -0.774980 -0.609245   0.884332 -0.112563  0.735519 -0.541183   \n",
       "5   -0.309016  0.558919  0.836130   1.389975  0.907127  1.122774 -0.118767   \n",
       "6    0.179405  0.090311 -0.657585  -1.184561  0.601220 -1.243518 -0.589845   \n",
       "8   -1.188175 -0.792417 -0.440054  -0.772841 -0.418470 -0.281321 -0.595161   \n",
       "12  -0.992806 -0.792417 -1.382690  -1.975835  0.601220 -1.062957 -0.696983   \n",
       "..        ...       ...       ...        ...       ...       ...       ...   \n",
       "452  0.765511  0.412888 -0.744598   0.437873  0.805158  0.025157  1.052794   \n",
       "456  1.546985 -0.705234 -0.304701   2.142651  0.295313  1.676334 -0.612745   \n",
       "457  3.696039 -0.705234  0.599263   0.812281  1.111065  0.571590 -0.696983   \n",
       "459 -1.481228 -0.138545 -1.522877  -1.309364 -1.336191 -1.414575  0.392385   \n",
       "460 -0.992806  0.384553  3.320823   0.692625  1.111065  0.310252  0.283203   \n",
       "\n",
       "          age  chd  \n",
       "2    0.218184    0  \n",
       "5    0.149658    0  \n",
       "6   -0.330019    0  \n",
       "8   -0.946748    0  \n",
       "12  -1.769052    0  \n",
       "..        ...  ...  \n",
       "452 -0.055918    0  \n",
       "456  0.971963    0  \n",
       "457  1.040488    0  \n",
       "459  0.834912    0  \n",
       "460 -0.192969    0  \n",
       "\n",
       "[302 rows x 9 columns]"
      ]
     },
     "execution_count": 21,
     "metadata": {},
     "output_type": "execute_result"
    }
   ],
   "source": [
    "chd_negative"
   ]
  },
  {
   "cell_type": "code",
   "execution_count": 69,
   "metadata": {},
   "outputs": [],
   "source": [
    "### chd_negative\n",
    "from scipy.stats import beta\n",
    "from scipy.stats import norm\n",
    "from math import sqrt\n",
    "a = 9\n",
    "b = 160*8\n",
    "u_prior = 0\n",
    "mean = np.array([chd_positive.mean()[0:8]])\n",
    "u_post_p = (1*u_prior + b*mean)/(a+b)\n",
    "var_post_p = sqrt(1/(a+b))"
   ]
  },
  {
   "cell_type": "code",
   "execution_count": 71,
   "metadata": {},
   "outputs": [
    {
     "data": {
      "text/plain": [
       "array([[0.26242306, 0.40889584, 0.35887505, 0.34669035, 0.14073247,\n",
       "        0.13655677, 0.08530877, 0.50883657]])"
      ]
     },
     "execution_count": 71,
     "metadata": {},
     "output_type": "execute_result"
    }
   ],
   "source": [
    "u_post_p"
   ]
  },
  {
   "cell_type": "code",
   "execution_count": 72,
   "metadata": {},
   "outputs": [
    {
     "data": {
      "text/plain": [
       "0.027853100187767637"
      ]
     },
     "execution_count": 72,
     "metadata": {},
     "output_type": "execute_result"
    }
   ],
   "source": [
    "var_post_p"
   ]
  },
  {
   "cell_type": "code",
   "execution_count": 74,
   "metadata": {},
   "outputs": [],
   "source": [
    "### chd_negative\n",
    "a = 9\n",
    "b = 302*8\n",
    "u_prior = 0\n",
    "mean = np.array([chd_negative.mean()[0:8]])\n",
    "u_post_n = (1*u_prior + b*mean)/(a+b)\n",
    "var_post_n = sqrt(1/(a+b))"
   ]
  },
  {
   "cell_type": "code",
   "execution_count": 75,
   "metadata": {},
   "outputs": [
    {
     "data": {
      "text/plain": [
       "array([[-0.13949003, -0.21734711, -0.19075874, -0.18428201, -0.07480584,\n",
       "        -0.07258626, -0.04534557, -0.27047024]])"
      ]
     },
     "execution_count": 75,
     "metadata": {},
     "output_type": "execute_result"
    }
   ],
   "source": [
    "u_post_n "
   ]
  },
  {
   "cell_type": "code",
   "execution_count": 76,
   "metadata": {},
   "outputs": [
    {
     "data": {
      "text/plain": [
       "0.02030692330267238"
      ]
     },
     "execution_count": 76,
     "metadata": {},
     "output_type": "execute_result"
    }
   ],
   "source": [
    "var_post_n"
   ]
  },
  {
   "cell_type": "markdown",
   "metadata": {},
   "source": [
    "## Problem 7"
   ]
  },
  {
   "cell_type": "code",
   "execution_count": 94,
   "metadata": {},
   "outputs": [],
   "source": [
    "from scipy.stats import beta\n",
    "from scipy.stats import norm\n",
    "\n",
    "def posterior_from_conjugate_prior(**kwargs):\n",
    "    if kwargs['Likelihood_Dist_Type'] == 'Binomial':\n",
    "        # Get the parameters for the likelihood and prior distribution from the key word arguments.\n",
    "        x = kwargs['x']\n",
    "        n = kwargs['n']\n",
    "        k = kwargs['k']\n",
    "        a = kwargs['a']\n",
    "        b = kwargs['b']\n",
    "        \n",
    "        print(f'a_prime = {k + a}.')\n",
    "        print(f'b_prime = {n - k + b}.')\n",
    "        Likelihood = binom.pmf(p=x, n=n, k=k)\n",
    "        Prior = beta.pdf(x=x, a=a, b=b)\n",
    "        Posterior = beta.pdf(x=x, a=k+a, b=n-k+b)\n",
    "        \n",
    "        return [Prior, Likelihood, Posterior]\n",
    "    \n",
    "    elif kwargs['Likelihood_Dist_Type'] == 'Gaussian_Known_Variance':\n",
    "        # Get the parameters for the likelihood and prior distribution from the key word arguments.\n",
    "        x = kwargs['x']\n",
    "        n= len(x)\n",
    "        mu = kwargs['mu']\n",
    "        var = kwargs['var']\n",
    "        prior_mu = kwargs['prior_mu']\n",
    "        prior_var = kwargs['prior_var']\n",
    "        print(kwargs)\n",
    "\n",
    "        \n",
    "        # To answer the challenge question, modify this section with the correct formulas\n",
    "        x_bar = np.mean(x)\n",
    "        mu_prime = (prior_mu*var + n*x_bar*prior_var)/(var+n*prior_var)\n",
    "        var_prime =(prior_var*var)/(var+n*prior_var)\n",
    "        print(f'mu_prime = {mu_prime:.2f}.')\n",
    "        print(f'var_prime = {var_prime: .2f}.')\n",
    "        Likelihood = norm.pdf(x, loc = mu, scale=var**(.5))\n",
    "        Prior = norm.pdf(x= x, loc = prior_mu, scale = prior_var**(.5))\n",
    "        Posterior = norm.pdf(x= x, loc = mu_prime, scale = var_prime**(.50))\n",
    "        \n",
    "        return [Prior, Likelihood, Posterior]\n",
    "    \n",
    "    else:\n",
    "        print('Distribution type not supported.') \n",
    "        return -1, -1, -1"
   ]
  },
  {
   "cell_type": "code",
   "execution_count": 95,
   "metadata": {},
   "outputs": [
    {
     "name": "stdout",
     "output_type": "stream",
     "text": [
      "{'Likelihood_Dist_Type': 'Gaussian_Known_Variance', 'x': array([-5.  , -4.99, -4.98, ..., 79.97, 79.98, 79.99]), 'mu': 50, 'var': 21, 'prior_mu': 0.5, 'prior_var': 1}\n",
      "mu_prime = 37.40.\n",
      "var_prime =  0.00.\n"
     ]
    }
   ],
   "source": [
    "import numpy as np\n",
    "x = np.arange(-5, 80, 0.01)\n",
    "Prior, Likelihood, Posterior = posterior_from_conjugate_prior(Likelihood_Dist_Type='Gaussian_Known_Variance', x=x, mu=50, var=21, prior_mu=0.5, prior_var=1)    "
   ]
  },
  {
   "cell_type": "code",
   "execution_count": 96,
   "metadata": {},
   "outputs": [
    {
     "name": "stdout",
     "output_type": "stream",
     "text": [
      "{'Likelihood_Dist_Type': 'Gaussian_Known_Variance', 'x': array([-5.  , -4.99, -4.98, ..., 79.97, 79.98, 79.99]), 'theta': 5, 'n': 100, 'k': 21, 'mu': 50, 'var': 21, 'prior_mu': 0.5, 'prior_var': 1}\n",
      "mu_prime = 37.40.\n",
      "var_prime =  0.00.\n"
     ]
    },
    {
     "data": {
      "image/png": "[encoded data removed]",
      "text/plain": [
       "<Figure size 684x360 with 1 Axes>"
      ]
     },
     "metadata": {},
     "output_type": "display_data"
    },
    {
     "data": {
      "image/png": "[encoded data removed]",
      "text/plain": [
       "<Figure size 684x360 with 1 Axes>"
      ]
     },
     "metadata": {},
     "output_type": "display_data"
    },
    {
     "data": {
      "image/png": "[encoded data removed]",
      "text/plain": [
       "<Figure size 684x360 with 1 Axes>"
      ]
     },
     "metadata": {},
     "output_type": "display_data"
    }
   ],
   "source": [
    "import numpy as np\n",
    "import pandas as pd\n",
    "\n",
    "# import matplotlib\n",
    "import matplotlib.pyplot as plt\n",
    "# import seaborn\n",
    "import seaborn as sns\n",
    "# settings for seaborn plotting style\n",
    "sns.set(color_codes=True)\n",
    "# settings for seaborn plot sizes\n",
    "sns.set(rc={'figure.figsize':(9.5,5)})\n",
    "\n",
    "x = np.arange(-5, 80, 0.01)\n",
    "Prior, Likelihood, Posterior = posterior_from_conjugate_prior(Likelihood_Dist_Type='Gaussian_Known_Variance', x=x, theta= 5, n=100, k = 21, mu=50, var=21, prior_mu=0.5, prior_var=1)    \n",
    "\n",
    "ax1 = sns.lineplot(x, Prior, color='red')\n",
    "ax1.set(xlabel='x', ylabel='f(x)', title=f'Prior PDF');\n",
    "plt.legend(labels=['Prior PDF']);\n",
    "plt.show()\n",
    "\n",
    "ax2 = sns.lineplot(x, Likelihood)\n",
    "ax2.set(xlabel='x', ylabel='f(x)', title=f'Likelihood Function');\n",
    "plt.legend(labels=['Likelihood Function']);\n",
    "plt.show()\n",
    "\n",
    "ax3 = sns.lineplot(x, Posterior, color='orange')\n",
    "ax3.set(xlabel='x', ylabel='f(x)', title=f'Posterior PDF');\n",
    "plt.legend(labels=['Posterior PDF']);\n",
    "plt.show()"
   ]
  }
 ],
 "metadata": {
  "kernelspec": {
   "display_name": "Python 3",
   "language": "python",
   "name": "python3"
  },
  "language_info": {
   "codemirror_mode": {
    "name": "ipython",
    "version": 3
   },
   "file_extension": ".py",
   "mimetype": "text/x-python",
   "name": "python",
   "nbconvert_exporter": "python",
   "pygments_lexer": "ipython3",
   "version": "3.8.3"
  }
 },
 "nbformat": 4,
 "nbformat_minor": 4
}
